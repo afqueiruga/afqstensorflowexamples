{
 "cells": [
  {
   "cell_type": "markdown",
   "metadata": {
    "deletable": true,
    "editable": true
   },
   "source": [
    "# Loading and inspecting a model\n",
    "\n",
    "We eventually want to load up the model we trained and use it for stuff. I don't know why this isn't covered more in the docs. Here, we load the graph, the latest set of variables, and then make and write a new graph after \"freezing\" all of the trained variables to turn them into constants."
   ]
  },
  {
   "cell_type": "markdown",
   "metadata": {
    "deletable": true,
    "editable": true
   },
   "source": [
    "## Reading and inspecting it\n",
    "\n",
    "We load those files and find the input and output entities of the graph. The graph file is kinda just a bag-o-nodes, so we have to give them useful names when we're building the graph originally. We also can't automatically find the inputs... with anything built into tensorflow."
   ]
  },
  {
   "cell_type": "code",
   "execution_count": 1,
   "metadata": {
    "collapsed": false,
    "deletable": true,
    "editable": true,
    "scrolled": true
   },
   "outputs": [
    {
     "name": "stdout",
     "output_type": "stream",
     "text": [
      "INFO:tensorflow:Restoring parameters from savemymodel\n"
     ]
    }
   ],
   "source": [
    "import tensorflow as tf\n",
    "graph = tf.Graph()\n",
    "sess = tf.InteractiveSession(graph=graph)\n",
    "saver = tf.train.import_meta_graph('savemymodel.meta')\n",
    "saver.restore(sess,'savemymodel')\n",
    "tf_x =graph.get_tensor_by_name('THEINPUT:0') \n",
    "model=graph.get_tensor_by_name('THEMODEL:0')"
   ]
  },
  {
   "cell_type": "markdown",
   "metadata": {
    "deletable": true,
    "editable": true
   },
   "source": [
    "Verify that it looks right:"
   ]
  },
  {
   "cell_type": "code",
   "execution_count": 2,
   "metadata": {
    "collapsed": false,
    "deletable": true,
    "editable": true
   },
   "outputs": [
    {
     "data": {
      "image/png": "[encoded data removed]",
      "text/plain": [
       "<matplotlib.figure.Figure at 0x7fadf008d9d0>"
      ]
     },
     "metadata": {},
     "output_type": "display_data"
    }
   ],
   "source": [
    "from matplotlib import pylab as plt\n",
    "import numpy as np\n",
    "plt.close('all')\n",
    "for n in np.linspace(-0.5,0.5,4):\n",
    "    xx = np.zeros((100,2))\n",
    "    strip = np.linspace(-0.5,0.5,100)\n",
    "    xx[:,0] = strip\n",
    "    xx[:,1] = n\n",
    "    yy = model.eval(feed_dict={tf_x: xx}, session=sess)\n",
    "    plt.plot(strip,yy,'-')\n",
    "plt.show()"
   ]
  },
  {
   "cell_type": "markdown",
   "metadata": {
    "deletable": true,
    "editable": true
   },
   "source": [
    "Lets walk the TensorFlow operation tree and see what it looks like:"
   ]
  },
  {
   "cell_type": "code",
   "execution_count": 3,
   "metadata": {
    "collapsed": false,
    "deletable": true,
    "editable": true,
    "scrolled": true
   },
   "outputs": [
    {
     "name": "stdout",
     "output_type": "stream",
     "text": [
      "THEMODEL  :  Add\n",
      "    MatMul  :  MatMul\n",
      "        THEINPUT  :  Placeholder\n",
      "        Reshape  :  Reshape\n",
      "            strided_slice  :  StridedSlice\n",
      "                Variable/read  :  Identity\n",
      "                    Variable  :  VariableV2\n",
      "                strided_slice/stack  :  Const\n",
      "                strided_slice/stack_2  :  Pack\n",
      "                    strided_slice/stack_2/values_0  :  Const\n",
      "                strided_slice/stack_3  :  Const\n",
      "            Reshape/shape  :  Const\n",
      "    strided_slice_1  :  StridedSlice\n",
      "        Variable/read  :  Identity\n",
      "            Variable  :  VariableV2\n",
      "        strided_slice_1/stack  :  Const\n",
      "        strided_slice_1/stack_1  :  Const\n",
      "        strided_slice_1/stack_2  :  Const\n"
     ]
    }
   ],
   "source": [
    "from afqstensorutils import *\n",
    "travel_op((model.op))"
   ]
  },
  {
   "cell_type": "markdown",
   "metadata": {
    "deletable": true,
    "editable": true
   },
   "source": [
    "## Freezing the model\n",
    "\n",
    "What we loaded was the graph that was being operated on during optimization. We're done optimizing (for now), so we want to trim down the graph into something that's faster to evaluate and load. This library routine almost does the trick: "
   ]
  },
  {
   "cell_type": "code",
   "execution_count": 4,
   "metadata": {
    "collapsed": false,
    "deletable": true,
    "editable": true,
    "scrolled": true
   },
   "outputs": [
    {
     "name": "stdout",
     "output_type": "stream",
     "text": [
      "INFO:tensorflow:Froze 1 variables.\n",
      "Converted 1 variables to const ops.\n"
     ]
    }
   ],
   "source": [
    "output_graph_def = \\\n",
    "tf.graph_util.convert_variables_to_constants(sess,graph.as_graph_def(),[\"THEMODEL\"])"
   ]
  },
  {
   "cell_type": "markdown",
   "metadata": {
    "deletable": true,
    "editable": true
   },
   "source": [
    "But now we need to turn this graph_def object into a graph, and fetch the nodes"
   ]
  },
  {
   "cell_type": "code",
   "execution_count": 5,
   "metadata": {
    "collapsed": true,
    "deletable": true,
    "editable": true
   },
   "outputs": [],
   "source": [
    "a,b=tf.import_graph_def(output_graph_def,return_elements=['THEINPUT:0','THEMODEL:0'])"
   ]
  },
  {
   "cell_type": "code",
   "execution_count": 6,
   "metadata": {
    "collapsed": false,
    "deletable": true,
    "editable": true,
    "scrolled": true
   },
   "outputs": [
    {
     "data": {
      "text/plain": [
       "<tf.Tensor 'import/THEINPUT:0' shape=(?, 2) dtype=float32>"
      ]
     },
     "execution_count": 6,
     "metadata": {},
     "output_type": "execute_result"
    }
   ],
   "source": [
    "a"
   ]
  },
  {
   "cell_type": "markdown",
   "metadata": {
    "deletable": true,
    "editable": true
   },
   "source": [
    "Can we evaluate it?"
   ]
  },
  {
   "cell_type": "code",
   "execution_count": 7,
   "metadata": {
    "collapsed": false,
    "deletable": true,
    "editable": true,
    "scrolled": true
   },
   "outputs": [
    {
     "data": {
      "text/plain": [
       "array([[-0.37182826]], dtype=float32)"
      ]
     },
     "execution_count": 7,
     "metadata": {},
     "output_type": "execute_result"
    }
   ],
   "source": [
    "b.eval(feed_dict={a:np.array([[1.0,2.0]])},session=sess)"
   ]
  },
  {
   "cell_type": "markdown",
   "metadata": {
    "deletable": true,
    "editable": true
   },
   "source": [
    "Lets travel the op and see how it compares to what we loaded. It looks exactly the same, but with all the variables replaced by constants. "
   ]
  },
  {
   "cell_type": "code",
   "execution_count": 8,
   "metadata": {
    "collapsed": false,
    "deletable": true,
    "editable": true,
    "scrolled": true
   },
   "outputs": [
    {
     "name": "stdout",
     "output_type": "stream",
     "text": [
      "import/THEMODEL  :  Add\n",
      "    import/MatMul  :  MatMul\n",
      "        import/THEINPUT  :  Placeholder\n",
      "        import/Reshape  :  Reshape\n",
      "            import/strided_slice  :  StridedSlice\n",
      "                import/Variable/read  :  Identity\n",
      "                    import/Variable  :  Const\n",
      "                import/strided_slice/stack  :  Const\n",
      "                import/strided_slice/stack_2  :  Pack\n",
      "                    import/strided_slice/stack_2/values_0  :  Const\n",
      "                import/strided_slice/stack_3  :  Const\n",
      "            import/Reshape/shape  :  Const\n",
      "    import/strided_slice_1  :  StridedSlice\n",
      "        import/Variable/read  :  Identity\n",
      "            import/Variable  :  Const\n",
      "        import/strided_slice_1/stack  :  Const\n",
      "        import/strided_slice_1/stack_1  :  Const\n",
      "        import/strided_slice_1/stack_2  :  Const\n"
     ]
    }
   ],
   "source": [
    "travel_op(b.op)"
   ]
  },
  {
   "cell_type": "markdown",
   "metadata": {
    "deletable": true,
    "editable": true
   },
   "source": [
    "Some example code mentioned this, but it's not the way to do it anymore, it seems."
   ]
  },
  {
   "cell_type": "code",
   "execution_count": 9,
   "metadata": {
    "collapsed": true,
    "deletable": true,
    "editable": true
   },
   "outputs": [],
   "source": [
    "#from tensorflow.python.tools import freeze_graph"
   ]
  },
  {
   "cell_type": "markdown",
   "metadata": {
    "deletable": true,
    "editable": true
   },
   "source": [
    "## Saving the graph\n",
    "Now let's save the new graph. We have to do something with the session or else we'll end up with everything in the file."
   ]
  },
  {
   "cell_type": "code",
   "execution_count": 10,
   "metadata": {
    "collapsed": false,
    "deletable": true,
    "editable": true
   },
   "outputs": [
    {
     "name": "stdout",
     "output_type": "stream",
     "text": [
      "INFO:tensorflow:Froze 1 variables.\n",
      "Converted 1 variables to const ops.\n"
     ]
    }
   ],
   "source": [
    "saver = tf.train.Saver()\n",
    "saver.save(sess,'./frozenmodel')\n",
    "output_graph_def = \\\n",
    "    tf.graph_util.convert_variables_to_constants(sess,graph.as_graph_def(),[\"THEMODEL\"])\n",
    "a,b=tf.import_graph_def(output_graph_def,return_elements=['THEINPUT:0','THEMODEL:0'])\n",
    "meta_graph_def = tf.train.export_meta_graph(filename=\"frozenmodel.meta\")\n"
   ]
  },
  {
   "cell_type": "markdown",
   "metadata": {
    "deletable": true,
    "editable": true
   },
   "source": [
    "Now we start a new session to load it up and see what's in there."
   ]
  },
  {
   "cell_type": "code",
   "execution_count": 11,
   "metadata": {
    "collapsed": false,
    "deletable": true,
    "editable": true,
    "scrolled": true
   },
   "outputs": [
    {
     "name": "stdout",
     "output_type": "stream",
     "text": [
      "INFO:tensorflow:Restoring parameters from frozenmodel\n"
     ]
    }
   ],
   "source": [
    "graph2 = tf.Graph()\n",
    "with tf.Session(graph=graph2) as sess2:\n",
    "    saver2 = tf.train.import_meta_graph('frozenmodel.meta')\n",
    "    saver2.restore(sess2,'frozenmodel')\n",
    "    tf_x =graph2.get_tensor_by_name('THEINPUT:0') \n",
    "    model=graph2.get_tensor_by_name('THEMODEL:0')"
   ]
  },
  {
   "cell_type": "code",
   "execution_count": 12,
   "metadata": {
    "collapsed": false,
    "deletable": true,
    "editable": true
   },
   "outputs": [
    {
     "data": {
      "text/plain": [
       "[<tf.Operation 'THEINPUT' type=Placeholder>,\n",
       " <tf.Operation 'Placeholder' type=Placeholder>,\n",
       " <tf.Operation 'zeros' type=Const>,\n",
       " <tf.Operation 'Variable' type=VariableV2>,\n",
       " <tf.Operation 'Variable/Assign' type=Assign>,\n",
       " <tf.Operation 'Variable/read' type=Identity>,\n",
       " <tf.Operation 'strided_slice/stack' type=Const>,\n",
       " <tf.Operation 'strided_slice/stack_1' type=Const>,\n",
       " <tf.Operation 'strided_slice/stack_2/values_0' type=Const>,\n",
       " <tf.Operation 'strided_slice/stack_2' type=Pack>,\n",
       " <tf.Operation 'strided_slice/stack_3' type=Const>,\n",
       " <tf.Operation 'strided_slice' type=StridedSlice>,\n",
       " <tf.Operation 'Reshape/shape' type=Const>,\n",
       " <tf.Operation 'Reshape' type=Reshape>,\n",
       " <tf.Operation 'strided_slice_1/stack' type=Const>,\n",
       " <tf.Operation 'strided_slice_1/stack_1' type=Const>,\n",
       " <tf.Operation 'strided_slice_1/stack_2' type=Const>,\n",
       " <tf.Operation 'strided_slice_1' type=StridedSlice>,\n",
       " <tf.Operation 'MatMul' type=MatMul>,\n",
       " <tf.Operation 'THEMODEL' type=Add>,\n",
       " <tf.Operation 'sub' type=Sub>,\n",
       " <tf.Operation 'Pow/y' type=Const>,\n",
       " <tf.Operation 'Pow' type=Pow>,\n",
       " <tf.Operation 'Const' type=Const>,\n",
       " <tf.Operation 'Sum' type=Sum>,\n",
       " <tf.Operation 'gradients/Shape' type=Const>,\n",
       " <tf.Operation 'gradients/Const' type=Const>,\n",
       " <tf.Operation 'gradients/Fill' type=Fill>,\n",
       " <tf.Operation 'gradients/Sum_grad/Reshape/shape' type=Const>,\n",
       " <tf.Operation 'gradients/Sum_grad/Reshape' type=Reshape>,\n",
       " <tf.Operation 'gradients/Sum_grad/Shape' type=Shape>,\n",
       " <tf.Operation 'gradients/Sum_grad/Tile' type=Tile>,\n",
       " <tf.Operation 'gradients/Pow_grad/Shape' type=Shape>,\n",
       " <tf.Operation 'gradients/Pow_grad/Shape_1' type=Const>,\n",
       " <tf.Operation 'gradients/Pow_grad/BroadcastGradientArgs' type=BroadcastGradientArgs>,\n",
       " <tf.Operation 'gradients/Pow_grad/mul' type=Mul>,\n",
       " <tf.Operation 'gradients/Pow_grad/sub/y' type=Const>,\n",
       " <tf.Operation 'gradients/Pow_grad/sub' type=Sub>,\n",
       " <tf.Operation 'gradients/Pow_grad/Pow' type=Pow>,\n",
       " <tf.Operation 'gradients/Pow_grad/mul_1' type=Mul>,\n",
       " <tf.Operation 'gradients/Pow_grad/Sum' type=Sum>,\n",
       " <tf.Operation 'gradients/Pow_grad/Reshape' type=Reshape>,\n",
       " <tf.Operation 'gradients/Pow_grad/Greater/y' type=Const>,\n",
       " <tf.Operation 'gradients/Pow_grad/Greater' type=Greater>,\n",
       " <tf.Operation 'gradients/Pow_grad/Log' type=Log>,\n",
       " <tf.Operation 'gradients/Pow_grad/zeros_like' type=ZerosLike>,\n",
       " <tf.Operation 'gradients/Pow_grad/Select' type=Select>,\n",
       " <tf.Operation 'gradients/Pow_grad/mul_2' type=Mul>,\n",
       " <tf.Operation 'gradients/Pow_grad/mul_3' type=Mul>,\n",
       " <tf.Operation 'gradients/Pow_grad/Sum_1' type=Sum>,\n",
       " <tf.Operation 'gradients/Pow_grad/Reshape_1' type=Reshape>,\n",
       " <tf.Operation 'gradients/sub_grad/Shape' type=Shape>,\n",
       " <tf.Operation 'gradients/sub_grad/Shape_1' type=Shape>,\n",
       " <tf.Operation 'gradients/sub_grad/BroadcastGradientArgs' type=BroadcastGradientArgs>,\n",
       " <tf.Operation 'gradients/sub_grad/Sum' type=Sum>,\n",
       " <tf.Operation 'gradients/sub_grad/Reshape' type=Reshape>,\n",
       " <tf.Operation 'gradients/sub_grad/Sum_1' type=Sum>,\n",
       " <tf.Operation 'gradients/sub_grad/Neg' type=Neg>,\n",
       " <tf.Operation 'gradients/sub_grad/Reshape_1' type=Reshape>,\n",
       " <tf.Operation 'gradients/THEMODEL_grad/Shape' type=Shape>,\n",
       " <tf.Operation 'gradients/THEMODEL_grad/Shape_1' type=Const>,\n",
       " <tf.Operation 'gradients/THEMODEL_grad/BroadcastGradientArgs' type=BroadcastGradientArgs>,\n",
       " <tf.Operation 'gradients/THEMODEL_grad/Sum' type=Sum>,\n",
       " <tf.Operation 'gradients/THEMODEL_grad/Reshape' type=Reshape>,\n",
       " <tf.Operation 'gradients/THEMODEL_grad/Sum_1' type=Sum>,\n",
       " <tf.Operation 'gradients/THEMODEL_grad/Reshape_1' type=Reshape>,\n",
       " <tf.Operation 'gradients/MatMul_grad/MatMul' type=MatMul>,\n",
       " <tf.Operation 'gradients/MatMul_grad/MatMul_1' type=MatMul>,\n",
       " <tf.Operation 'gradients/strided_slice_1_grad/Shape' type=Const>,\n",
       " <tf.Operation 'gradients/strided_slice_1_grad/StridedSliceGrad' type=StridedSliceGrad>,\n",
       " <tf.Operation 'gradients/Reshape_grad/Shape' type=Const>,\n",
       " <tf.Operation 'gradients/Reshape_grad/Reshape' type=Reshape>,\n",
       " <tf.Operation 'gradients/strided_slice_grad/Shape' type=Const>,\n",
       " <tf.Operation 'gradients/strided_slice_grad/StridedSliceGrad' type=StridedSliceGrad>,\n",
       " <tf.Operation 'gradients/AddN' type=AddN>,\n",
       " <tf.Operation 'gradients_1/Shape' type=Const>,\n",
       " <tf.Operation 'gradients_1/Const' type=Const>,\n",
       " <tf.Operation 'gradients_1/Fill' type=Fill>,\n",
       " <tf.Operation 'gradients_1/Sum_grad/Reshape/shape' type=Const>,\n",
       " <tf.Operation 'gradients_1/Sum_grad/Reshape' type=Reshape>,\n",
       " <tf.Operation 'gradients_1/Sum_grad/Shape' type=Shape>,\n",
       " <tf.Operation 'gradients_1/Sum_grad/Tile' type=Tile>,\n",
       " <tf.Operation 'gradients_1/Pow_grad/Shape' type=Shape>,\n",
       " <tf.Operation 'gradients_1/Pow_grad/Shape_1' type=Const>,\n",
       " <tf.Operation 'gradients_1/Pow_grad/BroadcastGradientArgs' type=BroadcastGradientArgs>,\n",
       " <tf.Operation 'gradients_1/Pow_grad/mul' type=Mul>,\n",
       " <tf.Operation 'gradients_1/Pow_grad/sub/y' type=Const>,\n",
       " <tf.Operation 'gradients_1/Pow_grad/sub' type=Sub>,\n",
       " <tf.Operation 'gradients_1/Pow_grad/Pow' type=Pow>,\n",
       " <tf.Operation 'gradients_1/Pow_grad/mul_1' type=Mul>,\n",
       " <tf.Operation 'gradients_1/Pow_grad/Sum' type=Sum>,\n",
       " <tf.Operation 'gradients_1/Pow_grad/Reshape' type=Reshape>,\n",
       " <tf.Operation 'gradients_1/Pow_grad/Greater/y' type=Const>,\n",
       " <tf.Operation 'gradients_1/Pow_grad/Greater' type=Greater>,\n",
       " <tf.Operation 'gradients_1/Pow_grad/Log' type=Log>,\n",
       " <tf.Operation 'gradients_1/Pow_grad/zeros_like' type=ZerosLike>,\n",
       " <tf.Operation 'gradients_1/Pow_grad/Select' type=Select>,\n",
       " <tf.Operation 'gradients_1/Pow_grad/mul_2' type=Mul>,\n",
       " <tf.Operation 'gradients_1/Pow_grad/mul_3' type=Mul>,\n",
       " <tf.Operation 'gradients_1/Pow_grad/Sum_1' type=Sum>,\n",
       " <tf.Operation 'gradients_1/Pow_grad/Reshape_1' type=Reshape>,\n",
       " <tf.Operation 'gradients_1/sub_grad/Shape' type=Shape>,\n",
       " <tf.Operation 'gradients_1/sub_grad/Shape_1' type=Shape>,\n",
       " <tf.Operation 'gradients_1/sub_grad/BroadcastGradientArgs' type=BroadcastGradientArgs>,\n",
       " <tf.Operation 'gradients_1/sub_grad/Sum' type=Sum>,\n",
       " <tf.Operation 'gradients_1/sub_grad/Reshape' type=Reshape>,\n",
       " <tf.Operation 'gradients_1/sub_grad/Sum_1' type=Sum>,\n",
       " <tf.Operation 'gradients_1/sub_grad/Neg' type=Neg>,\n",
       " <tf.Operation 'gradients_1/sub_grad/Reshape_1' type=Reshape>,\n",
       " <tf.Operation 'gradients_1/THEMODEL_grad/Shape' type=Shape>,\n",
       " <tf.Operation 'gradients_1/THEMODEL_grad/Shape_1' type=Const>,\n",
       " <tf.Operation 'gradients_1/THEMODEL_grad/BroadcastGradientArgs' type=BroadcastGradientArgs>,\n",
       " <tf.Operation 'gradients_1/THEMODEL_grad/Sum' type=Sum>,\n",
       " <tf.Operation 'gradients_1/THEMODEL_grad/Reshape' type=Reshape>,\n",
       " <tf.Operation 'gradients_1/THEMODEL_grad/Sum_1' type=Sum>,\n",
       " <tf.Operation 'gradients_1/THEMODEL_grad/Reshape_1' type=Reshape>,\n",
       " <tf.Operation 'gradients_1/MatMul_grad/MatMul' type=MatMul>,\n",
       " <tf.Operation 'gradients_1/MatMul_grad/MatMul_1' type=MatMul>,\n",
       " <tf.Operation 'gradients_1/strided_slice_1_grad/Shape' type=Const>,\n",
       " <tf.Operation 'gradients_1/strided_slice_1_grad/StridedSliceGrad' type=StridedSliceGrad>,\n",
       " <tf.Operation 'gradients_1/Reshape_grad/Shape' type=Const>,\n",
       " <tf.Operation 'gradients_1/Reshape_grad/Reshape' type=Reshape>,\n",
       " <tf.Operation 'gradients_1/strided_slice_grad/Shape' type=Const>,\n",
       " <tf.Operation 'gradients_1/strided_slice_grad/StridedSliceGrad' type=StridedSliceGrad>,\n",
       " <tf.Operation 'gradients_1/AddN' type=AddN>,\n",
       " <tf.Operation 'assert_rank/rank' type=Const>,\n",
       " <tf.Operation 'assert_rank/Shape' type=Const>,\n",
       " <tf.Operation 'assert_rank/assert_type/statically_determined_correct_type' type=NoOp>,\n",
       " <tf.Operation 'assert_rank/static_checks_determined_all_ok' type=NoOp>,\n",
       " <tf.Operation 'Size' type=Const>,\n",
       " <tf.Operation 'Const_1' type=Const>,\n",
       " <tf.Operation 'TensorArray' type=TensorArrayV3>,\n",
       " <tf.Operation 'while/Enter' type=Enter>,\n",
       " <tf.Operation 'while/Enter_1' type=Enter>,\n",
       " <tf.Operation 'while/Merge' type=Merge>,\n",
       " <tf.Operation 'while/Merge_1' type=Merge>,\n",
       " <tf.Operation 'while/Less/Enter' type=Enter>,\n",
       " <tf.Operation 'while/Less' type=Less>,\n",
       " <tf.Operation 'while/LoopCond' type=LoopCond>,\n",
       " <tf.Operation 'while/Switch' type=Switch>,\n",
       " <tf.Operation 'while/Switch_1' type=Switch>,\n",
       " <tf.Operation 'while/Identity' type=Identity>,\n",
       " <tf.Operation 'while/Identity_1' type=Identity>,\n",
       " <tf.Operation 'while/add/y' type=Const>,\n",
       " <tf.Operation 'while/add' type=Add>,\n",
       " <tf.Operation 'while/add_1/y' type=Const>,\n",
       " <tf.Operation 'while/add_1' type=Add>,\n",
       " <tf.Operation 'while/strided_slice/stack' type=Pack>,\n",
       " <tf.Operation 'while/strided_slice/stack_1' type=Pack>,\n",
       " <tf.Operation 'while/strided_slice/stack_2' type=Const>,\n",
       " <tf.Operation 'while/strided_slice/Enter' type=Enter>,\n",
       " <tf.Operation 'while/strided_slice' type=StridedSlice>,\n",
       " <tf.Operation 'while/gradients/Shape' type=Const>,\n",
       " <tf.Operation 'while/gradients/Const' type=Const>,\n",
       " <tf.Operation 'while/gradients/Fill' type=Fill>,\n",
       " <tf.Operation 'while/gradients/while/strided_slice_grad/Shape' type=Const>,\n",
       " <tf.Operation 'while/gradients/while/strided_slice_grad/StridedSliceGrad' type=StridedSliceGrad>,\n",
       " <tf.Operation 'while/gradients/gradients_1/strided_slice_1_grad/StridedSliceGrad_grad/StridedSlice/Enter' type=Enter>,\n",
       " <tf.Operation 'while/gradients/gradients_1/strided_slice_1_grad/StridedSliceGrad_grad/StridedSlice/Enter_1' type=Enter>,\n",
       " <tf.Operation 'while/gradients/gradients_1/strided_slice_1_grad/StridedSliceGrad_grad/StridedSlice/Enter_2' type=Enter>,\n",
       " <tf.Operation 'while/gradients/gradients_1/strided_slice_1_grad/StridedSliceGrad_grad/StridedSlice' type=StridedSlice>,\n",
       " <tf.Operation 'while/gradients/gradients_1/strided_slice_grad/StridedSliceGrad_grad/StridedSlice/Enter' type=Enter>,\n",
       " <tf.Operation 'while/gradients/gradients_1/strided_slice_grad/StridedSliceGrad_grad/StridedSlice/Enter_1' type=Enter>,\n",
       " <tf.Operation 'while/gradients/gradients_1/strided_slice_grad/StridedSliceGrad_grad/StridedSlice/Enter_2' type=Enter>,\n",
       " <tf.Operation 'while/gradients/gradients_1/strided_slice_grad/StridedSliceGrad_grad/StridedSlice' type=StridedSlice>,\n",
       " <tf.Operation 'while/gradients/gradients_1/THEMODEL_grad/Reshape_1_grad/Shape/Enter' type=Enter>,\n",
       " <tf.Operation 'while/gradients/gradients_1/THEMODEL_grad/Reshape_1_grad/Shape' type=Shape>,\n",
       " <tf.Operation 'while/gradients/gradients_1/THEMODEL_grad/Reshape_1_grad/Reshape' type=Reshape>,\n",
       " <tf.Operation 'while/gradients/gradients_1/Reshape_grad/Reshape_grad/Shape' type=Const>,\n",
       " <tf.Operation 'while/gradients/gradients_1/Reshape_grad/Reshape_grad/Reshape' type=Reshape>,\n",
       " <tf.Operation 'while/gradients/gradients_1/THEMODEL_grad/Sum_1_grad/Shape/Enter' type=Enter>,\n",
       " <tf.Operation 'while/gradients/gradients_1/THEMODEL_grad/Sum_1_grad/Shape' type=Shape>,\n",
       " <tf.Operation 'while/gradients/gradients_1/THEMODEL_grad/Sum_1_grad/Size' type=Const>,\n",
       " <tf.Operation 'while/gradients/gradients_1/THEMODEL_grad/Sum_1_grad/add/Enter' type=Enter>,\n",
       " <tf.Operation 'while/gradients/gradients_1/THEMODEL_grad/Sum_1_grad/add' type=Add>,\n",
       " <tf.Operation 'while/gradients/gradients_1/THEMODEL_grad/Sum_1_grad/mod' type=FloorMod>,\n",
       " <tf.Operation 'while/gradients/gradients_1/THEMODEL_grad/Sum_1_grad/Shape_1' type=Shape>,\n",
       " <tf.Operation 'while/gradients/gradients_1/THEMODEL_grad/Sum_1_grad/range/start' type=Const>,\n",
       " <tf.Operation 'while/gradients/gradients_1/THEMODEL_grad/Sum_1_grad/range/delta' type=Const>,\n",
       " <tf.Operation 'while/gradients/gradients_1/THEMODEL_grad/Sum_1_grad/range' type=Range>,\n",
       " <tf.Operation 'while/gradients/gradients_1/THEMODEL_grad/Sum_1_grad/Fill/value' type=Const>,\n",
       " <tf.Operation 'while/gradients/gradients_1/THEMODEL_grad/Sum_1_grad/Fill' type=Fill>,\n",
       " <tf.Operation 'while/gradients/gradients_1/THEMODEL_grad/Sum_1_grad/DynamicStitch' type=DynamicStitch>,\n",
       " <tf.Operation 'while/gradients/gradients_1/THEMODEL_grad/Sum_1_grad/Maximum/y' type=Const>,\n",
       " <tf.Operation 'while/gradients/gradients_1/THEMODEL_grad/Sum_1_grad/Maximum' type=Maximum>,\n",
       " <tf.Operation 'while/gradients/gradients_1/THEMODEL_grad/Sum_1_grad/floordiv' type=FloorDiv>,\n",
       " <tf.Operation 'while/gradients/gradients_1/THEMODEL_grad/Sum_1_grad/Reshape' type=Reshape>,\n",
       " <tf.Operation 'while/gradients/gradients_1/THEMODEL_grad/Sum_1_grad/Tile' type=Tile>,\n",
       " <tf.Operation 'while/gradients/gradients_1/MatMul_grad/MatMul_1_grad/MatMul/Enter' type=Enter>,\n",
       " <tf.Operation 'while/gradients/gradients_1/MatMul_grad/MatMul_1_grad/MatMul' type=MatMul>,\n",
       " <tf.Operation 'while/gradients/gradients_1/MatMul_grad/MatMul_1_grad/MatMul_1/Enter' type=Enter>,\n",
       " <tf.Operation 'while/gradients/gradients_1/MatMul_grad/MatMul_1_grad/MatMul_1' type=MatMul>,\n",
       " <tf.Operation 'while/gradients/gradients_1/THEMODEL_grad/Reshape_grad/Shape/Enter' type=Enter>,\n",
       " <tf.Operation 'while/gradients/gradients_1/THEMODEL_grad/Reshape_grad/Shape' type=Shape>,\n",
       " <tf.Operation 'while/gradients/gradients_1/THEMODEL_grad/Reshape_grad/Reshape' type=Reshape>,\n",
       " <tf.Operation 'while/gradients/gradients_1/THEMODEL_grad/Sum_grad/Shape' type=Shape>,\n",
       " <tf.Operation 'while/gradients/gradients_1/THEMODEL_grad/Sum_grad/Size' type=Const>,\n",
       " <tf.Operation 'while/gradients/gradients_1/THEMODEL_grad/Sum_grad/add/Enter' type=Enter>,\n",
       " <tf.Operation 'while/gradients/gradients_1/THEMODEL_grad/Sum_grad/add' type=Add>,\n",
       " <tf.Operation 'while/gradients/gradients_1/THEMODEL_grad/Sum_grad/mod' type=FloorMod>,\n",
       " <tf.Operation 'while/gradients/gradients_1/THEMODEL_grad/Sum_grad/Shape_1' type=Shape>,\n",
       " <tf.Operation 'while/gradients/gradients_1/THEMODEL_grad/Sum_grad/range/start' type=Const>,\n",
       " <tf.Operation 'while/gradients/gradients_1/THEMODEL_grad/Sum_grad/range/delta' type=Const>,\n",
       " <tf.Operation 'while/gradients/gradients_1/THEMODEL_grad/Sum_grad/range' type=Range>,\n",
       " <tf.Operation 'while/gradients/gradients_1/THEMODEL_grad/Sum_grad/Fill/value' type=Const>,\n",
       " <tf.Operation 'while/gradients/gradients_1/THEMODEL_grad/Sum_grad/Fill' type=Fill>,\n",
       " <tf.Operation 'while/gradients/gradients_1/THEMODEL_grad/Sum_grad/DynamicStitch' type=DynamicStitch>,\n",
       " <tf.Operation 'while/gradients/gradients_1/THEMODEL_grad/Sum_grad/Maximum/y' type=Const>,\n",
       " <tf.Operation 'while/gradients/gradients_1/THEMODEL_grad/Sum_grad/Maximum' type=Maximum>,\n",
       " <tf.Operation 'while/gradients/gradients_1/THEMODEL_grad/Sum_grad/floordiv' type=FloorDiv>,\n",
       " <tf.Operation 'while/gradients/gradients_1/THEMODEL_grad/Sum_grad/Reshape' type=Reshape>,\n",
       " <tf.Operation 'while/gradients/gradients_1/THEMODEL_grad/Sum_grad/Tile' type=Tile>,\n",
       " <tf.Operation 'while/gradients/AddN' type=AddN>,\n",
       " <tf.Operation 'while/gradients/gradients_1/sub_grad/Reshape_grad/Shape/Enter' type=Enter>,\n",
       " <tf.Operation 'while/gradients/gradients_1/sub_grad/Reshape_grad/Shape' type=Shape>,\n",
       " <tf.Operation 'while/gradients/gradients_1/sub_grad/Reshape_grad/Reshape' type=Reshape>,\n",
       " <tf.Operation 'while/gradients/gradients_1/sub_grad/Sum_grad/Shape/Enter' type=Enter>,\n",
       " <tf.Operation 'while/gradients/gradients_1/sub_grad/Sum_grad/Shape' type=Shape>,\n",
       " <tf.Operation 'while/gradients/gradients_1/sub_grad/Sum_grad/Size' type=Const>,\n",
       " <tf.Operation 'while/gradients/gradients_1/sub_grad/Sum_grad/add/Enter' type=Enter>,\n",
       " <tf.Operation 'while/gradients/gradients_1/sub_grad/Sum_grad/add' type=Add>,\n",
       " <tf.Operation 'while/gradients/gradients_1/sub_grad/Sum_grad/mod' type=FloorMod>,\n",
       " <tf.Operation 'while/gradients/gradients_1/sub_grad/Sum_grad/Shape_1' type=Shape>,\n",
       " <tf.Operation 'while/gradients/gradients_1/sub_grad/Sum_grad/range/start' type=Const>,\n",
       " <tf.Operation 'while/gradients/gradients_1/sub_grad/Sum_grad/range/delta' type=Const>,\n",
       " <tf.Operation 'while/gradients/gradients_1/sub_grad/Sum_grad/range' type=Range>,\n",
       " <tf.Operation 'while/gradients/gradients_1/sub_grad/Sum_grad/Fill/value' type=Const>,\n",
       " <tf.Operation 'while/gradients/gradients_1/sub_grad/Sum_grad/Fill' type=Fill>,\n",
       " <tf.Operation 'while/gradients/gradients_1/sub_grad/Sum_grad/DynamicStitch' type=DynamicStitch>,\n",
       " <tf.Operation 'while/gradients/gradients_1/sub_grad/Sum_grad/Maximum/y' type=Const>,\n",
       " <tf.Operation 'while/gradients/gradients_1/sub_grad/Sum_grad/Maximum' type=Maximum>,\n",
       " <tf.Operation 'while/gradients/gradients_1/sub_grad/Sum_grad/floordiv' type=FloorDiv>,\n",
       " <tf.Operation 'while/gradients/gradients_1/sub_grad/Sum_grad/Reshape' type=Reshape>,\n",
       " <tf.Operation 'while/gradients/gradients_1/sub_grad/Sum_grad/Tile' type=Tile>,\n",
       " <tf.Operation 'while/gradients/gradients_1/Pow_grad/Reshape_grad/Shape/Enter' type=Enter>,\n",
       " <tf.Operation 'while/gradients/gradients_1/Pow_grad/Reshape_grad/Shape' type=Shape>,\n",
       " <tf.Operation 'while/gradients/gradients_1/Pow_grad/Reshape_grad/Reshape' type=Reshape>,\n",
       " <tf.Operation 'while/gradients/gradients_1/Pow_grad/Sum_grad/Shape/Enter' type=Enter>,\n",
       " <tf.Operation 'while/gradients/gradients_1/Pow_grad/Sum_grad/Shape' type=Shape>,\n",
       " <tf.Operation 'while/gradients/gradients_1/Pow_grad/Sum_grad/Size' type=Const>,\n",
       " <tf.Operation 'while/gradients/gradients_1/Pow_grad/Sum_grad/add/Enter' type=Enter>,\n",
       " <tf.Operation 'while/gradients/gradients_1/Pow_grad/Sum_grad/add' type=Add>,\n",
       " <tf.Operation 'while/gradients/gradients_1/Pow_grad/Sum_grad/mod' type=FloorMod>,\n",
       " <tf.Operation 'while/gradients/gradients_1/Pow_grad/Sum_grad/Shape_1' type=Shape>,\n",
       " <tf.Operation 'while/gradients/gradients_1/Pow_grad/Sum_grad/range/start' type=Const>,\n",
       " <tf.Operation 'while/gradients/gradients_1/Pow_grad/Sum_grad/range/delta' type=Const>,\n",
       " <tf.Operation 'while/gradients/gradients_1/Pow_grad/Sum_grad/range' type=Range>,\n",
       " <tf.Operation 'while/gradients/gradients_1/Pow_grad/Sum_grad/Fill/value' type=Const>,\n",
       " <tf.Operation 'while/gradients/gradients_1/Pow_grad/Sum_grad/Fill' type=Fill>,\n",
       " <tf.Operation 'while/gradients/gradients_1/Pow_grad/Sum_grad/DynamicStitch' type=DynamicStitch>,\n",
       " <tf.Operation 'while/gradients/gradients_1/Pow_grad/Sum_grad/Maximum/y' type=Const>,\n",
       " <tf.Operation 'while/gradients/gradients_1/Pow_grad/Sum_grad/Maximum' type=Maximum>,\n",
       " <tf.Operation 'while/gradients/gradients_1/Pow_grad/Sum_grad/floordiv' type=FloorDiv>,\n",
       " <tf.Operation 'while/gradients/gradients_1/Pow_grad/Sum_grad/Reshape' type=Reshape>,\n",
       " <tf.Operation 'while/gradients/gradients_1/Pow_grad/Sum_grad/Tile' type=Tile>,\n",
       " <tf.Operation 'while/gradients/gradients_1/Pow_grad/mul_1_grad/Shape/Enter' type=Enter>,\n",
       " <tf.Operation 'while/gradients/gradients_1/Pow_grad/mul_1_grad/Shape' type=Shape>,\n",
       " <tf.Operation 'while/gradients/gradients_1/Pow_grad/mul_1_grad/Shape_1/Enter' type=Enter>,\n",
       " <tf.Operation 'while/gradients/gradients_1/Pow_grad/mul_1_grad/Shape_1' type=Shape>,\n",
       " <tf.Operation 'while/gradients/gradients_1/Pow_grad/mul_1_grad/BroadcastGradientArgs' type=BroadcastGradientArgs>,\n",
       " <tf.Operation 'while/gradients/gradients_1/Pow_grad/mul_1_grad/mul' type=Mul>,\n",
       " <tf.Operation 'while/gradients/gradients_1/Pow_grad/mul_1_grad/Sum' type=Sum>,\n",
       " <tf.Operation 'while/gradients/gradients_1/Pow_grad/mul_1_grad/Reshape' type=Reshape>,\n",
       " <tf.Operation 'while/gradients/gradients_1/Pow_grad/mul_1_grad/mul_1' type=Mul>,\n",
       " <tf.Operation 'while/gradients/gradients_1/Pow_grad/mul_1_grad/Sum_1' type=Sum>,\n",
       " <tf.Operation 'while/gradients/gradients_1/Pow_grad/mul_1_grad/Reshape_1' type=Reshape>,\n",
       " <tf.Operation 'while/gradients/gradients_1/Pow_grad/mul_grad/Shape/Enter' type=Enter>,\n",
       " <tf.Operation 'while/gradients/gradients_1/Pow_grad/mul_grad/Shape' type=Shape>,\n",
       " <tf.Operation 'while/gradients/gradients_1/Pow_grad/mul_grad/Shape_1' type=Const>,\n",
       " <tf.Operation 'while/gradients/gradients_1/Pow_grad/mul_grad/BroadcastGradientArgs' type=BroadcastGradientArgs>,\n",
       " <tf.Operation 'while/gradients/gradients_1/Pow_grad/mul_grad/mul/Enter' type=Enter>,\n",
       " <tf.Operation 'while/gradients/gradients_1/Pow_grad/mul_grad/mul' type=Mul>,\n",
       " <tf.Operation 'while/gradients/gradients_1/Pow_grad/mul_grad/Sum' type=Sum>,\n",
       " <tf.Operation 'while/gradients/gradients_1/Pow_grad/mul_grad/Reshape' type=Reshape>,\n",
       " <tf.Operation 'while/gradients/gradients_1/Pow_grad/mul_grad/mul_1' type=Mul>,\n",
       " <tf.Operation 'while/gradients/gradients_1/Pow_grad/mul_grad/Sum_1' type=Sum>,\n",
       " <tf.Operation 'while/gradients/gradients_1/Pow_grad/mul_grad/Reshape_1' type=Reshape>,\n",
       " <tf.Operation 'while/gradients/gradients_1/Pow_grad/Pow_grad/Shape/Enter' type=Enter>,\n",
       " <tf.Operation 'while/gradients/gradients_1/Pow_grad/Pow_grad/Shape' type=Shape>,\n",
       " <tf.Operation 'while/gradients/gradients_1/Pow_grad/Pow_grad/Shape_1' type=Const>,\n",
       " <tf.Operation 'while/gradients/gradients_1/Pow_grad/Pow_grad/BroadcastGradientArgs' type=BroadcastGradientArgs>,\n",
       " <tf.Operation 'while/gradients/gradients_1/Pow_grad/Pow_grad/mul/Enter' type=Enter>,\n",
       " <tf.Operation 'while/gradients/gradients_1/Pow_grad/Pow_grad/mul' type=Mul>,\n",
       " <tf.Operation 'while/gradients/gradients_1/Pow_grad/Pow_grad/sub/y' type=Const>,\n",
       " <tf.Operation 'while/gradients/gradients_1/Pow_grad/Pow_grad/sub' type=Sub>,\n",
       " <tf.Operation 'while/gradients/gradients_1/Pow_grad/Pow_grad/Pow' type=Pow>,\n",
       " <tf.Operation 'while/gradients/gradients_1/Pow_grad/Pow_grad/mul_1' type=Mul>,\n",
       " <tf.Operation 'while/gradients/gradients_1/Pow_grad/Pow_grad/Sum' type=Sum>,\n",
       " <tf.Operation 'while/gradients/gradients_1/Pow_grad/Pow_grad/Reshape' type=Reshape>,\n",
       " <tf.Operation 'while/gradients/gradients_1/Pow_grad/Pow_grad/Greater/y' type=Const>,\n",
       " <tf.Operation 'while/gradients/gradients_1/Pow_grad/Pow_grad/Greater' type=Greater>,\n",
       " <tf.Operation 'while/gradients/gradients_1/Pow_grad/Pow_grad/Log' type=Log>,\n",
       " <tf.Operation 'while/gradients/gradients_1/Pow_grad/Pow_grad/zeros_like' type=ZerosLike>,\n",
       " <tf.Operation 'while/gradients/gradients_1/Pow_grad/Pow_grad/Select' type=Select>,\n",
       " <tf.Operation 'while/gradients/gradients_1/Pow_grad/Pow_grad/mul_2' type=Mul>,\n",
       " <tf.Operation 'while/gradients/gradients_1/Pow_grad/Pow_grad/mul_3' type=Mul>,\n",
       " <tf.Operation 'while/gradients/gradients_1/Pow_grad/Pow_grad/Sum_1' type=Sum>,\n",
       " <tf.Operation 'while/gradients/gradients_1/Pow_grad/Pow_grad/Reshape_1' type=Reshape>,\n",
       " <tf.Operation 'while/gradients/gradients_1/Sum_grad/Tile_grad/Shape' type=Const>,\n",
       " <tf.Operation 'while/gradients/gradients_1/Sum_grad/Tile_grad/stack/Enter' type=Enter>,\n",
       " <tf.Operation 'while/gradients/gradients_1/Sum_grad/Tile_grad/stack' type=Pack>,\n",
       " <tf.Operation 'while/gradients/gradients_1/Sum_grad/Tile_grad/transpose/Rank' type=Rank>,\n",
       " <tf.Operation 'while/gradients/gradients_1/Sum_grad/Tile_grad/transpose/sub/y' type=Const>,\n",
       " <tf.Operation 'while/gradients/gradients_1/Sum_grad/Tile_grad/transpose/sub' type=Sub>,\n",
       " <tf.Operation 'while/gradients/gradients_1/Sum_grad/Tile_grad/transpose/Range/start' type=Const>,\n",
       " <tf.Operation 'while/gradients/gradients_1/Sum_grad/Tile_grad/transpose/Range/delta' type=Const>,\n",
       " <tf.Operation 'while/gradients/gradients_1/Sum_grad/Tile_grad/transpose/Range' type=Range>,\n",
       " <tf.Operation 'while/gradients/gradients_1/Sum_grad/Tile_grad/transpose/sub_1' type=Sub>,\n",
       " <tf.Operation 'while/gradients/gradients_1/Sum_grad/Tile_grad/transpose' type=Transpose>,\n",
       " <tf.Operation 'while/gradients/gradients_1/Sum_grad/Tile_grad/Reshape/shape' type=Const>,\n",
       " <tf.Operation 'while/gradients/gradients_1/Sum_grad/Tile_grad/Reshape' type=Reshape>,\n",
       " <tf.Operation 'while/gradients/gradients_1/Sum_grad/Tile_grad/Size' type=Const>,\n",
       " <tf.Operation 'while/gradients/gradients_1/Sum_grad/Tile_grad/range/start' type=Const>,\n",
       " <tf.Operation 'while/gradients/gradients_1/Sum_grad/Tile_grad/range/delta' type=Const>,\n",
       " <tf.Operation 'while/gradients/gradients_1/Sum_grad/Tile_grad/range' type=Range>,\n",
       " <tf.Operation 'while/gradients/gradients_1/Sum_grad/Tile_grad/Reshape_1' type=Reshape>,\n",
       " <tf.Operation 'while/gradients/gradients_1/Sum_grad/Tile_grad/Sum' type=Sum>,\n",
       " <tf.Operation 'while/gradients/sub_grad/Shape/Enter' type=Enter>,\n",
       " <tf.Operation 'while/gradients/sub_grad/Shape' type=Shape>,\n",
       " <tf.Operation 'while/gradients/sub_grad/Shape_1/Enter' type=Enter>,\n",
       " <tf.Operation 'while/gradients/sub_grad/Shape_1' type=Shape>,\n",
       " <tf.Operation 'while/gradients/sub_grad/BroadcastGradientArgs' type=BroadcastGradientArgs>,\n",
       " <tf.Operation 'while/gradients/sub_grad/Sum' type=Sum>,\n",
       " <tf.Operation 'while/gradients/sub_grad/Reshape' type=Reshape>,\n",
       " <tf.Operation 'while/gradients/sub_grad/Sum_1' type=Sum>,\n",
       " <tf.Operation 'while/gradients/sub_grad/Neg' type=Neg>,\n",
       " <tf.Operation 'while/gradients/sub_grad/Reshape_1' type=Reshape>,\n",
       " <tf.Operation 'while/gradients/THEMODEL_grad/Shape/Enter' type=Enter>,\n",
       " <tf.Operation 'while/gradients/THEMODEL_grad/Shape' type=Shape>,\n",
       " <tf.Operation 'while/gradients/THEMODEL_grad/Shape_1' type=Const>,\n",
       " <tf.Operation 'while/gradients/THEMODEL_grad/BroadcastGradientArgs' type=BroadcastGradientArgs>,\n",
       " <tf.Operation 'while/gradients/THEMODEL_grad/Sum' type=Sum>,\n",
       " <tf.Operation 'while/gradients/THEMODEL_grad/Reshape' type=Reshape>,\n",
       " <tf.Operation 'while/gradients/THEMODEL_grad/Sum_1' type=Sum>,\n",
       " <tf.Operation 'while/gradients/THEMODEL_grad/Reshape_1' type=Reshape>,\n",
       " <tf.Operation 'while/gradients/MatMul_grad/MatMul/Enter' type=Enter>,\n",
       " <tf.Operation 'while/gradients/MatMul_grad/MatMul' type=MatMul>,\n",
       " <tf.Operation 'while/gradients/MatMul_grad/MatMul_1' type=MatMul>,\n",
       " <tf.Operation 'while/gradients/strided_slice_1_grad/Shape' type=Const>,\n",
       " <tf.Operation 'while/gradients/strided_slice_1_grad/StridedSliceGrad' type=StridedSliceGrad>,\n",
       " <tf.Operation 'while/gradients/Reshape_grad/Shape' type=Const>,\n",
       " <tf.Operation 'while/gradients/Reshape_grad/Reshape' type=Reshape>,\n",
       " <tf.Operation 'while/gradients/strided_slice_grad/Shape' type=Const>,\n",
       " <tf.Operation 'while/gradients/strided_slice_grad/StridedSliceGrad' type=StridedSliceGrad>,\n",
       " <tf.Operation 'while/gradients/AddN_1' type=AddN>,\n",
       " <tf.Operation 'while/TensorArrayWrite/TensorArrayWriteV3/Enter' type=Enter>,\n",
       " <tf.Operation 'while/TensorArrayWrite/TensorArrayWriteV3' type=TensorArrayWriteV3>,\n",
       " <tf.Operation 'while/NextIteration' type=NextIteration>,\n",
       " <tf.Operation 'while/NextIteration_1' type=NextIteration>,\n",
       " <tf.Operation 'while/Exit' type=Exit>,\n",
       " <tf.Operation 'while/Exit_1' type=Exit>,\n",
       " <tf.Operation 'TensorArrayStack/TensorArraySizeV3' type=TensorArraySizeV3>,\n",
       " <tf.Operation 'TensorArrayStack/range/start' type=Const>,\n",
       " <tf.Operation 'TensorArrayStack/range/delta' type=Const>,\n",
       " <tf.Operation 'TensorArrayStack/range' type=Range>,\n",
       " <tf.Operation 'TensorArrayStack/TensorArrayGatherV3' type=TensorArrayGatherV3>,\n",
       " <tf.Operation 'Reshape_1/shape' type=Const>,\n",
       " <tf.Operation 'Reshape_1' type=Reshape>,\n",
       " <tf.Operation 'ExpandDims/dim' type=Const>,\n",
       " <tf.Operation 'ExpandDims' type=ExpandDims>,\n",
       " <tf.Operation 'MatrixSolve' type=MatrixSolve>,\n",
       " <tf.Operation 'Squeeze' type=Squeeze>,\n",
       " <tf.Operation 'Neg' type=Neg>,\n",
       " <tf.Operation 'AssignAdd' type=AssignAdd>,\n",
       " <tf.Operation 'init' type=NoOp>,\n",
       " <tf.Operation 'save/Const' type=Const>,\n",
       " <tf.Operation 'save/SaveV2/tensor_names' type=Const>,\n",
       " <tf.Operation 'save/SaveV2/shape_and_slices' type=Const>,\n",
       " <tf.Operation 'save/SaveV2' type=SaveV2>,\n",
       " <tf.Operation 'save/control_dependency' type=Identity>,\n",
       " <tf.Operation 'save/RestoreV2/tensor_names' type=Const>,\n",
       " <tf.Operation 'save/RestoreV2/shape_and_slices' type=Const>,\n",
       " <tf.Operation 'save/RestoreV2' type=RestoreV2>,\n",
       " <tf.Operation 'save/Assign' type=Assign>,\n",
       " <tf.Operation 'save/restore_all' type=NoOp>,\n",
       " <tf.Operation 'save/Const_1' type=Const>,\n",
       " <tf.Operation 'save/SaveV2_1/tensor_names' type=Const>,\n",
       " <tf.Operation 'save/SaveV2_1/shape_and_slices' type=Const>,\n",
       " <tf.Operation 'save/SaveV2_1' type=SaveV2>,\n",
       " <tf.Operation 'save/control_dependency_1' type=Identity>,\n",
       " <tf.Operation 'save/RestoreV2_1/tensor_names' type=Const>,\n",
       " <tf.Operation 'save/RestoreV2_1/shape_and_slices' type=Const>,\n",
       " <tf.Operation 'save/RestoreV2_1' type=RestoreV2>,\n",
       " <tf.Operation 'save/Assign_1' type=Assign>,\n",
       " <tf.Operation 'save/restore_all_1' type=NoOp>,\n",
       " <tf.Operation 'import/THEINPUT' type=Placeholder>,\n",
       " <tf.Operation 'import/Variable' type=Const>,\n",
       " <tf.Operation 'import/Variable/read' type=Identity>,\n",
       " <tf.Operation 'import/strided_slice/stack' type=Const>,\n",
       " <tf.Operation 'import/strided_slice/stack_2/values_0' type=Const>,\n",
       " <tf.Operation 'import/strided_slice/stack_2' type=Pack>,\n",
       " <tf.Operation 'import/strided_slice/stack_3' type=Const>,\n",
       " <tf.Operation 'import/strided_slice' type=StridedSlice>,\n",
       " <tf.Operation 'import/Reshape/shape' type=Const>,\n",
       " <tf.Operation 'import/Reshape' type=Reshape>,\n",
       " <tf.Operation 'import/strided_slice_1/stack' type=Const>,\n",
       " <tf.Operation 'import/strided_slice_1/stack_1' type=Const>,\n",
       " <tf.Operation 'import/strided_slice_1/stack_2' type=Const>,\n",
       " <tf.Operation 'import/strided_slice_1' type=StridedSlice>,\n",
       " <tf.Operation 'import/MatMul' type=MatMul>,\n",
       " <tf.Operation 'import/THEMODEL' type=Add>,\n",
       " <tf.Operation 'save_1/Const' type=Const>,\n",
       " <tf.Operation 'save_1/SaveV2/tensor_names' type=Const>,\n",
       " <tf.Operation 'save_1/SaveV2/shape_and_slices' type=Const>,\n",
       " <tf.Operation 'save_1/SaveV2' type=SaveV2>,\n",
       " <tf.Operation 'save_1/control_dependency' type=Identity>,\n",
       " <tf.Operation 'save_1/RestoreV2/tensor_names' type=Const>,\n",
       " <tf.Operation 'save_1/RestoreV2/shape_and_slices' type=Const>,\n",
       " <tf.Operation 'save_1/RestoreV2' type=RestoreV2>,\n",
       " <tf.Operation 'save_1/Assign' type=Assign>,\n",
       " <tf.Operation 'save_1/restore_all' type=NoOp>,\n",
       " <tf.Operation 'import_1/THEINPUT' type=Placeholder>,\n",
       " <tf.Operation 'import_1/Variable' type=Const>,\n",
       " <tf.Operation 'import_1/Variable/read' type=Identity>,\n",
       " <tf.Operation 'import_1/strided_slice/stack' type=Const>,\n",
       " <tf.Operation 'import_1/strided_slice/stack_2/values_0' type=Const>,\n",
       " <tf.Operation 'import_1/strided_slice/stack_2' type=Pack>,\n",
       " <tf.Operation 'import_1/strided_slice/stack_3' type=Const>,\n",
       " <tf.Operation 'import_1/strided_slice' type=StridedSlice>,\n",
       " <tf.Operation 'import_1/Reshape/shape' type=Const>,\n",
       " <tf.Operation 'import_1/Reshape' type=Reshape>,\n",
       " <tf.Operation 'import_1/strided_slice_1/stack' type=Const>,\n",
       " <tf.Operation 'import_1/strided_slice_1/stack_1' type=Const>,\n",
       " <tf.Operation 'import_1/strided_slice_1/stack_2' type=Const>,\n",
       " <tf.Operation 'import_1/strided_slice_1' type=StridedSlice>,\n",
       " <tf.Operation 'import_1/MatMul' type=MatMul>,\n",
       " <tf.Operation 'import_1/THEMODEL' type=Add>,\n",
       " <tf.Operation 'save/Const_2' type=Const>,\n",
       " <tf.Operation 'save/SaveV2_2/tensor_names' type=Const>,\n",
       " <tf.Operation 'save/SaveV2_2/shape_and_slices' type=Const>,\n",
       " <tf.Operation 'save/SaveV2_2' type=SaveV2>,\n",
       " <tf.Operation 'save/control_dependency_2' type=Identity>,\n",
       " <tf.Operation 'save/RestoreV2_2/tensor_names' type=Const>,\n",
       " <tf.Operation 'save/RestoreV2_2/shape_and_slices' type=Const>,\n",
       " <tf.Operation 'save/RestoreV2_2' type=RestoreV2>,\n",
       " <tf.Operation 'save/Assign_2' type=Assign>,\n",
       " <tf.Operation 'save/restore_all_2' type=NoOp>]"
      ]
     },
     "execution_count": 12,
     "metadata": {},
     "output_type": "execute_result"
    }
   ],
   "source": [
    "graph2.get_operations()"
   ]
  },
  {
   "cell_type": "markdown",
   "metadata": {
    "deletable": true,
    "editable": true
   },
   "source": [
    "It ended up with all of the nodes in there. We want a smaller graph to deploy. Maybe we don't want customers looking at our optimization algorithms. What we need is the extract_sub_graph utility. To save it, we realize that we don't need to actually save any of the variables, because we turned them all into constants!\\* We only need to save the meta graph. Without any variables, we don't need a session to do this. \n",
    "\n",
    "\\* tf.train.Saver({}) throws a value error instead of making an empty file. I don't like this behavior. I prefer interfaces that become quietly nilpotent. Forturnately we don't need to save anything because we can assume there are no variables to load."
   ]
  },
  {
   "cell_type": "code",
   "execution_count": 13,
   "metadata": {
    "collapsed": false,
    "deletable": true,
    "editable": true,
    "scrolled": true
   },
   "outputs": [
    {
     "name": "stdout",
     "output_type": "stream",
     "text": [
      "INFO:tensorflow:Froze 1 variables.\n",
      "Converted 1 variables to const ops.\n"
     ]
    }
   ],
   "source": [
    "output_graph_def = \\\n",
    "    tf.graph_util.convert_variables_to_constants(\n",
    "        sess,graph.as_graph_def(),[\"THEMODEL\"])\n",
    "sub_output = tf.graph_util.extract_sub_graph(\n",
    "    output_graph_def, [\"THEMODEL\"])\n",
    "graph3=tf.Graph()\n",
    "with graph3.as_default():\n",
    "    a,b=tf.import_graph_def(sub_output,\n",
    "                            name='',\n",
    "                            return_elements=['THEINPUT:0','THEMODEL:0'])\n",
    "    meta_graph_def = \\\n",
    "        tf.train.export_meta_graph(filename=\"frozenmodel2.meta\",\n",
    "                                   graph_def=graph3.as_graph_def())\n",
    "#with tf.Session(graph=graph3) as sess3:\n",
    "    #graph3.add_to_collection('variables',tf.Variable('null'))\n",
    "    #saver3 = tf.train.Saver({v.name:v for v in graph3.get_collection('variables')})\n",
    "    \n",
    "    #saver3.restore(sess3,'savemymodel')\n",
    "    #meta_graph_def = \\\n",
    "    #    tf.train.export_meta_graph(filename=\"frozenmodel.meta\",\n",
    "    #                               graph_def=sub_output)\n",
    "    #saver3.save(sess,'./frozenmodel')\n",
    "    #saver3.export_meta_graph('./frozenmodel.meta')\n"
   ]
  },
  {
   "cell_type": "code",
   "execution_count": 14,
   "metadata": {
    "collapsed": false,
    "deletable": true,
    "editable": true,
    "scrolled": true
   },
   "outputs": [
    {
     "data": {
      "text/plain": [
       "[<tf.Operation 'THEINPUT' type=Placeholder>,\n",
       " <tf.Operation 'Variable' type=Const>,\n",
       " <tf.Operation 'Variable/read' type=Identity>,\n",
       " <tf.Operation 'strided_slice/stack' type=Const>,\n",
       " <tf.Operation 'strided_slice/stack_2/values_0' type=Const>,\n",
       " <tf.Operation 'strided_slice/stack_2' type=Pack>,\n",
       " <tf.Operation 'strided_slice/stack_3' type=Const>,\n",
       " <tf.Operation 'strided_slice' type=StridedSlice>,\n",
       " <tf.Operation 'Reshape/shape' type=Const>,\n",
       " <tf.Operation 'Reshape' type=Reshape>,\n",
       " <tf.Operation 'strided_slice_1/stack' type=Const>,\n",
       " <tf.Operation 'strided_slice_1/stack_1' type=Const>,\n",
       " <tf.Operation 'strided_slice_1/stack_2' type=Const>,\n",
       " <tf.Operation 'strided_slice_1' type=StridedSlice>,\n",
       " <tf.Operation 'MatMul' type=MatMul>,\n",
       " <tf.Operation 'THEMODEL' type=Add>]"
      ]
     },
     "execution_count": 14,
     "metadata": {},
     "output_type": "execute_result"
    }
   ],
   "source": [
    "graph3.get_operations()"
   ]
  },
  {
   "cell_type": "markdown",
   "metadata": {
    "deletable": true,
    "editable": true
   },
   "source": [
    "## Importing the frozen, variableless model\n",
    "\n",
    "Now lets go ahead and reimport everything. Saver complains again because there are no variables, but it still works. There's an 'import/' prepended to the names if we didn't include the name= argument before. There are no variables in the session, but we still need a session to do loads and evaluations."
   ]
  },
  {
   "cell_type": "code",
   "execution_count": 15,
   "metadata": {
    "collapsed": false,
    "deletable": true,
    "editable": true
   },
   "outputs": [
    {
     "name": "stdout",
     "output_type": "stream",
     "text": [
      "INFO:tensorflow:Saver not created because there are no variables in the graph to restore\n",
      "[[ 0.000632]]\n"
     ]
    }
   ],
   "source": [
    "graph4 = tf.Graph()\n",
    "with tf.Session(graph=graph4) as sess4:\n",
    "    saver4 = tf.train.import_meta_graph('frozenmodel2.meta')\n",
    "    tf_x =graph4.get_tensor_by_name('THEINPUT:0') \n",
    "    model=graph4.get_tensor_by_name('THEMODEL:0')\n",
    "    \n",
    "    print model.eval(feed_dict={tf_x:np.array([[0.0,0.0]])},session=sess4)"
   ]
  },
  {
   "cell_type": "markdown",
   "metadata": {
    "deletable": true,
    "editable": true
   },
   "source": [
    "## Again, but with our new routine:\n",
    "\n",
    "At this stage, we have to make a graph and session object to restore it, and then call write_trimmed_graph"
   ]
  },
  {
   "cell_type": "code",
   "execution_count": 16,
   "metadata": {
    "collapsed": false,
    "deletable": true,
    "editable": true
   },
   "outputs": [
    {
     "name": "stdout",
     "output_type": "stream",
     "text": [
      "INFO:tensorflow:Restoring parameters from savemymodel\n",
      "INFO:tensorflow:Froze 1 variables.\n",
      "Converted 1 variables to const ops.\n"
     ]
    }
   ],
   "source": [
    "graph5 = tf.Graph()\n",
    "with tf.Session(graph=graph5) as sess5:\n",
    "    saver5 = tf.train.import_meta_graph('savemymodel.meta')\n",
    "    saver5.restore(sess5,'savemymodel')\n",
    "    write_trimmed_graph(graph5,sess5,[\"THEMODEL\"],\"trimmed_model.meta\")"
   ]
  },
  {
   "cell_type": "markdown",
   "metadata": {
    "deletable": true,
    "editable": true
   },
   "source": [
    "which we can then load with the code from the last cell. The write_trimmed_graph routine can just be called from the original training script, so I see no reason to factor this minimal code any smaller."
   ]
  },
  {
   "cell_type": "markdown",
   "metadata": {
    "deletable": true,
    "editable": true
   },
   "source": [
    "So, that's how we do that. Now we want to wrap all of this up into a subroutine that will also spit out the gradients we want. Then, we need to figure out how to link to the C++ API and call this. And then down the road, we'll want to wrap this up to make it easy to call from popcorn kernels."
   ]
  },
  {
   "cell_type": "code",
   "execution_count": 17,
   "metadata": {
    "collapsed": true
   },
   "outputs": [],
   "source": [
    "gd=graph5.as_graph_def()"
   ]
  },
  {
   "cell_type": "code",
   "execution_count": 21,
   "metadata": {
    "collapsed": false
   },
   "outputs": [],
   "source": [
    "from tensorflow.python.platform import gfile\n",
    "with gfile.GFile(\"trimmed.pb\", \"w\") as f:\n",
    "      f.write(gd.SerializeToString())"
   ]
  },
  {
   "cell_type": "code",
   "execution_count": 23,
   "metadata": {
    "collapsed": false
   },
   "outputs": [
    {
     "data": {
      "text/plain": [
       "'\\nB\\n\\x08THEINPUT\\x12\\x0bPlaceholder*\\x1c\\n\\x05shape\\x12\\x13:\\x11\\x12\\x0b\\x08\\xff\\xff\\xff\\xff\\xff\\xff\\xff\\xff\\xff\\x01\\x12\\x02\\x08\\x02*\\x0b\\n\\x05dtype\\x12\\x020\\x01\\nE\\n\\x0bPlaceholder\\x12\\x0bPlaceholder*\\x0b\\n\\x05dtype\\x12\\x020\\x01*\\x1c\\n\\x05shape\\x12\\x13:\\x11\\x12\\x0b\\x08\\xff\\xff\\xff\\xff\\xff\\xff\\xff\\xff\\xff\\x01\\x12\\x02\\x08\\x01\\n6\\n\\x05zeros\\x12\\x05Const*\\x19\\n\\x05value\\x12\\x10B\\x0e\\x08\\x01\\x12\\x04\\x12\\x02\\x08\\x03*\\x04\\x00\\x00\\x00\\x00*\\x0b\\n\\x05dtype\\x12\\x020\\x01\\nX\\n\\x08Variable\\x12\\nVariableV2*\\x11\\n\\x0bshared_name\\x12\\x02\\x12\\x00*\\x0b\\n\\x05dtype\\x12\\x020\\x01*\\x0f\\n\\tcontainer\\x12\\x02\\x12\\x00*\\x0f\\n\\x05shape\\x12\\x06:\\x04\\x12\\x02\\x08\\x03\\ny\\n\\x0fVariable/Assign\\x12\\x06Assign\\x1a\\x08Variable\\x1a\\x05zeros*\\x11\\n\\x0buse_locking\\x12\\x02(\\x01*\\x07\\n\\x01T\\x12\\x020\\x01*\\x1b\\n\\x06_class\\x12\\x11\\n\\x0f\\x12\\rloc:@Variable*\\x14\\n\\x0evalidate_shape\\x12\\x02(\\x01\\nI\\n\\rVariable/read\\x12\\x08Identity\\x1a\\x08Variable*\\x07\\n\\x01T\\x12\\x020\\x01*\\x1b\\n\\x06_class\\x12\\x11\\n\\x0f\\x12\\rloc:@Variable\\nA\\n\\x13strided_slice/stack\\x12\\x05Const*\\x16\\n\\x05value\\x12\\rB\\x0b\\x08\\x03\\x12\\x04\\x12\\x02\\x08\\x01:\\x01\\x00*\\x0b\\n\\x05dtype\\x12\\x020\\x03\\n?\\n\\x15strided_slice/stack_1\\x12\\x05Const*\\x0b\\n\\x05dtype\\x12\\x020\\x03*\\x12\\n\\x05value\\x12\\tB\\x07\\x08\\x03\\x12\\x00:\\x01\\x02\\nH\\n\\x1estrided_slice/stack_2/values_0\\x12\\x05Const*\\x12\\n\\x05value\\x12\\tB\\x07\\x08\\x03\\x12\\x00:\\x01\\x02*\\x0b\\n\\x05dtype\\x12\\x020\\x03\\n[\\n\\x15strided_slice/stack_2\\x12\\x04Pack\\x1a\\x1estrided_slice/stack_2/values_0*\\n\\n\\x04axis\\x12\\x02\\x18\\x00*\\x07\\n\\x01N\\x12\\x02\\x18\\x01*\\x07\\n\\x01T\\x12\\x020\\x03\\nC\\n\\x15strided_slice/stack_3\\x12\\x05Const*\\x16\\n\\x05value\\x12\\rB\\x0b\\x08\\x03\\x12\\x04\\x12\\x02\\x08\\x01:\\x01\\x01*\\x0b\\n\\x05dtype\\x12\\x020\\x03\\n\\xe9\\x01\\n\\rstrided_slice\\x12\\x0cStridedSlice\\x1a\\rVariable/read\\x1a\\x13strided_slice/stack\\x1a\\x15strided_slice/stack_2\\x1a\\x15strided_slice/stack_3*\\x07\\n\\x01T\\x12\\x020\\x01*\\x0b\\n\\x05Index\\x12\\x020\\x03*\\x16\\n\\x10shrink_axis_mask\\x12\\x02\\x18\\x00*\\x10\\n\\nbegin_mask\\x12\\x02\\x18\\x01*\\x13\\n\\rellipsis_mask\\x12\\x02\\x18\\x00*\\x13\\n\\rnew_axis_mask\\x12\\x02\\x18\\x00*\\x0e\\n\\x08end_mask\\x12\\x02\\x18\\x00\\nB\\n\\rReshape/shape\\x12\\x05Const*\\x1d\\n\\x05value\\x12\\x14B\\x12\\x08\\x03\\x12\\x04\\x12\\x02\\x08\\x02\"\\x08\\xff\\xff\\xff\\xff\\x01\\x00\\x00\\x00*\\x0b\\n\\x05dtype\\x12\\x020\\x03\\nG\\n\\x07Reshape\\x12\\x07Reshape\\x1a\\rstrided_slice\\x1a\\rReshape/shape*\\x07\\n\\x01T\\x12\\x020\\x01*\\x0c\\n\\x06Tshape\\x12\\x020\\x03\\nL\\n\\x15strided_slice_1/stack\\x12\\x05Const*\\x1f\\n\\x05value\\x12\\x16B\\x14\\x08\\x03\\x12\\x04\\x12\\x02\\x08\\x01:\\n\\xff\\xff\\xff\\xff\\xff\\xff\\xff\\xff\\xff\\x01*\\x0b\\n\\x05dtype\\x12\\x020\\x03\\nE\\n\\x17strided_slice_1/stack_1\\x12\\x05Const*\\x16\\n\\x05value\\x12\\rB\\x0b\\x08\\x03\\x12\\x04\\x12\\x02\\x08\\x01:\\x01\\x00*\\x0b\\n\\x05dtype\\x12\\x020\\x03\\nE\\n\\x17strided_slice_1/stack_2\\x12\\x05Const*\\x16\\n\\x05value\\x12\\rB\\x0b\\x08\\x03\\x12\\x04\\x12\\x02\\x08\\x01:\\x01\\x01*\\x0b\\n\\x05dtype\\x12\\x020\\x03\\n\\xf1\\x01\\n\\x0fstrided_slice_1\\x12\\x0cStridedSlice\\x1a\\rVariable/read\\x1a\\x15strided_slice_1/stack\\x1a\\x17strided_slice_1/stack_1\\x1a\\x17strided_slice_1/stack_2*\\x0b\\n\\x05Index\\x12\\x020\\x03*\\x07\\n\\x01T\\x12\\x020\\x01*\\x16\\n\\x10shrink_axis_mask\\x12\\x02\\x18\\x01*\\x10\\n\\nbegin_mask\\x12\\x02\\x18\\x00*\\x13\\n\\rellipsis_mask\\x12\\x02\\x18\\x00*\\x13\\n\\rnew_axis_mask\\x12\\x02\\x18\\x00*\\x0e\\n\\x08end_mask\\x12\\x02\\x18\\x00\\nR\\n\\x06MatMul\\x12\\x06MatMul\\x1a\\x08THEINPUT\\x1a\\x07Reshape*\\x11\\n\\x0btranspose_a\\x12\\x02(\\x00*\\x11\\n\\x0btranspose_b\\x12\\x02(\\x00*\\x07\\n\\x01T\\x12\\x020\\x01\\n1\\n\\x08THEMODEL\\x12\\x03Add\\x1a\\x06MatMul\\x1a\\x0fstrided_slice_1*\\x07\\n\\x01T\\x12\\x020\\x01\\n*\\n\\x03sub\\x12\\x03Sub\\x1a\\x08THEMODEL\\x1a\\x0bPlaceholder*\\x07\\n\\x01T\\x12\\x020\\x01\\n2\\n\\x05Pow/y\\x12\\x05Const*\\x15\\n\\x05value\\x12\\x0cB\\n\\x08\\x01\\x12\\x00*\\x04\\x00\\x00\\x00@*\\x0b\\n\\x05dtype\\x12\\x020\\x01\\n\\x1f\\n\\x03Pow\\x12\\x03Pow\\x1a\\x03sub\\x1a\\x05Pow/y*\\x07\\n\\x01T\\x12\\x020\\x01\\n:\\n\\x05Const\\x12\\x05Const*\\x1d\\n\\x05value\\x12\\x14B\\x12\\x08\\x03\\x12\\x04\\x12\\x02\\x08\\x02\"\\x08\\x00\\x00\\x00\\x00\\x01\\x00\\x00\\x00*\\x0b\\n\\x05dtype\\x12\\x020\\x03\\n<\\n\\x03Sum\\x12\\x03Sum\\x1a\\x03Pow\\x1a\\x05Const*\\x0f\\n\\tkeep_dims\\x12\\x02(\\x00*\\n\\n\\x04Tidx\\x12\\x020\\x03*\\x07\\n\\x01T\\x12\\x020\\x01\\n8\\n\\x0fgradients/Shape\\x12\\x05Const*\\x11\\n\\x05value\\x12\\x08B\\x06\\x08\\x03\\x12\\x02\\x12\\x00*\\x0b\\n\\x05dtype\\x12\\x020\\x03\\n<\\n\\x0fgradients/Const\\x12\\x05Const*\\x15\\n\\x05value\\x12\\x0cB\\n\\x08\\x01\\x12\\x00*\\x04\\x00\\x00\\x80?*\\x0b\\n\\x05dtype\\x12\\x020\\x01\\nA\\n\\x0egradients/Fill\\x12\\x04Fill\\x1a\\x0fgradients/Shape\\x1a\\x0fgradients/Const*\\x07\\n\\x01T\\x12\\x020\\x01\\nU\\n gradients/Sum_grad/Reshape/shape\\x12\\x05Const*\\x1d\\n\\x05value\\x12\\x14B\\x12\\x08\\x03\\x12\\x04\\x12\\x02\\x08\\x02\"\\x08\\x01\\x00\\x00\\x00\\x01\\x00\\x00\\x00*\\x0b\\n\\x05dtype\\x12\\x020\\x03\\nn\\n\\x1agradients/Sum_grad/Reshape\\x12\\x07Reshape\\x1a\\x0egradients/Fill\\x1a gradients/Sum_grad/Reshape/shape*\\x0c\\n\\x06Tshape\\x12\\x020\\x03*\\x07\\n\\x01T\\x12\\x020\\x01\\n?\\n\\x18gradients/Sum_grad/Shape\\x12\\x05Shape\\x1a\\x03Pow*\\x07\\n\\x01T\\x12\\x020\\x01*\\x0e\\n\\x08out_type\\x12\\x020\\x03\\np\\n\\x17gradients/Sum_grad/Tile\\x12\\x04Tile\\x1a\\x1agradients/Sum_grad/Reshape\\x1a\\x18gradients/Sum_grad/Shape*\\x07\\n\\x01T\\x12\\x020\\x01*\\x10\\n\\nTmultiples\\x12\\x020\\x03\\n?\\n\\x18gradients/Pow_grad/Shape\\x12\\x05Shape\\x1a\\x03sub*\\x07\\n\\x01T\\x12\\x020\\x01*\\x0e\\n\\x08out_type\\x12\\x020\\x03\\nC\\n\\x1agradients/Pow_grad/Shape_1\\x12\\x05Const*\\x11\\n\\x05value\\x12\\x08B\\x06\\x08\\x03\\x12\\x02\\x12\\x00*\\x0b\\n\\x05dtype\\x12\\x020\\x03\\n\\x80\\x01\\n(gradients/Pow_grad/BroadcastGradientArgs\\x12\\x15BroadcastGradientArgs\\x1a\\x18gradients/Pow_grad/Shape\\x1a\\x1agradients/Pow_grad/Shape_1*\\x07\\n\\x01T\\x12\\x020\\x03\\nF\\n\\x16gradients/Pow_grad/mul\\x12\\x03Mul\\x1a\\x17gradients/Sum_grad/Tile\\x1a\\x05Pow/y*\\x07\\n\\x01T\\x12\\x020\\x01\\nE\\n\\x18gradients/Pow_grad/sub/y\\x12\\x05Const*\\x15\\n\\x05value\\x12\\x0cB\\n\\x08\\x01\\x12\\x00*\\x04\\x00\\x00\\x80?*\\x0b\\n\\x05dtype\\x12\\x020\\x01\\nG\\n\\x16gradients/Pow_grad/sub\\x12\\x03Sub\\x1a\\x05Pow/y\\x1a\\x18gradients/Pow_grad/sub/y*\\x07\\n\\x01T\\x12\\x020\\x01\\nC\\n\\x16gradients/Pow_grad/Pow\\x12\\x03Pow\\x1a\\x03sub\\x1a\\x16gradients/Pow_grad/sub*\\x07\\n\\x01T\\x12\\x020\\x01\\nX\\n\\x18gradients/Pow_grad/mul_1\\x12\\x03Mul\\x1a\\x16gradients/Pow_grad/mul\\x1a\\x16gradients/Pow_grad/Pow*\\x07\\n\\x01T\\x12\\x020\\x01\\n\\x87\\x01\\n\\x16gradients/Pow_grad/Sum\\x12\\x03Sum\\x1a\\x18gradients/Pow_grad/mul_1\\x1a(gradients/Pow_grad/BroadcastGradientArgs*\\x0f\\n\\tkeep_dims\\x12\\x02(\\x00*\\n\\n\\x04Tidx\\x12\\x020\\x03*\\x07\\n\\x01T\\x12\\x020\\x01\\nn\\n\\x1agradients/Pow_grad/Reshape\\x12\\x07Reshape\\x1a\\x16gradients/Pow_grad/Sum\\x1a\\x18gradients/Pow_grad/Shape*\\x07\\n\\x01T\\x12\\x020\\x01*\\x0c\\n\\x06Tshape\\x12\\x020\\x03\\nI\\n\\x1cgradients/Pow_grad/Greater/y\\x12\\x05Const*\\x15\\n\\x05value\\x12\\x0cB\\n\\x08\\x01\\x12\\x00*\\x04\\x00\\x00\\x00\\x00*\\x0b\\n\\x05dtype\\x12\\x020\\x01\\nQ\\n\\x1agradients/Pow_grad/Greater\\x12\\x07Greater\\x1a\\x03sub\\x1a\\x1cgradients/Pow_grad/Greater/y*\\x07\\n\\x01T\\x12\\x020\\x01\\n+\\n\\x16gradients/Pow_grad/Log\\x12\\x03Log\\x1a\\x03sub*\\x07\\n\\x01T\\x12\\x020\\x01\\n8\\n\\x1dgradients/Pow_grad/zeros_like\\x12\\tZerosLike\\x1a\\x03sub*\\x07\\n\\x01T\\x12\\x020\\x01\\n\\x7f\\n\\x19gradients/Pow_grad/Select\\x12\\x06Select\\x1a\\x1agradients/Pow_grad/Greater\\x1a\\x16gradients/Pow_grad/Log\\x1a\\x1dgradients/Pow_grad/zeros_like*\\x07\\n\\x01T\\x12\\x020\\x01\\nF\\n\\x18gradients/Pow_grad/mul_2\\x12\\x03Mul\\x1a\\x17gradients/Sum_grad/Tile\\x1a\\x03Pow*\\x07\\n\\x01T\\x12\\x020\\x01\\n]\\n\\x18gradients/Pow_grad/mul_3\\x12\\x03Mul\\x1a\\x18gradients/Pow_grad/mul_2\\x1a\\x19gradients/Pow_grad/Select*\\x07\\n\\x01T\\x12\\x020\\x01\\n\\x8b\\x01\\n\\x18gradients/Pow_grad/Sum_1\\x12\\x03Sum\\x1a\\x18gradients/Pow_grad/mul_3\\x1a*gradients/Pow_grad/BroadcastGradientArgs:1*\\x0f\\n\\tkeep_dims\\x12\\x02(\\x00*\\n\\n\\x04Tidx\\x12\\x020\\x03*\\x07\\n\\x01T\\x12\\x020\\x01\\nt\\n\\x1cgradients/Pow_grad/Reshape_1\\x12\\x07Reshape\\x1a\\x18gradients/Pow_grad/Sum_1\\x1a\\x1agradients/Pow_grad/Shape_1*\\x07\\n\\x01T\\x12\\x020\\x01*\\x0c\\n\\x06Tshape\\x12\\x020\\x03\\nD\\n\\x18gradients/sub_grad/Shape\\x12\\x05Shape\\x1a\\x08THEMODEL*\\x0e\\n\\x08out_type\\x12\\x020\\x03*\\x07\\n\\x01T\\x12\\x020\\x01\\nI\\n\\x1agradients/sub_grad/Shape_1\\x12\\x05Shape\\x1a\\x0bPlaceholder*\\x07\\n\\x01T\\x12\\x020\\x01*\\x0e\\n\\x08out_type\\x12\\x020\\x03\\n\\x80\\x01\\n(gradients/sub_grad/BroadcastGradientArgs\\x12\\x15BroadcastGradientArgs\\x1a\\x18gradients/sub_grad/Shape\\x1a\\x1agradients/sub_grad/Shape_1*\\x07\\n\\x01T\\x12\\x020\\x03\\n\\x89\\x01\\n\\x16gradients/sub_grad/Sum\\x12\\x03Sum\\x1a\\x1agradients/Pow_grad/Reshape\\x1a(gradients/sub_grad/BroadcastGradientArgs*\\x07\\n\\x01T\\x12\\x020\\x01*\\x0f\\n\\tkeep_dims\\x12\\x02(\\x00*\\n\\n\\x04Tidx\\x12\\x020\\x03\\nn\\n\\x1agradients/sub_grad/Reshape\\x12\\x07Reshape\\x1a\\x16gradients/sub_grad/Sum\\x1a\\x18gradients/sub_grad/Shape*\\x07\\n\\x01T\\x12\\x020\\x01*\\x0c\\n\\x06Tshape\\x12\\x020\\x03\\n\\x8d\\x01\\n\\x18gradients/sub_grad/Sum_1\\x12\\x03Sum\\x1a\\x1agradients/Pow_grad/Reshape\\x1a*gradients/sub_grad/BroadcastGradientArgs:1*\\x0f\\n\\tkeep_dims\\x12\\x02(\\x00*\\n\\n\\x04Tidx\\x12\\x020\\x03*\\x07\\n\\x01T\\x12\\x020\\x01\\n@\\n\\x16gradients/sub_grad/Neg\\x12\\x03Neg\\x1a\\x18gradients/sub_grad/Sum_1*\\x07\\n\\x01T\\x12\\x020\\x01\\nr\\n\\x1cgradients/sub_grad/Reshape_1\\x12\\x07Reshape\\x1a\\x16gradients/sub_grad/Neg\\x1a\\x1agradients/sub_grad/Shape_1*\\x07\\n\\x01T\\x12\\x020\\x01*\\x0c\\n\\x06Tshape\\x12\\x020\\x03\\nG\\n\\x1dgradients/THEMODEL_grad/Shape\\x12\\x05Shape\\x1a\\x06MatMul*\\x07\\n\\x01T\\x12\\x020\\x01*\\x0e\\n\\x08out_type\\x12\\x020\\x03\\nH\\n\\x1fgradients/THEMODEL_grad/Shape_1\\x12\\x05Const*\\x11\\n\\x05value\\x12\\x08B\\x06\\x08\\x03\\x12\\x02\\x12\\x00*\\x0b\\n\\x05dtype\\x12\\x020\\x03\\n\\x8f\\x01\\n-gradients/THEMODEL_grad/BroadcastGradientArgs\\x12\\x15BroadcastGradientArgs\\x1a\\x1dgradients/THEMODEL_grad/Shape\\x1a\\x1fgradients/THEMODEL_grad/Shape_1*\\x07\\n\\x01T\\x12\\x020\\x03\\n\\x93\\x01\\n\\x1bgradients/THEMODEL_grad/Sum\\x12\\x03Sum\\x1a\\x1agradients/sub_grad/Reshape\\x1a-gradients/THEMODEL_grad/BroadcastGradientArgs*\\x0f\\n\\tkeep_dims\\x12\\x02(\\x00*\\n\\n\\x04Tidx\\x12\\x020\\x03*\\x07\\n\\x01T\\x12\\x020\\x01\\n}\\n\\x1fgradients/THEMODEL_grad/Reshape\\x12\\x07Reshape\\x1a\\x1bgradients/THEMODEL_grad/Sum\\x1a\\x1dgradients/THEMODEL_grad/Shape*\\x07\\n\\x01T\\x12\\x020\\x01*\\x0c\\n\\x06Tshape\\x12\\x020\\x03\\n\\x97\\x01\\n\\x1dgradients/THEMODEL_grad/Sum_1\\x12\\x03Sum\\x1a\\x1agradients/sub_grad/Reshape\\x1a/gradients/THEMODEL_grad/BroadcastGradientArgs:1*\\x0f\\n\\tkeep_dims\\x12\\x02(\\x00*\\n\\n\\x04Tidx\\x12\\x020\\x03*\\x07\\n\\x01T\\x12\\x020\\x01\\n\\x83\\x01\\n!gradients/THEMODEL_grad/Reshape_1\\x12\\x07Reshape\\x1a\\x1dgradients/THEMODEL_grad/Sum_1\\x1a\\x1fgradients/THEMODEL_grad/Shape_1*\\x07\\n\\x01T\\x12\\x020\\x01*\\x0c\\n\\x06Tshape\\x12\\x020\\x03\\n\\x7f\\n\\x1cgradients/MatMul_grad/MatMul\\x12\\x06MatMul\\x1a\\x1fgradients/THEMODEL_grad/Reshape\\x1a\\x07Reshape*\\x11\\n\\x0btranspose_a\\x12\\x02(\\x00*\\x11\\n\\x0btranspose_b\\x12\\x02(\\x01*\\x07\\n\\x01T\\x12\\x020\\x01\\n\\x82\\x01\\n\\x1egradients/MatMul_grad/MatMul_1\\x12\\x06MatMul\\x1a\\x08THEINPUT\\x1a\\x1fgradients/THEMODEL_grad/Reshape*\\x07\\n\\x01T\\x12\\x020\\x01*\\x11\\n\\x0btranspose_a\\x12\\x02(\\x01*\\x11\\n\\x0btranspose_b\\x12\\x02(\\x00\\nR\\n$gradients/strided_slice_1_grad/Shape\\x12\\x05Const*\\x16\\n\\x05value\\x12\\rB\\x0b\\x08\\x03\\x12\\x04\\x12\\x02\\x08\\x01:\\x01\\x03*\\x0b\\n\\x05dtype\\x12\\x020\\x03\\n\\xcf\\x02\\n/gradients/strided_slice_1_grad/StridedSliceGrad\\x12\\x10StridedSliceGrad\\x1a$gradients/strided_slice_1_grad/Shape\\x1a\\x15strided_slice_1/stack\\x1a\\x17strided_slice_1/stack_1\\x1a\\x17strided_slice_1/stack_2\\x1a!gradients/THEMODEL_grad/Reshape_1*\\x16\\n\\x10shrink_axis_mask\\x12\\x02\\x18\\x01*\\x10\\n\\nbegin_mask\\x12\\x02\\x18\\x00*\\x13\\n\\rellipsis_mask\\x12\\x02\\x18\\x00*\\x13\\n\\rnew_axis_mask\\x12\\x02\\x18\\x00*\\x0e\\n\\x08end_mask\\x12\\x02\\x18\\x00*\\x0b\\n\\x05Index\\x12\\x020\\x03*\\x07\\n\\x01T\\x12\\x020\\x01\\nJ\\n\\x1cgradients/Reshape_grad/Shape\\x12\\x05Const*\\x16\\n\\x05value\\x12\\rB\\x0b\\x08\\x03\\x12\\x04\\x12\\x02\\x08\\x01:\\x01\\x02*\\x0b\\n\\x05dtype\\x12\\x020\\x03\\n~\\n\\x1egradients/Reshape_grad/Reshape\\x12\\x07Reshape\\x1a\\x1egradients/MatMul_grad/MatMul_1\\x1a\\x1cgradients/Reshape_grad/Shape*\\x07\\n\\x01T\\x12\\x020\\x01*\\x0c\\n\\x06Tshape\\x12\\x020\\x03\\nP\\n\"gradients/strided_slice_grad/Shape\\x12\\x05Const*\\x16\\n\\x05value\\x12\\rB\\x0b\\x08\\x03\\x12\\x04\\x12\\x02\\x08\\x01:\\x01\\x03*\\x0b\\n\\x05dtype\\x12\\x020\\x03\\n\\xc2\\x02\\n-gradients/strided_slice_grad/StridedSliceGrad\\x12\\x10StridedSliceGrad\\x1a\"gradients/strided_slice_grad/Shape\\x1a\\x13strided_slice/stack\\x1a\\x15strided_slice/stack_2\\x1a\\x15strided_slice/stack_3\\x1a\\x1egradients/Reshape_grad/Reshape*\\x16\\n\\x10shrink_axis_mask\\x12\\x02\\x18\\x00*\\x10\\n\\nbegin_mask\\x12\\x02\\x18\\x01*\\x13\\n\\rellipsis_mask\\x12\\x02\\x18\\x00*\\x13\\n\\rnew_axis_mask\\x12\\x02\\x18\\x00*\\x0e\\n\\x08end_mask\\x12\\x02\\x18\\x00*\\x0b\\n\\x05Index\\x12\\x020\\x03*\\x07\\n\\x01T\\x12\\x020\\x01\\n\\xcc\\x01\\n\\x0egradients/AddN\\x12\\x04AddN\\x1a/gradients/strided_slice_1_grad/StridedSliceGrad\\x1a-gradients/strided_slice_grad/StridedSliceGrad*\\x07\\n\\x01T\\x12\\x020\\x01*B\\n\\x06_class\\x128\\n6\\x124loc:@gradients/strided_slice_1_grad/StridedSliceGrad*\\x07\\n\\x01N\\x12\\x02\\x18\\x02\\n:\\n\\x11gradients_1/Shape\\x12\\x05Const*\\x11\\n\\x05value\\x12\\x08B\\x06\\x08\\x03\\x12\\x02\\x12\\x00*\\x0b\\n\\x05dtype\\x12\\x020\\x03\\n>\\n\\x11gradients_1/Const\\x12\\x05Const*\\x15\\n\\x05value\\x12\\x0cB\\n\\x08\\x01\\x12\\x00*\\x04\\x00\\x00\\x80?*\\x0b\\n\\x05dtype\\x12\\x020\\x01\\nG\\n\\x10gradients_1/Fill\\x12\\x04Fill\\x1a\\x11gradients_1/Shape\\x1a\\x11gradients_1/Const*\\x07\\n\\x01T\\x12\\x020\\x01\\nW\\n\"gradients_1/Sum_grad/Reshape/shape\\x12\\x05Const*\\x1d\\n\\x05value\\x12\\x14B\\x12\\x08\\x03\\x12\\x04\\x12\\x02\\x08\\x02\"\\x08\\x01\\x00\\x00\\x00\\x01\\x00\\x00\\x00*\\x0b\\n\\x05dtype\\x12\\x020\\x03\\nt\\n\\x1cgradients_1/Sum_grad/Reshape\\x12\\x07Reshape\\x1a\\x10gradients_1/Fill\\x1a\"gradients_1/Sum_grad/Reshape/shape*\\x07\\n\\x01T\\x12\\x020\\x01*\\x0c\\n\\x06Tshape\\x12\\x020\\x03\\nA\\n\\x1agradients_1/Sum_grad/Shape\\x12\\x05Shape\\x1a\\x03Pow*\\x07\\n\\x01T\\x12\\x020\\x01*\\x0e\\n\\x08out_type\\x12\\x020\\x03\\nv\\n\\x19gradients_1/Sum_grad/Tile\\x12\\x04Tile\\x1a\\x1cgradients_1/Sum_grad/Reshape\\x1a\\x1agradients_1/Sum_grad/Shape*\\x10\\n\\nTmultiples\\x12\\x020\\x03*\\x07\\n\\x01T\\x12\\x020\\x01\\nA\\n\\x1agradients_1/Pow_grad/Shape\\x12\\x05Shape\\x1a\\x03sub*\\x07\\n\\x01T\\x12\\x020\\x01*\\x0e\\n\\x08out_type\\x12\\x020\\x03\\nE\\n\\x1cgradients_1/Pow_grad/Shape_1\\x12\\x05Const*\\x11\\n\\x05value\\x12\\x08B\\x06\\x08\\x03\\x12\\x02\\x12\\x00*\\x0b\\n\\x05dtype\\x12\\x020\\x03\\n\\x86\\x01\\n*gradients_1/Pow_grad/BroadcastGradientArgs\\x12\\x15BroadcastGradientArgs\\x1a\\x1agradients_1/Pow_grad/Shape\\x1a\\x1cgradients_1/Pow_grad/Shape_1*\\x07\\n\\x01T\\x12\\x020\\x03\\nJ\\n\\x18gradients_1/Pow_grad/mul\\x12\\x03Mul\\x1a\\x19gradients_1/Sum_grad/Tile\\x1a\\x05Pow/y*\\x07\\n\\x01T\\x12\\x020\\x01\\nG\\n\\x1agradients_1/Pow_grad/sub/y\\x12\\x05Const*\\x15\\n\\x05value\\x12\\x0cB\\n\\x08\\x01\\x12\\x00*\\x04\\x00\\x00\\x80?*\\x0b\\n\\x05dtype\\x12\\x020\\x01\\nK\\n\\x18gradients_1/Pow_grad/sub\\x12\\x03Sub\\x1a\\x05Pow/y\\x1a\\x1agradients_1/Pow_grad/sub/y*\\x07\\n\\x01T\\x12\\x020\\x01\\nG\\n\\x18gradients_1/Pow_grad/Pow\\x12\\x03Pow\\x1a\\x03sub\\x1a\\x18gradients_1/Pow_grad/sub*\\x07\\n\\x01T\\x12\\x020\\x01\\n^\\n\\x1agradients_1/Pow_grad/mul_1\\x12\\x03Mul\\x1a\\x18gradients_1/Pow_grad/mul\\x1a\\x18gradients_1/Pow_grad/Pow*\\x07\\n\\x01T\\x12\\x020\\x01\\n\\x8d\\x01\\n\\x18gradients_1/Pow_grad/Sum\\x12\\x03Sum\\x1a\\x1agradients_1/Pow_grad/mul_1\\x1a*gradients_1/Pow_grad/BroadcastGradientArgs*\\x0f\\n\\tkeep_dims\\x12\\x02(\\x00*\\n\\n\\x04Tidx\\x12\\x020\\x03*\\x07\\n\\x01T\\x12\\x020\\x01\\nt\\n\\x1cgradients_1/Pow_grad/Reshape\\x12\\x07Reshape\\x1a\\x18gradients_1/Pow_grad/Sum\\x1a\\x1agradients_1/Pow_grad/Shape*\\x07\\n\\x01T\\x12\\x020\\x01*\\x0c\\n\\x06Tshape\\x12\\x020\\x03\\nK\\n\\x1egradients_1/Pow_grad/Greater/y\\x12\\x05Const*\\x15\\n\\x05value\\x12\\x0cB\\n\\x08\\x01\\x12\\x00*\\x04\\x00\\x00\\x00\\x00*\\x0b\\n\\x05dtype\\x12\\x020\\x01\\nU\\n\\x1cgradients_1/Pow_grad/Greater\\x12\\x07Greater\\x1a\\x03sub\\x1a\\x1egradients_1/Pow_grad/Greater/y*\\x07\\n\\x01T\\x12\\x020\\x01\\n-\\n\\x18gradients_1/Pow_grad/Log\\x12\\x03Log\\x1a\\x03sub*\\x07\\n\\x01T\\x12\\x020\\x01\\n:\\n\\x1fgradients_1/Pow_grad/zeros_like\\x12\\tZerosLike\\x1a\\x03sub*\\x07\\n\\x01T\\x12\\x020\\x01\\n\\x87\\x01\\n\\x1bgradients_1/Pow_grad/Select\\x12\\x06Select\\x1a\\x1cgradients_1/Pow_grad/Greater\\x1a\\x18gradients_1/Pow_grad/Log\\x1a\\x1fgradients_1/Pow_grad/zeros_like*\\x07\\n\\x01T\\x12\\x020\\x01\\nJ\\n\\x1agradients_1/Pow_grad/mul_2\\x12\\x03Mul\\x1a\\x19gradients_1/Sum_grad/Tile\\x1a\\x03Pow*\\x07\\n\\x01T\\x12\\x020\\x01\\nc\\n\\x1agradients_1/Pow_grad/mul_3\\x12\\x03Mul\\x1a\\x1agradients_1/Pow_grad/mul_2\\x1a\\x1bgradients_1/Pow_grad/Select*\\x07\\n\\x01T\\x12\\x020\\x01\\n\\x91\\x01\\n\\x1agradients_1/Pow_grad/Sum_1\\x12\\x03Sum\\x1a\\x1agradients_1/Pow_grad/mul_3\\x1a,gradients_1/Pow_grad/BroadcastGradientArgs:1*\\x07\\n\\x01T\\x12\\x020\\x01*\\x0f\\n\\tkeep_dims\\x12\\x02(\\x00*\\n\\n\\x04Tidx\\x12\\x020\\x03\\nz\\n\\x1egradients_1/Pow_grad/Reshape_1\\x12\\x07Reshape\\x1a\\x1agradients_1/Pow_grad/Sum_1\\x1a\\x1cgradients_1/Pow_grad/Shape_1*\\x07\\n\\x01T\\x12\\x020\\x01*\\x0c\\n\\x06Tshape\\x12\\x020\\x03\\nF\\n\\x1agradients_1/sub_grad/Shape\\x12\\x05Shape\\x1a\\x08THEMODEL*\\x07\\n\\x01T\\x12\\x020\\x01*\\x0e\\n\\x08out_type\\x12\\x020\\x03\\nK\\n\\x1cgradients_1/sub_grad/Shape_1\\x12\\x05Shape\\x1a\\x0bPlaceholder*\\x07\\n\\x01T\\x12\\x020\\x01*\\x0e\\n\\x08out_type\\x12\\x020\\x03\\n\\x86\\x01\\n*gradients_1/sub_grad/BroadcastGradientArgs\\x12\\x15BroadcastGradientArgs\\x1a\\x1agradients_1/sub_grad/Shape\\x1a\\x1cgradients_1/sub_grad/Shape_1*\\x07\\n\\x01T\\x12\\x020\\x03\\n\\x8f\\x01\\n\\x18gradients_1/sub_grad/Sum\\x12\\x03Sum\\x1a\\x1cgradients_1/Pow_grad/Reshape\\x1a*gradients_1/sub_grad/BroadcastGradientArgs*\\x07\\n\\x01T\\x12\\x020\\x01*\\x0f\\n\\tkeep_dims\\x12\\x02(\\x00*\\n\\n\\x04Tidx\\x12\\x020\\x03\\nt\\n\\x1cgradients_1/sub_grad/Reshape\\x12\\x07Reshape\\x1a\\x18gradients_1/sub_grad/Sum\\x1a\\x1agradients_1/sub_grad/Shape*\\x07\\n\\x01T\\x12\\x020\\x01*\\x0c\\n\\x06Tshape\\x12\\x020\\x03\\n\\x93\\x01\\n\\x1agradients_1/sub_grad/Sum_1\\x12\\x03Sum\\x1a\\x1cgradients_1/Pow_grad/Reshape\\x1a,gradients_1/sub_grad/BroadcastGradientArgs:1*\\x0f\\n\\tkeep_dims\\x12\\x02(\\x00*\\n\\n\\x04Tidx\\x12\\x020\\x03*\\x07\\n\\x01T\\x12\\x020\\x01\\nD\\n\\x18gradients_1/sub_grad/Neg\\x12\\x03Neg\\x1a\\x1agradients_1/sub_grad/Sum_1*\\x07\\n\\x01T\\x12\\x020\\x01\\nx\\n\\x1egradients_1/sub_grad/Reshape_1\\x12\\x07Reshape\\x1a\\x18gradients_1/sub_grad/Neg\\x1a\\x1cgradients_1/sub_grad/Shape_1*\\x07\\n\\x01T\\x12\\x020\\x01*\\x0c\\n\\x06Tshape\\x12\\x020\\x03\\nI\\n\\x1fgradients_1/THEMODEL_grad/Shape\\x12\\x05Shape\\x1a\\x06MatMul*\\x07\\n\\x01T\\x12\\x020\\x01*\\x0e\\n\\x08out_type\\x12\\x020\\x03\\nJ\\n!gradients_1/THEMODEL_grad/Shape_1\\x12\\x05Const*\\x0b\\n\\x05dtype\\x12\\x020\\x03*\\x11\\n\\x05value\\x12\\x08B\\x06\\x08\\x03\\x12\\x02\\x12\\x00\\n\\x95\\x01\\n/gradients_1/THEMODEL_grad/BroadcastGradientArgs\\x12\\x15BroadcastGradientArgs\\x1a\\x1fgradients_1/THEMODEL_grad/Shape\\x1a!gradients_1/THEMODEL_grad/Shape_1*\\x07\\n\\x01T\\x12\\x020\\x03\\n\\x99\\x01\\n\\x1dgradients_1/THEMODEL_grad/Sum\\x12\\x03Sum\\x1a\\x1cgradients_1/sub_grad/Reshape\\x1a/gradients_1/THEMODEL_grad/BroadcastGradientArgs*\\x0f\\n\\tkeep_dims\\x12\\x02(\\x00*\\n\\n\\x04Tidx\\x12\\x020\\x03*\\x07\\n\\x01T\\x12\\x020\\x01\\n\\x83\\x01\\n!gradients_1/THEMODEL_grad/Reshape\\x12\\x07Reshape\\x1a\\x1dgradients_1/THEMODEL_grad/Sum\\x1a\\x1fgradients_1/THEMODEL_grad/Shape*\\x07\\n\\x01T\\x12\\x020\\x01*\\x0c\\n\\x06Tshape\\x12\\x020\\x03\\n\\x9d\\x01\\n\\x1fgradients_1/THEMODEL_grad/Sum_1\\x12\\x03Sum\\x1a\\x1cgradients_1/sub_grad/Reshape\\x1a1gradients_1/THEMODEL_grad/BroadcastGradientArgs:1*\\x0f\\n\\tkeep_dims\\x12\\x02(\\x00*\\n\\n\\x04Tidx\\x12\\x020\\x03*\\x07\\n\\x01T\\x12\\x020\\x01\\n\\x89\\x01\\n#gradients_1/THEMODEL_grad/Reshape_1\\x12\\x07Reshape\\x1a\\x1fgradients_1/THEMODEL_grad/Sum_1\\x1a!gradients_1/THEMODEL_grad/Shape_1*\\x07\\n\\x01T\\x12\\x020\\x01*\\x0c\\n\\x06Tshape\\x12\\x020\\x03\\n\\x83\\x01\\n\\x1egradients_1/MatMul_grad/MatMul\\x12\\x06MatMul\\x1a!gradients_1/THEMODEL_grad/Reshape\\x1a\\x07Reshape*\\x11\\n\\x0btranspose_a\\x12\\x02(\\x00*\\x11\\n\\x0btranspose_b\\x12\\x02(\\x01*\\x07\\n\\x01T\\x12\\x020\\x01\\n\\x86\\x01\\n gradients_1/MatMul_grad/MatMul_1\\x12\\x06MatMul\\x1a\\x08THEINPUT\\x1a!gradients_1/THEMODEL_grad/Reshape*\\x07\\n\\x01T\\x12\\x020\\x01*\\x11\\n\\x0btranspose_a\\x12\\x02(\\x01*\\x11\\n\\x0btranspose_b\\x12\\x02(\\x00\\nT\\n&gradients_1/strided_slice_1_grad/Shape\\x12\\x05Const*\\x16\\n\\x05value\\x12\\rB\\x0b\\x08\\x03\\x12\\x04\\x12\\x02\\x08\\x01:\\x01\\x03*\\x0b\\n\\x05dtype\\x12\\x020\\x03\\n\\xd5\\x02\\n1gradients_1/strided_slice_1_grad/StridedSliceGrad\\x12\\x10StridedSliceGrad\\x1a&gradients_1/strided_slice_1_grad/Shape\\x1a\\x15strided_slice_1/stack\\x1a\\x17strided_slice_1/stack_1\\x1a\\x17strided_slice_1/stack_2\\x1a#gradients_1/THEMODEL_grad/Reshape_1*\\x13\\n\\rnew_axis_mask\\x12\\x02\\x18\\x00*\\x0e\\n\\x08end_mask\\x12\\x02\\x18\\x00*\\x0b\\n\\x05Index\\x12\\x020\\x03*\\x07\\n\\x01T\\x12\\x020\\x01*\\x16\\n\\x10shrink_axis_mask\\x12\\x02\\x18\\x01*\\x13\\n\\rellipsis_mask\\x12\\x02\\x18\\x00*\\x10\\n\\nbegin_mask\\x12\\x02\\x18\\x00\\nL\\n\\x1egradients_1/Reshape_grad/Shape\\x12\\x05Const*\\x16\\n\\x05value\\x12\\rB\\x0b\\x08\\x03\\x12\\x04\\x12\\x02\\x08\\x01:\\x01\\x02*\\x0b\\n\\x05dtype\\x12\\x020\\x03\\n\\x84\\x01\\n gradients_1/Reshape_grad/Reshape\\x12\\x07Reshape\\x1a gradients_1/MatMul_grad/MatMul_1\\x1a\\x1egradients_1/Reshape_grad/Shape*\\x07\\n\\x01T\\x12\\x020\\x01*\\x0c\\n\\x06Tshape\\x12\\x020\\x03\\nR\\n$gradients_1/strided_slice_grad/Shape\\x12\\x05Const*\\x0b\\n\\x05dtype\\x12\\x020\\x03*\\x16\\n\\x05value\\x12\\rB\\x0b\\x08\\x03\\x12\\x04\\x12\\x02\\x08\\x01:\\x01\\x03\\n\\xc8\\x02\\n/gradients_1/strided_slice_grad/StridedSliceGrad\\x12\\x10StridedSliceGrad\\x1a$gradients_1/strided_slice_grad/Shape\\x1a\\x13strided_slice/stack\\x1a\\x15strided_slice/stack_2\\x1a\\x15strided_slice/stack_3\\x1a gradients_1/Reshape_grad/Reshape*\\x0b\\n\\x05Index\\x12\\x020\\x03*\\x07\\n\\x01T\\x12\\x020\\x01*\\x16\\n\\x10shrink_axis_mask\\x12\\x02\\x18\\x00*\\x13\\n\\rellipsis_mask\\x12\\x02\\x18\\x00*\\x10\\n\\nbegin_mask\\x12\\x02\\x18\\x01*\\x13\\n\\rnew_axis_mask\\x12\\x02\\x18\\x00*\\x0e\\n\\x08end_mask\\x12\\x02\\x18\\x00\\n\\xd4\\x01\\n\\x10gradients_1/AddN\\x12\\x04AddN\\x1a1gradients_1/strided_slice_1_grad/StridedSliceGrad\\x1a/gradients_1/strided_slice_grad/StridedSliceGrad*\\x07\\n\\x01N\\x12\\x02\\x18\\x02*\\x07\\n\\x01T\\x12\\x020\\x01*D\\n\\x06_class\\x12:\\n8\\x126loc:@gradients_1/strided_slice_1_grad/StridedSliceGrad\\n:\\n\\x10assert_rank/rank\\x12\\x05Const*\\x12\\n\\x05value\\x12\\tB\\x07\\x08\\x03\\x12\\x00:\\x01\\x01*\\x0b\\n\\x05dtype\\x12\\x020\\x03\\n?\\n\\x11assert_rank/Shape\\x12\\x05Const*\\x16\\n\\x05value\\x12\\rB\\x0b\\x08\\x03\\x12\\x04\\x12\\x02\\x08\\x01:\\x01\\x03*\\x0b\\n\\x05dtype\\x12\\x020\\x03\\nB\\n:assert_rank/assert_type/statically_determined_correct_type\\x12\\x04NoOp\\n3\\n+assert_rank/static_checks_determined_all_ok\\x12\\x04NoOp\\n\\\\\\n\\x04Size\\x12\\x05Const\\x1a,^assert_rank/static_checks_determined_all_ok*\\x12\\n\\x05value\\x12\\tB\\x07\\x08\\x03\\x12\\x00:\\x01\\x03*\\x0b\\n\\x05dtype\\x12\\x020\\x03\\n_\\n\\x07Const_1\\x12\\x05Const\\x1a,^assert_rank/static_checks_determined_all_ok*\\x12\\n\\x05value\\x12\\tB\\x07\\x08\\x03\\x12\\x00:\\x01\\x00*\\x0b\\n\\x05dtype\\x12\\x020\\x03\\n\\x8b\\x01\\n\\x0bTensorArray\\x12\\rTensorArrayV3\\x1a\\x04Size*\\x17\\n\\x11tensor_array_name\\x12\\x02\\x12\\x00*\\x0b\\n\\x05dtype\\x12\\x020\\x01*\\x15\\n\\relement_shape\\x12\\x04:\\x02\\x18\\x01*\\x12\\n\\x0cdynamic_size\\x12\\x02(\\x00*\\x16\\n\\x10clear_after_read\\x12\\x02(\\x01\\ny\\n\\x0bwhile/Enter\\x12\\x05Enter\\x1a\\x07Const_1*\\x07\\n\\x01T\\x12\\x020\\x03*\\x11\\n\\x0bis_constant\\x12\\x02(\\x00*\\x19\\n\\x13parallel_iterations\\x12\\x02\\x18\\n*#\\n\\nframe_name\\x12\\x15\\x12\\x13while/while_context\\n\\x81\\x01\\n\\rwhile/Enter_1\\x12\\x05Enter\\x1a\\rTensorArray:1*\\x07\\n\\x01T\\x12\\x020\\x01*\\x11\\n\\x0bis_constant\\x12\\x02(\\x00*\\x19\\n\\x13parallel_iterations\\x12\\x02\\x18\\n*#\\n\\nframe_name\\x12\\x15\\x12\\x13while/while_context\\nH\\n\\x0bwhile/Merge\\x12\\x05Merge\\x1a\\x0bwhile/Enter\\x1a\\x13while/NextIteration*\\x07\\n\\x01T\\x12\\x020\\x03*\\x07\\n\\x01N\\x12\\x02\\x18\\x02\\nN\\n\\rwhile/Merge_1\\x12\\x05Merge\\x1a\\rwhile/Enter_1\\x1a\\x15while/NextIteration_1*\\x07\\n\\x01T\\x12\\x020\\x01*\\x07\\n\\x01N\\x12\\x02\\x18\\x02\\n{\\n\\x10while/Less/Enter\\x12\\x05Enter\\x1a\\x04Size*\\x19\\n\\x13parallel_iterations\\x12\\x02\\x18\\n*#\\n\\nframe_name\\x12\\x15\\x12\\x13while/while_context*\\x07\\n\\x01T\\x12\\x020\\x03*\\x11\\n\\x0bis_constant\\x12\\x02(\\x01\\n:\\n\\nwhile/Less\\x12\\x04Less\\x1a\\x0bwhile/Merge\\x1a\\x10while/Less/Enter*\\x07\\n\\x01T\\x12\\x020\\x03\\n&\\n\\x0ewhile/LoopCond\\x12\\x08LoopCond\\x1a\\nwhile/Less\\n\\\\\\n\\x0cwhile/Switch\\x12\\x06Switch\\x1a\\x0bwhile/Merge\\x1a\\x0ewhile/LoopCond*\\x07\\n\\x01T\\x12\\x020\\x03*\\x1e\\n\\x06_class\\x12\\x14\\n\\x12\\x12\\x10loc:@while/Merge\\nb\\n\\x0ewhile/Switch_1\\x12\\x06Switch\\x1a\\rwhile/Merge_1\\x1a\\x0ewhile/LoopCond* \\n\\x06_class\\x12\\x16\\n\\x14\\x12\\x12loc:@while/Merge_1*\\x07\\n\\x01T\\x12\\x020\\x01\\n3\\n\\x0ewhile/Identity\\x12\\x08Identity\\x1a\\x0ewhile/Switch:1*\\x07\\n\\x01T\\x12\\x020\\x03\\n7\\n\\x10while/Identity_1\\x12\\x08Identity\\x1a\\x10while/Switch_1:1*\\x07\\n\\x01T\\x12\\x020\\x01\\nF\\n\\x0bwhile/add/y\\x12\\x05Const\\x1a\\x0f^while/Identity*\\x12\\n\\x05value\\x12\\tB\\x07\\x08\\x03\\x12\\x00:\\x01\\x01*\\x0b\\n\\x05dtype\\x12\\x020\\x03\\n6\\n\\twhile/add\\x12\\x03Add\\x1a\\x0ewhile/Identity\\x1a\\x0bwhile/add/y*\\x07\\n\\x01T\\x12\\x020\\x03\\nH\\n\\rwhile/add_1/y\\x12\\x05Const\\x1a\\x0f^while/Identity*\\x12\\n\\x05value\\x12\\tB\\x07\\x08\\x03\\x12\\x00:\\x01\\x01*\\x0b\\n\\x05dtype\\x12\\x020\\x03\\n:\\n\\x0bwhile/add_1\\x12\\x03Add\\x1a\\x0ewhile/Identity\\x1a\\rwhile/add_1/y*\\x07\\n\\x01T\\x12\\x020\\x03\\nO\\n\\x19while/strided_slice/stack\\x12\\x04Pack\\x1a\\x0ewhile/Identity*\\n\\n\\x04axis\\x12\\x02\\x18\\x00*\\x07\\n\\x01N\\x12\\x02\\x18\\x01*\\x07\\n\\x01T\\x12\\x020\\x03\\nN\\n\\x1bwhile/strided_slice/stack_1\\x12\\x04Pack\\x1a\\x0bwhile/add_1*\\x07\\n\\x01T\\x12\\x020\\x03*\\n\\n\\x04axis\\x12\\x02\\x18\\x00*\\x07\\n\\x01N\\x12\\x02\\x18\\x01\\nZ\\n\\x1bwhile/strided_slice/stack_2\\x12\\x05Const\\x1a\\x0f^while/Identity*\\x16\\n\\x05value\\x12\\rB\\x0b\\x08\\x03\\x12\\x04\\x12\\x02\\x08\\x01:\\x01\\x01*\\x0b\\n\\x05dtype\\x12\\x020\\x03\\n\\xbe\\x01\\n\\x19while/strided_slice/Enter\\x12\\x05Enter\\x1a\\x10gradients_1/AddN\\x1a,^assert_rank/static_checks_determined_all_ok*#\\n\\nframe_name\\x12\\x15\\x12\\x13while/while_context*\\x07\\n\\x01T\\x12\\x020\\x01*\\x11\\n\\x0bis_constant\\x12\\x02(\\x01*\\x19\\n\\x13parallel_iterations\\x12\\x02\\x18\\n\\n\\x8d\\x02\\n\\x13while/strided_slice\\x12\\x0cStridedSlice\\x1a\\x19while/strided_slice/Enter\\x1a\\x19while/strided_slice/stack\\x1a\\x1bwhile/strided_slice/stack_1\\x1a\\x1bwhile/strided_slice/stack_2*\\x07\\n\\x01T\\x12\\x020\\x01*\\x0b\\n\\x05Index\\x12\\x020\\x03*\\x16\\n\\x10shrink_axis_mask\\x12\\x02\\x18\\x01*\\x10\\n\\nbegin_mask\\x12\\x02\\x18\\x00*\\x13\\n\\rellipsis_mask\\x12\\x02\\x18\\x00*\\x13\\n\\rnew_axis_mask\\x12\\x02\\x18\\x00*\\x0e\\n\\x08end_mask\\x12\\x02\\x18\\x00\\nO\\n\\x15while/gradients/Shape\\x12\\x05Const\\x1a\\x0f^while/Identity*\\x11\\n\\x05value\\x12\\x08B\\x06\\x08\\x03\\x12\\x02\\x12\\x00*\\x0b\\n\\x05dtype\\x12\\x020\\x03\\nS\\n\\x15while/gradients/Const\\x12\\x05Const\\x1a\\x0f^while/Identity*\\x15\\n\\x05value\\x12\\x0cB\\n\\x08\\x01\\x12\\x00*\\x04\\x00\\x00\\x80?*\\x0b\\n\\x05dtype\\x12\\x020\\x01\\nS\\n\\x14while/gradients/Fill\\x12\\x04Fill\\x1a\\x15while/gradients/Shape\\x1a\\x15while/gradients/Const*\\x07\\n\\x01T\\x12\\x020\\x01\\nm\\n.while/gradients/while/strided_slice_grad/Shape\\x12\\x05Const\\x1a\\x0f^while/Identity*\\x16\\n\\x05value\\x12\\rB\\x0b\\x08\\x03\\x12\\x04\\x12\\x02\\x08\\x01:\\x01\\x03*\\x0b\\n\\x05dtype\\x12\\x020\\x03\\n\\xe2\\x02\\n9while/gradients/while/strided_slice_grad/StridedSliceGrad\\x12\\x10StridedSliceGrad\\x1a.while/gradients/while/strided_slice_grad/Shape\\x1a\\x19while/strided_slice/stack\\x1a\\x1bwhile/strided_slice/stack_1\\x1a\\x1bwhile/strided_slice/stack_2\\x1a\\x14while/gradients/Fill*\\x16\\n\\x10shrink_axis_mask\\x12\\x02\\x18\\x01*\\x10\\n\\nbegin_mask\\x12\\x02\\x18\\x00*\\x13\\n\\rellipsis_mask\\x12\\x02\\x18\\x00*\\x13\\n\\rnew_axis_mask\\x12\\x02\\x18\\x00*\\x0e\\n\\x08end_mask\\x12\\x02\\x18\\x00*\\x0b\\n\\x05Index\\x12\\x020\\x03*\\x07\\n\\x01T\\x12\\x020\\x01\\n\\x83\\x02\\nYwhile/gradients/gradients_1/strided_slice_1_grad/StridedSliceGrad_grad/StridedSlice/Enter\\x12\\x05Enter\\x1a\\x15strided_slice_1/stack\\x1a,^assert_rank/static_checks_determined_all_ok*\\x19\\n\\x13parallel_iterations\\x12\\x02\\x18\\n*#\\n\\nframe_name\\x12\\x15\\x12\\x13while/while_context*\\x07\\n\\x01T\\x12\\x020\\x03*\\x11\\n\\x0bis_constant\\x12\\x02(\\x01\\n\\x87\\x02\\n[while/gradients/gradients_1/strided_slice_1_grad/StridedSliceGrad_grad/StridedSlice/Enter_1\\x12\\x05Enter\\x1a\\x17strided_slice_1/stack_1\\x1a,^assert_rank/static_checks_determined_all_ok*\\x07\\n\\x01T\\x12\\x020\\x03*\\x11\\n\\x0bis_constant\\x12\\x02(\\x01*\\x19\\n\\x13parallel_iterations\\x12\\x02\\x18\\n*#\\n\\nframe_name\\x12\\x15\\x12\\x13while/while_context\\n\\x87\\x02\\n[while/gradients/gradients_1/strided_slice_1_grad/StridedSliceGrad_grad/StridedSlice/Enter_2\\x12\\x05Enter\\x1a\\x17strided_slice_1/stack_2\\x1a,^assert_rank/static_checks_determined_all_ok*#\\n\\nframe_name\\x12\\x15\\x12\\x13while/while_context*\\x07\\n\\x01T\\x12\\x020\\x03*\\x11\\n\\x0bis_constant\\x12\\x02(\\x01*\\x19\\n\\x13parallel_iterations\\x12\\x02\\x18\\n\\n\\xad\\x04\\nSwhile/gradients/gradients_1/strided_slice_1_grad/StridedSliceGrad_grad/StridedSlice\\x12\\x0cStridedSlice\\x1a9while/gradients/while/strided_slice_grad/StridedSliceGrad\\x1aYwhile/gradients/gradients_1/strided_slice_1_grad/StridedSliceGrad_grad/StridedSlice/Enter\\x1a[while/gradients/gradients_1/strided_slice_1_grad/StridedSliceGrad_grad/StridedSlice/Enter_1\\x1a[while/gradients/gradients_1/strided_slice_1_grad/StridedSliceGrad_grad/StridedSlice/Enter_2*\\x16\\n\\x10shrink_axis_mask\\x12\\x02\\x18\\x01*\\x13\\n\\rellipsis_mask\\x12\\x02\\x18\\x00*\\x10\\n\\nbegin_mask\\x12\\x02\\x18\\x00*\\x13\\n\\rnew_axis_mask\\x12\\x02\\x18\\x00*\\x0e\\n\\x08end_mask\\x12\\x02\\x18\\x00*\\x07\\n\\x01T\\x12\\x020\\x01*\\x0b\\n\\x05Index\\x12\\x020\\x03\\n\\xff\\x01\\nWwhile/gradients/gradients_1/strided_slice_grad/StridedSliceGrad_grad/StridedSlice/Enter\\x12\\x05Enter\\x1a\\x13strided_slice/stack\\x1a,^assert_rank/static_checks_determined_all_ok*\\x07\\n\\x01T\\x12\\x020\\x03*\\x11\\n\\x0bis_constant\\x12\\x02(\\x01*\\x19\\n\\x13parallel_iterations\\x12\\x02\\x18\\n*#\\n\\nframe_name\\x12\\x15\\x12\\x13while/while_context\\n\\x83\\x02\\nYwhile/gradients/gradients_1/strided_slice_grad/StridedSliceGrad_grad/StridedSlice/Enter_1\\x12\\x05Enter\\x1a\\x15strided_slice/stack_2\\x1a,^assert_rank/static_checks_determined_all_ok*\\x07\\n\\x01T\\x12\\x020\\x03*\\x11\\n\\x0bis_constant\\x12\\x02(\\x01*\\x19\\n\\x13parallel_iterations\\x12\\x02\\x18\\n*#\\n\\nframe_name\\x12\\x15\\x12\\x13while/while_context\\n\\x83\\x02\\nYwhile/gradients/gradients_1/strided_slice_grad/StridedSliceGrad_grad/StridedSlice/Enter_2\\x12\\x05Enter\\x1a\\x15strided_slice/stack_3\\x1a,^assert_rank/static_checks_determined_all_ok*\\x11\\n\\x0bis_constant\\x12\\x02(\\x01*\\x19\\n\\x13parallel_iterations\\x12\\x02\\x18\\n*#\\n\\nframe_name\\x12\\x15\\x12\\x13while/while_context*\\x07\\n\\x01T\\x12\\x020\\x03\\n\\xa5\\x04\\nQwhile/gradients/gradients_1/strided_slice_grad/StridedSliceGrad_grad/StridedSlice\\x12\\x0cStridedSlice\\x1a9while/gradients/while/strided_slice_grad/StridedSliceGrad\\x1aWwhile/gradients/gradients_1/strided_slice_grad/StridedSliceGrad_grad/StridedSlice/Enter\\x1aYwhile/gradients/gradients_1/strided_slice_grad/StridedSliceGrad_grad/StridedSlice/Enter_1\\x1aYwhile/gradients/gradients_1/strided_slice_grad/StridedSliceGrad_grad/StridedSlice/Enter_2*\\x13\\n\\rnew_axis_mask\\x12\\x02\\x18\\x00*\\x0e\\n\\x08end_mask\\x12\\x02\\x18\\x00*\\x0b\\n\\x05Index\\x12\\x020\\x03*\\x07\\n\\x01T\\x12\\x020\\x01*\\x16\\n\\x10shrink_axis_mask\\x12\\x02\\x18\\x00*\\x10\\n\\nbegin_mask\\x12\\x02\\x18\\x01*\\x13\\n\\rellipsis_mask\\x12\\x02\\x18\\x00\\n\\xf8\\x01\\nDwhile/gradients/gradients_1/THEMODEL_grad/Reshape_1_grad/Shape/Enter\\x12\\x05Enter\\x1a\\x1fgradients_1/THEMODEL_grad/Sum_1\\x1a,^assert_rank/static_checks_determined_all_ok*\\x19\\n\\x13parallel_iterations\\x12\\x02\\x18\\n*#\\n\\nframe_name\\x12\\x15\\x12\\x13while/while_context*\\x07\\n\\x01T\\x12\\x020\\x01*\\x11\\n\\x0bis_constant\\x12\\x02(\\x01\\n\\xb7\\x01\\n>while/gradients/gradients_1/THEMODEL_grad/Reshape_1_grad/Shape\\x12\\x05Shape\\x1aDwhile/gradients/gradients_1/THEMODEL_grad/Reshape_1_grad/Shape/Enter\\x1a\\x0f^while/Identity*\\x0e\\n\\x08out_type\\x12\\x020\\x03*\\x07\\n\\x01T\\x12\\x020\\x01\\n\\xf7\\x01\\n@while/gradients/gradients_1/THEMODEL_grad/Reshape_1_grad/Reshape\\x12\\x07Reshape\\x1aSwhile/gradients/gradients_1/strided_slice_1_grad/StridedSliceGrad_grad/StridedSlice\\x1a>while/gradients/gradients_1/THEMODEL_grad/Reshape_1_grad/Shape*\\x07\\n\\x01T\\x12\\x020\\x01*\\x0c\\n\\x06Tshape\\x12\\x020\\x03\\n\\x81\\x01\\n;while/gradients/gradients_1/Reshape_grad/Reshape_grad/Shape\\x12\\x05Const\\x1a\\x0f^while/Identity*\\x1d\\n\\x05value\\x12\\x14B\\x12\\x08\\x03\\x12\\x04\\x12\\x02\\x08\\x02\"\\x08\\x02\\x00\\x00\\x00\\x01\\x00\\x00\\x00*\\x0b\\n\\x05dtype\\x12\\x020\\x03\\n\\xef\\x01\\n=while/gradients/gradients_1/Reshape_grad/Reshape_grad/Reshape\\x12\\x07Reshape\\x1aQwhile/gradients/gradients_1/strided_slice_grad/StridedSliceGrad_grad/StridedSlice\\x1a;while/gradients/gradients_1/Reshape_grad/Reshape_grad/Shape*\\x07\\n\\x01T\\x12\\x020\\x01*\\x0c\\n\\x06Tshape\\x12\\x020\\x03\\n\\xf1\\x01\\n@while/gradients/gradients_1/THEMODEL_grad/Sum_1_grad/Shape/Enter\\x12\\x05Enter\\x1a\\x1cgradients_1/sub_grad/Reshape\\x1a,^assert_rank/static_checks_determined_all_ok*\\x07\\n\\x01T\\x12\\x020\\x01*\\x11\\n\\x0bis_constant\\x12\\x02(\\x01*\\x19\\n\\x13parallel_iterations\\x12\\x02\\x18\\n*#\\n\\nframe_name\\x12\\x15\\x12\\x13while/while_context\\n\\xaf\\x01\\n:while/gradients/gradients_1/THEMODEL_grad/Sum_1_grad/Shape\\x12\\x05Shape\\x1a@while/gradients/gradients_1/THEMODEL_grad/Sum_1_grad/Shape/Enter\\x1a\\x0f^while/Identity*\\x07\\n\\x01T\\x12\\x020\\x01*\\x0e\\n\\x08out_type\\x12\\x020\\x03\\n\\xc3\\x01\\n9while/gradients/gradients_1/THEMODEL_grad/Sum_1_grad/Size\\x12\\x05Const\\x1a\\x0f^while/Identity*M\\n\\x06_class\\x12C\\nA\\x12?loc:@while/gradients/gradients_1/THEMODEL_grad/Sum_1_grad/Shape*\\x12\\n\\x05value\\x12\\tB\\x07\\x08\\x03\\x12\\x00:\\x01\\x02*\\x0b\\n\\x05dtype\\x12\\x020\\x03\\n\\xd3\\x02\\n>while/gradients/gradients_1/THEMODEL_grad/Sum_1_grad/add/Enter\\x12\\x05Enter\\x1a1gradients_1/THEMODEL_grad/BroadcastGradientArgs:1\\x1a,^assert_rank/static_checks_determined_all_ok*#\\n\\nframe_name\\x12\\x15\\x12\\x13while/while_context*\\x07\\n\\x01T\\x12\\x020\\x03*M\\n\\x06_class\\x12C\\nA\\x12?loc:@while/gradients/gradients_1/THEMODEL_grad/Sum_1_grad/Shape*\\x19\\n\\x13parallel_iterations\\x12\\x02\\x18\\n*\\x11\\n\\x0bis_constant\\x12\\x02(\\x01\\n\\x92\\x02\\n8while/gradients/gradients_1/THEMODEL_grad/Sum_1_grad/add\\x12\\x03Add\\x1a>while/gradients/gradients_1/THEMODEL_grad/Sum_1_grad/add/Enter\\x1a9while/gradients/gradients_1/THEMODEL_grad/Sum_1_grad/Size*M\\n\\x06_class\\x12C\\nA\\x12?loc:@while/gradients/gradients_1/THEMODEL_grad/Sum_1_grad/Shape*\\x07\\n\\x01T\\x12\\x020\\x03\\n\\x91\\x02\\n8while/gradients/gradients_1/THEMODEL_grad/Sum_1_grad/mod\\x12\\x08FloorMod\\x1a8while/gradients/gradients_1/THEMODEL_grad/Sum_1_grad/add\\x1a9while/gradients/gradients_1/THEMODEL_grad/Sum_1_grad/Size*\\x07\\n\\x01T\\x12\\x020\\x03*M\\n\\x06_class\\x12C\\nA\\x12?loc:@while/gradients/gradients_1/THEMODEL_grad/Sum_1_grad/Shape\\n\\xe7\\x01\\n<while/gradients/gradients_1/THEMODEL_grad/Sum_1_grad/Shape_1\\x12\\x05Shape\\x1a8while/gradients/gradients_1/THEMODEL_grad/Sum_1_grad/mod*\\x07\\n\\x01T\\x12\\x020\\x03*M\\n\\x06_class\\x12C\\nA\\x12?loc:@while/gradients/gradients_1/THEMODEL_grad/Sum_1_grad/Shape*\\x0e\\n\\x08out_type\\x12\\x020\\x03\\n\\xca\\x01\\n@while/gradients/gradients_1/THEMODEL_grad/Sum_1_grad/range/start\\x12\\x05Const\\x1a\\x0f^while/Identity*M\\n\\x06_class\\x12C\\nA\\x12?loc:@while/gradients/gradients_1/THEMODEL_grad/Sum_1_grad/Shape*\\x12\\n\\x05value\\x12\\tB\\x07\\x08\\x03\\x12\\x00:\\x01\\x00*\\x0b\\n\\x05dtype\\x12\\x020\\x03\\n\\xca\\x01\\n@while/gradients/gradients_1/THEMODEL_grad/Sum_1_grad/range/delta\\x12\\x05Const\\x1a\\x0f^while/Identity*M\\n\\x06_class\\x12C\\nA\\x12?loc:@while/gradients/gradients_1/THEMODEL_grad/Sum_1_grad/Shape*\\x12\\n\\x05value\\x12\\tB\\x07\\x08\\x03\\x12\\x00:\\x01\\x01*\\x0b\\n\\x05dtype\\x12\\x020\\x03\\n\\xdd\\x02\\n:while/gradients/gradients_1/THEMODEL_grad/Sum_1_grad/range\\x12\\x05Range\\x1a@while/gradients/gradients_1/THEMODEL_grad/Sum_1_grad/range/start\\x1a9while/gradients/gradients_1/THEMODEL_grad/Sum_1_grad/Size\\x1a@while/gradients/gradients_1/THEMODEL_grad/Sum_1_grad/range/delta*M\\n\\x06_class\\x12C\\nA\\x12?loc:@while/gradients/gradients_1/THEMODEL_grad/Sum_1_grad/Shape*\\n\\n\\x04Tidx\\x12\\x020\\x03\\n\\xc9\\x01\\n?while/gradients/gradients_1/THEMODEL_grad/Sum_1_grad/Fill/value\\x12\\x05Const\\x1a\\x0f^while/Identity*M\\n\\x06_class\\x12C\\nA\\x12?loc:@while/gradients/gradients_1/THEMODEL_grad/Sum_1_grad/Shape*\\x12\\n\\x05value\\x12\\tB\\x07\\x08\\x03\\x12\\x00:\\x01\\x01*\\x0b\\n\\x05dtype\\x12\\x020\\x03\\n\\x98\\x02\\n9while/gradients/gradients_1/THEMODEL_grad/Sum_1_grad/Fill\\x12\\x04Fill\\x1a<while/gradients/gradients_1/THEMODEL_grad/Sum_1_grad/Shape_1\\x1a?while/gradients/gradients_1/THEMODEL_grad/Sum_1_grad/Fill/value*\\x07\\n\\x01T\\x12\\x020\\x03*M\\n\\x06_class\\x12C\\nA\\x12?loc:@while/gradients/gradients_1/THEMODEL_grad/Sum_1_grad/Shape\\n\\xa1\\x03\\nBwhile/gradients/gradients_1/THEMODEL_grad/Sum_1_grad/DynamicStitch\\x12\\rDynamicStitch\\x1a:while/gradients/gradients_1/THEMODEL_grad/Sum_1_grad/range\\x1a8while/gradients/gradients_1/THEMODEL_grad/Sum_1_grad/mod\\x1a:while/gradients/gradients_1/THEMODEL_grad/Sum_1_grad/Shape\\x1a9while/gradients/gradients_1/THEMODEL_grad/Sum_1_grad/Fill*\\x07\\n\\x01N\\x12\\x02\\x18\\x02*\\x07\\n\\x01T\\x12\\x020\\x03*M\\n\\x06_class\\x12C\\nA\\x12?loc:@while/gradients/gradients_1/THEMODEL_grad/Sum_1_grad/Shape\\n\\xc8\\x01\\n>while/gradients/gradients_1/THEMODEL_grad/Sum_1_grad/Maximum/y\\x12\\x05Const\\x1a\\x0f^while/Identity*M\\n\\x06_class\\x12C\\nA\\x12?loc:@while/gradients/gradients_1/THEMODEL_grad/Sum_1_grad/Shape*\\x12\\n\\x05value\\x12\\tB\\x07\\x08\\x03\\x12\\x00:\\x01\\x01*\\x0b\\n\\x05dtype\\x12\\x020\\x03\\n\\xa3\\x02\\n<while/gradients/gradients_1/THEMODEL_grad/Sum_1_grad/Maximum\\x12\\x07Maximum\\x1aBwhile/gradients/gradients_1/THEMODEL_grad/Sum_1_grad/DynamicStitch\\x1a>while/gradients/gradients_1/THEMODEL_grad/Sum_1_grad/Maximum/y*\\x07\\n\\x01T\\x12\\x020\\x03*M\\n\\x06_class\\x12C\\nA\\x12?loc:@while/gradients/gradients_1/THEMODEL_grad/Sum_1_grad/Shape\\n\\x9b\\x02\\n=while/gradients/gradients_1/THEMODEL_grad/Sum_1_grad/floordiv\\x12\\x08FloorDiv\\x1a:while/gradients/gradients_1/THEMODEL_grad/Sum_1_grad/Shape\\x1a<while/gradients/gradients_1/THEMODEL_grad/Sum_1_grad/Maximum*\\x07\\n\\x01T\\x12\\x020\\x03*M\\n\\x06_class\\x12C\\nA\\x12?loc:@while/gradients/gradients_1/THEMODEL_grad/Sum_1_grad/Shape\\n\\xe4\\x01\\n<while/gradients/gradients_1/THEMODEL_grad/Sum_1_grad/Reshape\\x12\\x07Reshape\\x1a@while/gradients/gradients_1/THEMODEL_grad/Reshape_1_grad/Reshape\\x1aBwhile/gradients/gradients_1/THEMODEL_grad/Sum_1_grad/DynamicStitch*\\x07\\n\\x01T\\x12\\x020\\x01*\\x0c\\n\\x06Tshape\\x12\\x020\\x03\\n\\xd9\\x01\\n9while/gradients/gradients_1/THEMODEL_grad/Sum_1_grad/Tile\\x12\\x04Tile\\x1a<while/gradients/gradients_1/THEMODEL_grad/Sum_1_grad/Reshape\\x1a=while/gradients/gradients_1/THEMODEL_grad/Sum_1_grad/floordiv*\\x10\\n\\nTmultiples\\x12\\x020\\x03*\\x07\\n\\x01T\\x12\\x020\\x01\\n\\xf8\\x01\\nBwhile/gradients/gradients_1/MatMul_grad/MatMul_1_grad/MatMul/Enter\\x12\\x05Enter\\x1a!gradients_1/THEMODEL_grad/Reshape\\x1a,^assert_rank/static_checks_determined_all_ok*\\x19\\n\\x13parallel_iterations\\x12\\x02\\x18\\n*#\\n\\nframe_name\\x12\\x15\\x12\\x13while/while_context*\\x07\\n\\x01T\\x12\\x020\\x01*\\x11\\n\\x0bis_constant\\x12\\x02(\\x01\\n\\xf8\\x01\\n<while/gradients/gradients_1/MatMul_grad/MatMul_1_grad/MatMul\\x12\\x06MatMul\\x1aBwhile/gradients/gradients_1/MatMul_grad/MatMul_1_grad/MatMul/Enter\\x1a=while/gradients/gradients_1/Reshape_grad/Reshape_grad/Reshape*\\x11\\n\\x0btranspose_b\\x12\\x02(\\x01*\\x07\\n\\x01T\\x12\\x020\\x01*\\x11\\n\\x0btranspose_a\\x12\\x02(\\x00\\n\\xe1\\x01\\nDwhile/gradients/gradients_1/MatMul_grad/MatMul_1_grad/MatMul_1/Enter\\x12\\x05Enter\\x1a\\x08THEINPUT\\x1a,^assert_rank/static_checks_determined_all_ok*\\x19\\n\\x13parallel_iterations\\x12\\x02\\x18\\n*#\\n\\nframe_name\\x12\\x15\\x12\\x13while/while_context*\\x07\\n\\x01T\\x12\\x020\\x01*\\x11\\n\\x0bis_constant\\x12\\x02(\\x01\\n\\xfc\\x01\\n>while/gradients/gradients_1/MatMul_grad/MatMul_1_grad/MatMul_1\\x12\\x06MatMul\\x1aDwhile/gradients/gradients_1/MatMul_grad/MatMul_1_grad/MatMul_1/Enter\\x1a=while/gradients/gradients_1/Reshape_grad/Reshape_grad/Reshape*\\x07\\n\\x01T\\x12\\x020\\x01*\\x11\\n\\x0btranspose_a\\x12\\x02(\\x00*\\x11\\n\\x0btranspose_b\\x12\\x02(\\x00\\n\\xf4\\x01\\nBwhile/gradients/gradients_1/THEMODEL_grad/Reshape_grad/Shape/Enter\\x12\\x05Enter\\x1a\\x1dgradients_1/THEMODEL_grad/Sum\\x1a,^assert_rank/static_checks_determined_all_ok*\\x07\\n\\x01T\\x12\\x020\\x01*\\x11\\n\\x0bis_constant\\x12\\x02(\\x01*\\x19\\n\\x13parallel_iterations\\x12\\x02\\x18\\n*#\\n\\nframe_name\\x12\\x15\\x12\\x13while/while_context\\n\\xb3\\x01\\n<while/gradients/gradients_1/THEMODEL_grad/Reshape_grad/Shape\\x12\\x05Shape\\x1aBwhile/gradients/gradients_1/THEMODEL_grad/Reshape_grad/Shape/Enter\\x1a\\x0f^while/Identity*\\x07\\n\\x01T\\x12\\x020\\x01*\\x0e\\n\\x08out_type\\x12\\x020\\x03\\n\\xde\\x01\\n>while/gradients/gradients_1/THEMODEL_grad/Reshape_grad/Reshape\\x12\\x07Reshape\\x1a>while/gradients/gradients_1/MatMul_grad/MatMul_1_grad/MatMul_1\\x1a<while/gradients/gradients_1/THEMODEL_grad/Reshape_grad/Shape*\\x07\\n\\x01T\\x12\\x020\\x01*\\x0c\\n\\x06Tshape\\x12\\x020\\x03\\n\\xad\\x01\\n8while/gradients/gradients_1/THEMODEL_grad/Sum_grad/Shape\\x12\\x05Shape\\x1a@while/gradients/gradients_1/THEMODEL_grad/Sum_1_grad/Shape/Enter\\x1a\\x0f^while/Identity*\\x07\\n\\x01T\\x12\\x020\\x01*\\x0e\\n\\x08out_type\\x12\\x020\\x03\\n\\xbf\\x01\\n7while/gradients/gradients_1/THEMODEL_grad/Sum_grad/Size\\x12\\x05Const\\x1a\\x0f^while/Identity*K\\n\\x06_class\\x12A\\n?\\x12=loc:@while/gradients/gradients_1/THEMODEL_grad/Sum_grad/Shape*\\x12\\n\\x05value\\x12\\tB\\x07\\x08\\x03\\x12\\x00:\\x01\\x02*\\x0b\\n\\x05dtype\\x12\\x020\\x03\\n\\xcd\\x02\\n<while/gradients/gradients_1/THEMODEL_grad/Sum_grad/add/Enter\\x12\\x05Enter\\x1a/gradients_1/THEMODEL_grad/BroadcastGradientArgs\\x1a,^assert_rank/static_checks_determined_all_ok*\\x07\\n\\x01T\\x12\\x020\\x03*K\\n\\x06_class\\x12A\\n?\\x12=loc:@while/gradients/gradients_1/THEMODEL_grad/Sum_grad/Shape*\\x19\\n\\x13parallel_iterations\\x12\\x02\\x18\\n*\\x11\\n\\x0bis_constant\\x12\\x02(\\x01*#\\n\\nframe_name\\x12\\x15\\x12\\x13while/while_context\\n\\x8a\\x02\\n6while/gradients/gradients_1/THEMODEL_grad/Sum_grad/add\\x12\\x03Add\\x1a<while/gradients/gradients_1/THEMODEL_grad/Sum_grad/add/Enter\\x1a7while/gradients/gradients_1/THEMODEL_grad/Sum_grad/Size*\\x07\\n\\x01T\\x12\\x020\\x03*K\\n\\x06_class\\x12A\\n?\\x12=loc:@while/gradients/gradients_1/THEMODEL_grad/Sum_grad/Shape\\n\\x89\\x02\\n6while/gradients/gradients_1/THEMODEL_grad/Sum_grad/mod\\x12\\x08FloorMod\\x1a6while/gradients/gradients_1/THEMODEL_grad/Sum_grad/add\\x1a7while/gradients/gradients_1/THEMODEL_grad/Sum_grad/Size*\\x07\\n\\x01T\\x12\\x020\\x03*K\\n\\x06_class\\x12A\\n?\\x12=loc:@while/gradients/gradients_1/THEMODEL_grad/Sum_grad/Shape\\n\\xe1\\x01\\n:while/gradients/gradients_1/THEMODEL_grad/Sum_grad/Shape_1\\x12\\x05Shape\\x1a6while/gradients/gradients_1/THEMODEL_grad/Sum_grad/mod*\\x07\\n\\x01T\\x12\\x020\\x03*K\\n\\x06_class\\x12A\\n?\\x12=loc:@while/gradients/gradients_1/THEMODEL_grad/Sum_grad/Shape*\\x0e\\n\\x08out_type\\x12\\x020\\x03\\n\\xc6\\x01\\n>while/gradients/gradients_1/THEMODEL_grad/Sum_grad/range/start\\x12\\x05Const\\x1a\\x0f^while/Identity*K\\n\\x06_class\\x12A\\n?\\x12=loc:@while/gradients/gradients_1/THEMODEL_grad/Sum_grad/Shape*\\x12\\n\\x05value\\x12\\tB\\x07\\x08\\x03\\x12\\x00:\\x01\\x00*\\x0b\\n\\x05dtype\\x12\\x020\\x03\\n\\xc6\\x01\\n>while/gradients/gradients_1/THEMODEL_grad/Sum_grad/range/delta\\x12\\x05Const\\x1a\\x0f^while/Identity*K\\n\\x06_class\\x12A\\n?\\x12=loc:@while/gradients/gradients_1/THEMODEL_grad/Sum_grad/Shape*\\x12\\n\\x05value\\x12\\tB\\x07\\x08\\x03\\x12\\x00:\\x01\\x01*\\x0b\\n\\x05dtype\\x12\\x020\\x03\\n\\xd3\\x02\\n8while/gradients/gradients_1/THEMODEL_grad/Sum_grad/range\\x12\\x05Range\\x1a>while/gradients/gradients_1/THEMODEL_grad/Sum_grad/range/start\\x1a7while/gradients/gradients_1/THEMODEL_grad/Sum_grad/Size\\x1a>while/gradients/gradients_1/THEMODEL_grad/Sum_grad/range/delta*\\n\\n\\x04Tidx\\x12\\x020\\x03*K\\n\\x06_class\\x12A\\n?\\x12=loc:@while/gradients/gradients_1/THEMODEL_grad/Sum_grad/Shape\\n\\xc5\\x01\\n=while/gradients/gradients_1/THEMODEL_grad/Sum_grad/Fill/value\\x12\\x05Const\\x1a\\x0f^while/Identity*\\x0b\\n\\x05dtype\\x12\\x020\\x03*K\\n\\x06_class\\x12A\\n?\\x12=loc:@while/gradients/gradients_1/THEMODEL_grad/Sum_grad/Shape*\\x12\\n\\x05value\\x12\\tB\\x07\\x08\\x03\\x12\\x00:\\x01\\x01\\n\\x90\\x02\\n7while/gradients/gradients_1/THEMODEL_grad/Sum_grad/Fill\\x12\\x04Fill\\x1a:while/gradients/gradients_1/THEMODEL_grad/Sum_grad/Shape_1\\x1a=while/gradients/gradients_1/THEMODEL_grad/Sum_grad/Fill/value*\\x07\\n\\x01T\\x12\\x020\\x03*K\\n\\x06_class\\x12A\\n?\\x12=loc:@while/gradients/gradients_1/THEMODEL_grad/Sum_grad/Shape\\n\\x95\\x03\\n@while/gradients/gradients_1/THEMODEL_grad/Sum_grad/DynamicStitch\\x12\\rDynamicStitch\\x1a8while/gradients/gradients_1/THEMODEL_grad/Sum_grad/range\\x1a6while/gradients/gradients_1/THEMODEL_grad/Sum_grad/mod\\x1a8while/gradients/gradients_1/THEMODEL_grad/Sum_grad/Shape\\x1a7while/gradients/gradients_1/THEMODEL_grad/Sum_grad/Fill*\\x07\\n\\x01T\\x12\\x020\\x03*K\\n\\x06_class\\x12A\\n?\\x12=loc:@while/gradients/gradients_1/THEMODEL_grad/Sum_grad/Shape*\\x07\\n\\x01N\\x12\\x02\\x18\\x02\\n\\xc4\\x01\\n<while/gradients/gradients_1/THEMODEL_grad/Sum_grad/Maximum/y\\x12\\x05Const\\x1a\\x0f^while/Identity*K\\n\\x06_class\\x12A\\n?\\x12=loc:@while/gradients/gradients_1/THEMODEL_grad/Sum_grad/Shape*\\x12\\n\\x05value\\x12\\tB\\x07\\x08\\x03\\x12\\x00:\\x01\\x01*\\x0b\\n\\x05dtype\\x12\\x020\\x03\\n\\x9b\\x02\\n:while/gradients/gradients_1/THEMODEL_grad/Sum_grad/Maximum\\x12\\x07Maximum\\x1a@while/gradients/gradients_1/THEMODEL_grad/Sum_grad/DynamicStitch\\x1a<while/gradients/gradients_1/THEMODEL_grad/Sum_grad/Maximum/y*K\\n\\x06_class\\x12A\\n?\\x12=loc:@while/gradients/gradients_1/THEMODEL_grad/Sum_grad/Shape*\\x07\\n\\x01T\\x12\\x020\\x03\\n\\x93\\x02\\n;while/gradients/gradients_1/THEMODEL_grad/Sum_grad/floordiv\\x12\\x08FloorDiv\\x1a8while/gradients/gradients_1/THEMODEL_grad/Sum_grad/Shape\\x1a:while/gradients/gradients_1/THEMODEL_grad/Sum_grad/Maximum*\\x07\\n\\x01T\\x12\\x020\\x03*K\\n\\x06_class\\x12A\\n?\\x12=loc:@while/gradients/gradients_1/THEMODEL_grad/Sum_grad/Shape\\n\\xde\\x01\\n:while/gradients/gradients_1/THEMODEL_grad/Sum_grad/Reshape\\x12\\x07Reshape\\x1a>while/gradients/gradients_1/THEMODEL_grad/Reshape_grad/Reshape\\x1a@while/gradients/gradients_1/THEMODEL_grad/Sum_grad/DynamicStitch*\\x07\\n\\x01T\\x12\\x020\\x01*\\x0c\\n\\x06Tshape\\x12\\x020\\x03\\n\\xd3\\x01\\n7while/gradients/gradients_1/THEMODEL_grad/Sum_grad/Tile\\x12\\x04Tile\\x1a:while/gradients/gradients_1/THEMODEL_grad/Sum_grad/Reshape\\x1a;while/gradients/gradients_1/THEMODEL_grad/Sum_grad/floordiv*\\x07\\n\\x01T\\x12\\x020\\x01*\\x10\\n\\nTmultiples\\x12\\x020\\x03\\n\\xf0\\x01\\n\\x14while/gradients/AddN\\x12\\x04AddN\\x1a9while/gradients/gradients_1/THEMODEL_grad/Sum_1_grad/Tile\\x1a7while/gradients/gradients_1/THEMODEL_grad/Sum_grad/Tile*\\x07\\n\\x01T\\x12\\x020\\x01*L\\n\\x06_class\\x12B\\n@\\x12>loc:@while/gradients/gradients_1/THEMODEL_grad/Sum_1_grad/Tile*\\x07\\n\\x01N\\x12\\x02\\x18\\x02\\n\\xea\\x01\\n=while/gradients/gradients_1/sub_grad/Reshape_grad/Shape/Enter\\x12\\x05Enter\\x1a\\x18gradients_1/sub_grad/Sum\\x1a,^assert_rank/static_checks_determined_all_ok*\\x07\\n\\x01T\\x12\\x020\\x01*\\x11\\n\\x0bis_constant\\x12\\x02(\\x01*\\x19\\n\\x13parallel_iterations\\x12\\x02\\x18\\n*#\\n\\nframe_name\\x12\\x15\\x12\\x13while/while_context\\n\\xa9\\x01\\n7while/gradients/gradients_1/sub_grad/Reshape_grad/Shape\\x12\\x05Shape\\x1a=while/gradients/gradients_1/sub_grad/Reshape_grad/Shape/Enter\\x1a\\x0f^while/Identity*\\x07\\n\\x01T\\x12\\x020\\x01*\\x0e\\n\\x08out_type\\x12\\x020\\x03\\n\\xaa\\x01\\n9while/gradients/gradients_1/sub_grad/Reshape_grad/Reshape\\x12\\x07Reshape\\x1a\\x14while/gradients/AddN\\x1a7while/gradients/gradients_1/sub_grad/Reshape_grad/Shape*\\x0c\\n\\x06Tshape\\x12\\x020\\x03*\\x07\\n\\x01T\\x12\\x020\\x01\\n\\xea\\x01\\n9while/gradients/gradients_1/sub_grad/Sum_grad/Shape/Enter\\x12\\x05Enter\\x1a\\x1cgradients_1/Pow_grad/Reshape\\x1a,^assert_rank/static_checks_determined_all_ok*\\x07\\n\\x01T\\x12\\x020\\x01*\\x11\\n\\x0bis_constant\\x12\\x02(\\x01*\\x19\\n\\x13parallel_iterations\\x12\\x02\\x18\\n*#\\n\\nframe_name\\x12\\x15\\x12\\x13while/while_context\\n\\xa1\\x01\\n3while/gradients/gradients_1/sub_grad/Sum_grad/Shape\\x12\\x05Shape\\x1a9while/gradients/gradients_1/sub_grad/Sum_grad/Shape/Enter\\x1a\\x0f^while/Identity*\\x07\\n\\x01T\\x12\\x020\\x01*\\x0e\\n\\x08out_type\\x12\\x020\\x03\\n\\xb5\\x01\\n2while/gradients/gradients_1/sub_grad/Sum_grad/Size\\x12\\x05Const\\x1a\\x0f^while/Identity*F\\n\\x06_class\\x12<\\n:\\x128loc:@while/gradients/gradients_1/sub_grad/Sum_grad/Shape*\\x12\\n\\x05value\\x12\\tB\\x07\\x08\\x03\\x12\\x00:\\x01\\x02*\\x0b\\n\\x05dtype\\x12\\x020\\x03\\n\\xbe\\x02\\n7while/gradients/gradients_1/sub_grad/Sum_grad/add/Enter\\x12\\x05Enter\\x1a*gradients_1/sub_grad/BroadcastGradientArgs\\x1a,^assert_rank/static_checks_determined_all_ok*\\x07\\n\\x01T\\x12\\x020\\x03*F\\n\\x06_class\\x12<\\n:\\x128loc:@while/gradients/gradients_1/sub_grad/Sum_grad/Shape*\\x19\\n\\x13parallel_iterations\\x12\\x02\\x18\\n*\\x11\\n\\x0bis_constant\\x12\\x02(\\x01*#\\n\\nframe_name\\x12\\x15\\x12\\x13while/while_context\\n\\xf6\\x01\\n1while/gradients/gradients_1/sub_grad/Sum_grad/add\\x12\\x03Add\\x1a7while/gradients/gradients_1/sub_grad/Sum_grad/add/Enter\\x1a2while/gradients/gradients_1/sub_grad/Sum_grad/Size*\\x07\\n\\x01T\\x12\\x020\\x03*F\\n\\x06_class\\x12<\\n:\\x128loc:@while/gradients/gradients_1/sub_grad/Sum_grad/Shape\\n\\xf5\\x01\\n1while/gradients/gradients_1/sub_grad/Sum_grad/mod\\x12\\x08FloorMod\\x1a1while/gradients/gradients_1/sub_grad/Sum_grad/add\\x1a2while/gradients/gradients_1/sub_grad/Sum_grad/Size*\\x07\\n\\x01T\\x12\\x020\\x03*F\\n\\x06_class\\x12<\\n:\\x128loc:@while/gradients/gradients_1/sub_grad/Sum_grad/Shape\\n\\xd2\\x01\\n5while/gradients/gradients_1/sub_grad/Sum_grad/Shape_1\\x12\\x05Shape\\x1a1while/gradients/gradients_1/sub_grad/Sum_grad/mod*\\x07\\n\\x01T\\x12\\x020\\x03*F\\n\\x06_class\\x12<\\n:\\x128loc:@while/gradients/gradients_1/sub_grad/Sum_grad/Shape*\\x0e\\n\\x08out_type\\x12\\x020\\x03\\n\\xbc\\x01\\n9while/gradients/gradients_1/sub_grad/Sum_grad/range/start\\x12\\x05Const\\x1a\\x0f^while/Identity*F\\n\\x06_class\\x12<\\n:\\x128loc:@while/gradients/gradients_1/sub_grad/Sum_grad/Shape*\\x12\\n\\x05value\\x12\\tB\\x07\\x08\\x03\\x12\\x00:\\x01\\x00*\\x0b\\n\\x05dtype\\x12\\x020\\x03\\n\\xbc\\x01\\n9while/gradients/gradients_1/sub_grad/Sum_grad/range/delta\\x12\\x05Const\\x1a\\x0f^while/Identity*F\\n\\x06_class\\x12<\\n:\\x128loc:@while/gradients/gradients_1/sub_grad/Sum_grad/Shape*\\x12\\n\\x05value\\x12\\tB\\x07\\x08\\x03\\x12\\x00:\\x01\\x01*\\x0b\\n\\x05dtype\\x12\\x020\\x03\\n\\xba\\x02\\n3while/gradients/gradients_1/sub_grad/Sum_grad/range\\x12\\x05Range\\x1a9while/gradients/gradients_1/sub_grad/Sum_grad/range/start\\x1a2while/gradients/gradients_1/sub_grad/Sum_grad/Size\\x1a9while/gradients/gradients_1/sub_grad/Sum_grad/range/delta*\\n\\n\\x04Tidx\\x12\\x020\\x03*F\\n\\x06_class\\x12<\\n:\\x128loc:@while/gradients/gradients_1/sub_grad/Sum_grad/Shape\\n\\xbb\\x01\\n8while/gradients/gradients_1/sub_grad/Sum_grad/Fill/value\\x12\\x05Const\\x1a\\x0f^while/Identity*\\x0b\\n\\x05dtype\\x12\\x020\\x03*F\\n\\x06_class\\x12<\\n:\\x128loc:@while/gradients/gradients_1/sub_grad/Sum_grad/Shape*\\x12\\n\\x05value\\x12\\tB\\x07\\x08\\x03\\x12\\x00:\\x01\\x01\\n\\xfc\\x01\\n2while/gradients/gradients_1/sub_grad/Sum_grad/Fill\\x12\\x04Fill\\x1a5while/gradients/gradients_1/sub_grad/Sum_grad/Shape_1\\x1a8while/gradients/gradients_1/sub_grad/Sum_grad/Fill/value*\\x07\\n\\x01T\\x12\\x020\\x03*F\\n\\x06_class\\x12<\\n:\\x128loc:@while/gradients/gradients_1/sub_grad/Sum_grad/Shape\\n\\xf7\\x02\\n;while/gradients/gradients_1/sub_grad/Sum_grad/DynamicStitch\\x12\\rDynamicStitch\\x1a3while/gradients/gradients_1/sub_grad/Sum_grad/range\\x1a1while/gradients/gradients_1/sub_grad/Sum_grad/mod\\x1a3while/gradients/gradients_1/sub_grad/Sum_grad/Shape\\x1a2while/gradients/gradients_1/sub_grad/Sum_grad/Fill*\\x07\\n\\x01T\\x12\\x020\\x03*F\\n\\x06_class\\x12<\\n:\\x128loc:@while/gradients/gradients_1/sub_grad/Sum_grad/Shape*\\x07\\n\\x01N\\x12\\x02\\x18\\x02\\n\\xba\\x01\\n7while/gradients/gradients_1/sub_grad/Sum_grad/Maximum/y\\x12\\x05Const\\x1a\\x0f^while/Identity*F\\n\\x06_class\\x12<\\n:\\x128loc:@while/gradients/gradients_1/sub_grad/Sum_grad/Shape*\\x12\\n\\x05value\\x12\\tB\\x07\\x08\\x03\\x12\\x00:\\x01\\x01*\\x0b\\n\\x05dtype\\x12\\x020\\x03\\n\\x87\\x02\\n5while/gradients/gradients_1/sub_grad/Sum_grad/Maximum\\x12\\x07Maximum\\x1a;while/gradients/gradients_1/sub_grad/Sum_grad/DynamicStitch\\x1a7while/gradients/gradients_1/sub_grad/Sum_grad/Maximum/y*\\x07\\n\\x01T\\x12\\x020\\x03*F\\n\\x06_class\\x12<\\n:\\x128loc:@while/gradients/gradients_1/sub_grad/Sum_grad/Shape\\n\\xff\\x01\\n6while/gradients/gradients_1/sub_grad/Sum_grad/floordiv\\x12\\x08FloorDiv\\x1a3while/gradients/gradients_1/sub_grad/Sum_grad/Shape\\x1a5while/gradients/gradients_1/sub_grad/Sum_grad/Maximum*\\x07\\n\\x01T\\x12\\x020\\x03*F\\n\\x06_class\\x12<\\n:\\x128loc:@while/gradients/gradients_1/sub_grad/Sum_grad/Shape\\n\\xcf\\x01\\n5while/gradients/gradients_1/sub_grad/Sum_grad/Reshape\\x12\\x07Reshape\\x1a9while/gradients/gradients_1/sub_grad/Reshape_grad/Reshape\\x1a;while/gradients/gradients_1/sub_grad/Sum_grad/DynamicStitch*\\x07\\n\\x01T\\x12\\x020\\x01*\\x0c\\n\\x06Tshape\\x12\\x020\\x03\\n\\xc4\\x01\\n2while/gradients/gradients_1/sub_grad/Sum_grad/Tile\\x12\\x04Tile\\x1a5while/gradients/gradients_1/sub_grad/Sum_grad/Reshape\\x1a6while/gradients/gradients_1/sub_grad/Sum_grad/floordiv*\\x07\\n\\x01T\\x12\\x020\\x01*\\x10\\n\\nTmultiples\\x12\\x020\\x03\\n\\xea\\x01\\n=while/gradients/gradients_1/Pow_grad/Reshape_grad/Shape/Enter\\x12\\x05Enter\\x1a\\x18gradients_1/Pow_grad/Sum\\x1a,^assert_rank/static_checks_determined_all_ok*\\x07\\n\\x01T\\x12\\x020\\x01*\\x11\\n\\x0bis_constant\\x12\\x02(\\x01*\\x19\\n\\x13parallel_iterations\\x12\\x02\\x18\\n*#\\n\\nframe_name\\x12\\x15\\x12\\x13while/while_context\\n\\xa9\\x01\\n7while/gradients/gradients_1/Pow_grad/Reshape_grad/Shape\\x12\\x05Shape\\x1a=while/gradients/gradients_1/Pow_grad/Reshape_grad/Shape/Enter\\x1a\\x0f^while/Identity*\\x07\\n\\x01T\\x12\\x020\\x01*\\x0e\\n\\x08out_type\\x12\\x020\\x03\\n\\xc8\\x01\\n9while/gradients/gradients_1/Pow_grad/Reshape_grad/Reshape\\x12\\x07Reshape\\x1a2while/gradients/gradients_1/sub_grad/Sum_grad/Tile\\x1a7while/gradients/gradients_1/Pow_grad/Reshape_grad/Shape*\\x07\\n\\x01T\\x12\\x020\\x01*\\x0c\\n\\x06Tshape\\x12\\x020\\x03\\n\\xe8\\x01\\n9while/gradients/gradients_1/Pow_grad/Sum_grad/Shape/Enter\\x12\\x05Enter\\x1a\\x1agradients_1/Pow_grad/mul_1\\x1a,^assert_rank/static_checks_determined_all_ok*\\x07\\n\\x01T\\x12\\x020\\x01*\\x11\\n\\x0bis_constant\\x12\\x02(\\x01*\\x19\\n\\x13parallel_iterations\\x12\\x02\\x18\\n*#\\n\\nframe_name\\x12\\x15\\x12\\x13while/while_context\\n\\xa1\\x01\\n3while/gradients/gradients_1/Pow_grad/Sum_grad/Shape\\x12\\x05Shape\\x1a9while/gradients/gradients_1/Pow_grad/Sum_grad/Shape/Enter\\x1a\\x0f^while/Identity*\\x07\\n\\x01T\\x12\\x020\\x01*\\x0e\\n\\x08out_type\\x12\\x020\\x03\\n\\xb5\\x01\\n2while/gradients/gradients_1/Pow_grad/Sum_grad/Size\\x12\\x05Const\\x1a\\x0f^while/Identity*F\\n\\x06_class\\x12<\\n:\\x128loc:@while/gradients/gradients_1/Pow_grad/Sum_grad/Shape*\\x12\\n\\x05value\\x12\\tB\\x07\\x08\\x03\\x12\\x00:\\x01\\x02*\\x0b\\n\\x05dtype\\x12\\x020\\x03\\n\\xbe\\x02\\n7while/gradients/gradients_1/Pow_grad/Sum_grad/add/Enter\\x12\\x05Enter\\x1a*gradients_1/Pow_grad/BroadcastGradientArgs\\x1a,^assert_rank/static_checks_determined_all_ok*\\x11\\n\\x0bis_constant\\x12\\x02(\\x01*#\\n\\nframe_name\\x12\\x15\\x12\\x13while/while_context*\\x07\\n\\x01T\\x12\\x020\\x03*F\\n\\x06_class\\x12<\\n:\\x128loc:@while/gradients/gradients_1/Pow_grad/Sum_grad/Shape*\\x19\\n\\x13parallel_iterations\\x12\\x02\\x18\\n\\n\\xf6\\x01\\n1while/gradients/gradients_1/Pow_grad/Sum_grad/add\\x12\\x03Add\\x1a7while/gradients/gradients_1/Pow_grad/Sum_grad/add/Enter\\x1a2while/gradients/gradients_1/Pow_grad/Sum_grad/Size*\\x07\\n\\x01T\\x12\\x020\\x03*F\\n\\x06_class\\x12<\\n:\\x128loc:@while/gradients/gradients_1/Pow_grad/Sum_grad/Shape\\n\\xf5\\x01\\n1while/gradients/gradients_1/Pow_grad/Sum_grad/mod\\x12\\x08FloorMod\\x1a1while/gradients/gradients_1/Pow_grad/Sum_grad/add\\x1a2while/gradients/gradients_1/Pow_grad/Sum_grad/Size*\\x07\\n\\x01T\\x12\\x020\\x03*F\\n\\x06_class\\x12<\\n:\\x128loc:@while/gradients/gradients_1/Pow_grad/Sum_grad/Shape\\n\\xd2\\x01\\n5while/gradients/gradients_1/Pow_grad/Sum_grad/Shape_1\\x12\\x05Shape\\x1a1while/gradients/gradients_1/Pow_grad/Sum_grad/mod*\\x07\\n\\x01T\\x12\\x020\\x03*F\\n\\x06_class\\x12<\\n:\\x128loc:@while/gradients/gradients_1/Pow_grad/Sum_grad/Shape*\\x0e\\n\\x08out_type\\x12\\x020\\x03\\n\\xbc\\x01\\n9while/gradients/gradients_1/Pow_grad/Sum_grad/range/start\\x12\\x05Const\\x1a\\x0f^while/Identity*F\\n\\x06_class\\x12<\\n:\\x128loc:@while/gradients/gradients_1/Pow_grad/Sum_grad/Shape*\\x12\\n\\x05value\\x12\\tB\\x07\\x08\\x03\\x12\\x00:\\x01\\x00*\\x0b\\n\\x05dtype\\x12\\x020\\x03\\n\\xbc\\x01\\n9while/gradients/gradients_1/Pow_grad/Sum_grad/range/delta\\x12\\x05Const\\x1a\\x0f^while/Identity*F\\n\\x06_class\\x12<\\n:\\x128loc:@while/gradients/gradients_1/Pow_grad/Sum_grad/Shape*\\x12\\n\\x05value\\x12\\tB\\x07\\x08\\x03\\x12\\x00:\\x01\\x01*\\x0b\\n\\x05dtype\\x12\\x020\\x03\\n\\xba\\x02\\n3while/gradients/gradients_1/Pow_grad/Sum_grad/range\\x12\\x05Range\\x1a9while/gradients/gradients_1/Pow_grad/Sum_grad/range/start\\x1a2while/gradients/gradients_1/Pow_grad/Sum_grad/Size\\x1a9while/gradients/gradients_1/Pow_grad/Sum_grad/range/delta*F\\n\\x06_class\\x12<\\n:\\x128loc:@while/gradients/gradients_1/Pow_grad/Sum_grad/Shape*\\n\\n\\x04Tidx\\x12\\x020\\x03\\n\\xbb\\x01\\n8while/gradients/gradients_1/Pow_grad/Sum_grad/Fill/value\\x12\\x05Const\\x1a\\x0f^while/Identity*F\\n\\x06_class\\x12<\\n:\\x128loc:@while/gradients/gradients_1/Pow_grad/Sum_grad/Shape*\\x12\\n\\x05value\\x12\\tB\\x07\\x08\\x03\\x12\\x00:\\x01\\x01*\\x0b\\n\\x05dtype\\x12\\x020\\x03\\n\\xfc\\x01\\n2while/gradients/gradients_1/Pow_grad/Sum_grad/Fill\\x12\\x04Fill\\x1a5while/gradients/gradients_1/Pow_grad/Sum_grad/Shape_1\\x1a8while/gradients/gradients_1/Pow_grad/Sum_grad/Fill/value*\\x07\\n\\x01T\\x12\\x020\\x03*F\\n\\x06_class\\x12<\\n:\\x128loc:@while/gradients/gradients_1/Pow_grad/Sum_grad/Shape\\n\\xf7\\x02\\n;while/gradients/gradients_1/Pow_grad/Sum_grad/DynamicStitch\\x12\\rDynamicStitch\\x1a3while/gradients/gradients_1/Pow_grad/Sum_grad/range\\x1a1while/gradients/gradients_1/Pow_grad/Sum_grad/mod\\x1a3while/gradients/gradients_1/Pow_grad/Sum_grad/Shape\\x1a2while/gradients/gradients_1/Pow_grad/Sum_grad/Fill*\\x07\\n\\x01T\\x12\\x020\\x03*F\\n\\x06_class\\x12<\\n:\\x128loc:@while/gradients/gradients_1/Pow_grad/Sum_grad/Shape*\\x07\\n\\x01N\\x12\\x02\\x18\\x02\\n\\xba\\x01\\n7while/gradients/gradients_1/Pow_grad/Sum_grad/Maximum/y\\x12\\x05Const\\x1a\\x0f^while/Identity*F\\n\\x06_class\\x12<\\n:\\x128loc:@while/gradients/gradients_1/Pow_grad/Sum_grad/Shape*\\x12\\n\\x05value\\x12\\tB\\x07\\x08\\x03\\x12\\x00:\\x01\\x01*\\x0b\\n\\x05dtype\\x12\\x020\\x03\\n\\x87\\x02\\n5while/gradients/gradients_1/Pow_grad/Sum_grad/Maximum\\x12\\x07Maximum\\x1a;while/gradients/gradients_1/Pow_grad/Sum_grad/DynamicStitch\\x1a7while/gradients/gradients_1/Pow_grad/Sum_grad/Maximum/y*\\x07\\n\\x01T\\x12\\x020\\x03*F\\n\\x06_class\\x12<\\n:\\x128loc:@while/gradients/gradients_1/Pow_grad/Sum_grad/Shape\\n\\xff\\x01\\n6while/gradients/gradients_1/Pow_grad/Sum_grad/floordiv\\x12\\x08FloorDiv\\x1a3while/gradients/gradients_1/Pow_grad/Sum_grad/Shape\\x1a5while/gradients/gradients_1/Pow_grad/Sum_grad/Maximum*\\x07\\n\\x01T\\x12\\x020\\x03*F\\n\\x06_class\\x12<\\n:\\x128loc:@while/gradients/gradients_1/Pow_grad/Sum_grad/Shape\\n\\xcf\\x01\\n5while/gradients/gradients_1/Pow_grad/Sum_grad/Reshape\\x12\\x07Reshape\\x1a9while/gradients/gradients_1/Pow_grad/Reshape_grad/Reshape\\x1a;while/gradients/gradients_1/Pow_grad/Sum_grad/DynamicStitch*\\x07\\n\\x01T\\x12\\x020\\x01*\\x0c\\n\\x06Tshape\\x12\\x020\\x03\\n\\xc4\\x01\\n2while/gradients/gradients_1/Pow_grad/Sum_grad/Tile\\x12\\x04Tile\\x1a5while/gradients/gradients_1/Pow_grad/Sum_grad/Reshape\\x1a6while/gradients/gradients_1/Pow_grad/Sum_grad/floordiv*\\x10\\n\\nTmultiples\\x12\\x020\\x03*\\x07\\n\\x01T\\x12\\x020\\x01\\n\\xe8\\x01\\n;while/gradients/gradients_1/Pow_grad/mul_1_grad/Shape/Enter\\x12\\x05Enter\\x1a\\x18gradients_1/Pow_grad/mul\\x1a,^assert_rank/static_checks_determined_all_ok*\\x07\\n\\x01T\\x12\\x020\\x01*\\x11\\n\\x0bis_constant\\x12\\x02(\\x01*\\x19\\n\\x13parallel_iterations\\x12\\x02\\x18\\n*#\\n\\nframe_name\\x12\\x15\\x12\\x13while/while_context\\n\\xa5\\x01\\n5while/gradients/gradients_1/Pow_grad/mul_1_grad/Shape\\x12\\x05Shape\\x1a;while/gradients/gradients_1/Pow_grad/mul_1_grad/Shape/Enter\\x1a\\x0f^while/Identity*\\x07\\n\\x01T\\x12\\x020\\x01*\\x0e\\n\\x08out_type\\x12\\x020\\x03\\n\\xea\\x01\\n=while/gradients/gradients_1/Pow_grad/mul_1_grad/Shape_1/Enter\\x12\\x05Enter\\x1a\\x18gradients_1/Pow_grad/Pow\\x1a,^assert_rank/static_checks_determined_all_ok*\\x07\\n\\x01T\\x12\\x020\\x01*\\x11\\n\\x0bis_constant\\x12\\x02(\\x01*\\x19\\n\\x13parallel_iterations\\x12\\x02\\x18\\n*#\\n\\nframe_name\\x12\\x15\\x12\\x13while/while_context\\n\\xa9\\x01\\n7while/gradients/gradients_1/Pow_grad/mul_1_grad/Shape_1\\x12\\x05Shape\\x1a=while/gradients/gradients_1/Pow_grad/mul_1_grad/Shape_1/Enter\\x1a\\x0f^while/Identity*\\x07\\n\\x01T\\x12\\x020\\x01*\\x0e\\n\\x08out_type\\x12\\x020\\x03\\n\\xd7\\x01\\nEwhile/gradients/gradients_1/Pow_grad/mul_1_grad/BroadcastGradientArgs\\x12\\x15BroadcastGradientArgs\\x1a5while/gradients/gradients_1/Pow_grad/mul_1_grad/Shape\\x1a7while/gradients/gradients_1/Pow_grad/mul_1_grad/Shape_1*\\x07\\n\\x01T\\x12\\x020\\x03\\n\\xb6\\x01\\n3while/gradients/gradients_1/Pow_grad/mul_1_grad/mul\\x12\\x03Mul\\x1a2while/gradients/gradients_1/Pow_grad/Sum_grad/Tile\\x1a=while/gradients/gradients_1/Pow_grad/mul_1_grad/Shape_1/Enter*\\x07\\n\\x01T\\x12\\x020\\x01\\n\\xdc\\x01\\n3while/gradients/gradients_1/Pow_grad/mul_1_grad/Sum\\x12\\x03Sum\\x1a3while/gradients/gradients_1/Pow_grad/mul_1_grad/mul\\x1aEwhile/gradients/gradients_1/Pow_grad/mul_1_grad/BroadcastGradientArgs*\\x07\\n\\x01T\\x12\\x020\\x01*\\x0f\\n\\tkeep_dims\\x12\\x02(\\x00*\\n\\n\\x04Tidx\\x12\\x020\\x03\\n\\xc5\\x01\\n7while/gradients/gradients_1/Pow_grad/mul_1_grad/Reshape\\x12\\x07Reshape\\x1a3while/gradients/gradients_1/Pow_grad/mul_1_grad/Sum\\x1a5while/gradients/gradients_1/Pow_grad/mul_1_grad/Shape*\\x07\\n\\x01T\\x12\\x020\\x01*\\x0c\\n\\x06Tshape\\x12\\x020\\x03\\n\\xb6\\x01\\n5while/gradients/gradients_1/Pow_grad/mul_1_grad/mul_1\\x12\\x03Mul\\x1a;while/gradients/gradients_1/Pow_grad/mul_1_grad/Shape/Enter\\x1a2while/gradients/gradients_1/Pow_grad/Sum_grad/Tile*\\x07\\n\\x01T\\x12\\x020\\x01\\n\\xe2\\x01\\n5while/gradients/gradients_1/Pow_grad/mul_1_grad/Sum_1\\x12\\x03Sum\\x1a5while/gradients/gradients_1/Pow_grad/mul_1_grad/mul_1\\x1aGwhile/gradients/gradients_1/Pow_grad/mul_1_grad/BroadcastGradientArgs:1*\\x07\\n\\x01T\\x12\\x020\\x01*\\x0f\\n\\tkeep_dims\\x12\\x02(\\x00*\\n\\n\\x04Tidx\\x12\\x020\\x03\\n\\xcb\\x01\\n9while/gradients/gradients_1/Pow_grad/mul_1_grad/Reshape_1\\x12\\x07Reshape\\x1a5while/gradients/gradients_1/Pow_grad/mul_1_grad/Sum_1\\x1a7while/gradients/gradients_1/Pow_grad/mul_1_grad/Shape_1*\\x0c\\n\\x06Tshape\\x12\\x020\\x03*\\x07\\n\\x01T\\x12\\x020\\x01\\n\\xe7\\x01\\n9while/gradients/gradients_1/Pow_grad/mul_grad/Shape/Enter\\x12\\x05Enter\\x1a\\x19gradients_1/Sum_grad/Tile\\x1a,^assert_rank/static_checks_determined_all_ok*\\x07\\n\\x01T\\x12\\x020\\x01*\\x11\\n\\x0bis_constant\\x12\\x02(\\x01*\\x19\\n\\x13parallel_iterations\\x12\\x02\\x18\\n*#\\n\\nframe_name\\x12\\x15\\x12\\x13while/while_context\\n\\xa1\\x01\\n3while/gradients/gradients_1/Pow_grad/mul_grad/Shape\\x12\\x05Shape\\x1a9while/gradients/gradients_1/Pow_grad/mul_grad/Shape/Enter\\x1a\\x0f^while/Identity*\\x07\\n\\x01T\\x12\\x020\\x01*\\x0e\\n\\x08out_type\\x12\\x020\\x03\\no\\n5while/gradients/gradients_1/Pow_grad/mul_grad/Shape_1\\x12\\x05Const\\x1a\\x0f^while/Identity*\\x11\\n\\x05value\\x12\\x08B\\x06\\x08\\x03\\x12\\x02\\x12\\x00*\\x0b\\n\\x05dtype\\x12\\x020\\x03\\n\\xd1\\x01\\nCwhile/gradients/gradients_1/Pow_grad/mul_grad/BroadcastGradientArgs\\x12\\x15BroadcastGradientArgs\\x1a3while/gradients/gradients_1/Pow_grad/mul_grad/Shape\\x1a5while/gradients/gradients_1/Pow_grad/mul_grad/Shape_1*\\x07\\n\\x01T\\x12\\x020\\x03\\n\\xd1\\x01\\n7while/gradients/gradients_1/Pow_grad/mul_grad/mul/Enter\\x12\\x05Enter\\x1a\\x05Pow/y\\x1a,^assert_rank/static_checks_determined_all_ok*\\x07\\n\\x01T\\x12\\x020\\x01*\\x11\\n\\x0bis_constant\\x12\\x02(\\x01*\\x19\\n\\x13parallel_iterations\\x12\\x02\\x18\\n*#\\n\\nframe_name\\x12\\x15\\x12\\x13while/while_context\\n\\xb3\\x01\\n1while/gradients/gradients_1/Pow_grad/mul_grad/mul\\x12\\x03Mul\\x1a7while/gradients/gradients_1/Pow_grad/mul_1_grad/Reshape\\x1a7while/gradients/gradients_1/Pow_grad/mul_grad/mul/Enter*\\x07\\n\\x01T\\x12\\x020\\x01\\n\\xd6\\x01\\n1while/gradients/gradients_1/Pow_grad/mul_grad/Sum\\x12\\x03Sum\\x1a1while/gradients/gradients_1/Pow_grad/mul_grad/mul\\x1aCwhile/gradients/gradients_1/Pow_grad/mul_grad/BroadcastGradientArgs*\\x0f\\n\\tkeep_dims\\x12\\x02(\\x00*\\n\\n\\x04Tidx\\x12\\x020\\x03*\\x07\\n\\x01T\\x12\\x020\\x01\\n\\xbf\\x01\\n5while/gradients/gradients_1/Pow_grad/mul_grad/Reshape\\x12\\x07Reshape\\x1a1while/gradients/gradients_1/Pow_grad/mul_grad/Sum\\x1a3while/gradients/gradients_1/Pow_grad/mul_grad/Shape*\\x07\\n\\x01T\\x12\\x020\\x01*\\x0c\\n\\x06Tshape\\x12\\x020\\x03\\n\\xb7\\x01\\n3while/gradients/gradients_1/Pow_grad/mul_grad/mul_1\\x12\\x03Mul\\x1a9while/gradients/gradients_1/Pow_grad/mul_grad/Shape/Enter\\x1a7while/gradients/gradients_1/Pow_grad/mul_1_grad/Reshape*\\x07\\n\\x01T\\x12\\x020\\x01\\n\\xdc\\x01\\n3while/gradients/gradients_1/Pow_grad/mul_grad/Sum_1\\x12\\x03Sum\\x1a3while/gradients/gradients_1/Pow_grad/mul_grad/mul_1\\x1aEwhile/gradients/gradients_1/Pow_grad/mul_grad/BroadcastGradientArgs:1*\\x0f\\n\\tkeep_dims\\x12\\x02(\\x00*\\n\\n\\x04Tidx\\x12\\x020\\x03*\\x07\\n\\x01T\\x12\\x020\\x01\\n\\xc5\\x01\\n7while/gradients/gradients_1/Pow_grad/mul_grad/Reshape_1\\x12\\x07Reshape\\x1a3while/gradients/gradients_1/Pow_grad/mul_grad/Sum_1\\x1a5while/gradients/gradients_1/Pow_grad/mul_grad/Shape_1*\\x07\\n\\x01T\\x12\\x020\\x01*\\x0c\\n\\x06Tshape\\x12\\x020\\x03\\n\\xd1\\x01\\n9while/gradients/gradients_1/Pow_grad/Pow_grad/Shape/Enter\\x12\\x05Enter\\x1a\\x03sub\\x1a,^assert_rank/static_checks_determined_all_ok*\\x07\\n\\x01T\\x12\\x020\\x01*\\x11\\n\\x0bis_constant\\x12\\x02(\\x01*\\x19\\n\\x13parallel_iterations\\x12\\x02\\x18\\n*#\\n\\nframe_name\\x12\\x15\\x12\\x13while/while_context\\n\\xa1\\x01\\n3while/gradients/gradients_1/Pow_grad/Pow_grad/Shape\\x12\\x05Shape\\x1a9while/gradients/gradients_1/Pow_grad/Pow_grad/Shape/Enter\\x1a\\x0f^while/Identity*\\x0e\\n\\x08out_type\\x12\\x020\\x03*\\x07\\n\\x01T\\x12\\x020\\x01\\no\\n5while/gradients/gradients_1/Pow_grad/Pow_grad/Shape_1\\x12\\x05Const\\x1a\\x0f^while/Identity*\\x11\\n\\x05value\\x12\\x08B\\x06\\x08\\x03\\x12\\x02\\x12\\x00*\\x0b\\n\\x05dtype\\x12\\x020\\x03\\n\\xd1\\x01\\nCwhile/gradients/gradients_1/Pow_grad/Pow_grad/BroadcastGradientArgs\\x12\\x15BroadcastGradientArgs\\x1a3while/gradients/gradients_1/Pow_grad/Pow_grad/Shape\\x1a5while/gradients/gradients_1/Pow_grad/Pow_grad/Shape_1*\\x07\\n\\x01T\\x12\\x020\\x03\\n\\xe4\\x01\\n7while/gradients/gradients_1/Pow_grad/Pow_grad/mul/Enter\\x12\\x05Enter\\x1a\\x18gradients_1/Pow_grad/sub\\x1a,^assert_rank/static_checks_determined_all_ok*\\x19\\n\\x13parallel_iterations\\x12\\x02\\x18\\n*#\\n\\nframe_name\\x12\\x15\\x12\\x13while/while_context*\\x07\\n\\x01T\\x12\\x020\\x01*\\x11\\n\\x0bis_constant\\x12\\x02(\\x01\\n\\xb5\\x01\\n1while/gradients/gradients_1/Pow_grad/Pow_grad/mul\\x12\\x03Mul\\x1a9while/gradients/gradients_1/Pow_grad/mul_1_grad/Reshape_1\\x1a7while/gradients/gradients_1/Pow_grad/Pow_grad/mul/Enter*\\x07\\n\\x01T\\x12\\x020\\x01\\nq\\n3while/gradients/gradients_1/Pow_grad/Pow_grad/sub/y\\x12\\x05Const\\x1a\\x0f^while/Identity*\\x0b\\n\\x05dtype\\x12\\x020\\x01*\\x15\\n\\x05value\\x12\\x0cB\\n\\x08\\x01\\x12\\x00*\\x04\\x00\\x00\\x80?\\n\\xaf\\x01\\n1while/gradients/gradients_1/Pow_grad/Pow_grad/sub\\x12\\x03Sub\\x1a7while/gradients/gradients_1/Pow_grad/Pow_grad/mul/Enter\\x1a3while/gradients/gradients_1/Pow_grad/Pow_grad/sub/y*\\x07\\n\\x01T\\x12\\x020\\x01\\n\\xaf\\x01\\n1while/gradients/gradients_1/Pow_grad/Pow_grad/Pow\\x12\\x03Pow\\x1a9while/gradients/gradients_1/Pow_grad/Pow_grad/Shape/Enter\\x1a1while/gradients/gradients_1/Pow_grad/Pow_grad/sub*\\x07\\n\\x01T\\x12\\x020\\x01\\n\\xa9\\x01\\n3while/gradients/gradients_1/Pow_grad/Pow_grad/mul_1\\x12\\x03Mul\\x1a1while/gradients/gradients_1/Pow_grad/Pow_grad/mul\\x1a1while/gradients/gradients_1/Pow_grad/Pow_grad/Pow*\\x07\\n\\x01T\\x12\\x020\\x01\\n\\xd8\\x01\\n1while/gradients/gradients_1/Pow_grad/Pow_grad/Sum\\x12\\x03Sum\\x1a3while/gradients/gradients_1/Pow_grad/Pow_grad/mul_1\\x1aCwhile/gradients/gradients_1/Pow_grad/Pow_grad/BroadcastGradientArgs*\\x0f\\n\\tkeep_dims\\x12\\x02(\\x00*\\n\\n\\x04Tidx\\x12\\x020\\x03*\\x07\\n\\x01T\\x12\\x020\\x01\\n\\xbf\\x01\\n5while/gradients/gradients_1/Pow_grad/Pow_grad/Reshape\\x12\\x07Reshape\\x1a1while/gradients/gradients_1/Pow_grad/Pow_grad/Sum\\x1a3while/gradients/gradients_1/Pow_grad/Pow_grad/Shape*\\x07\\n\\x01T\\x12\\x020\\x01*\\x0c\\n\\x06Tshape\\x12\\x020\\x03\\nu\\n7while/gradients/gradients_1/Pow_grad/Pow_grad/Greater/y\\x12\\x05Const\\x1a\\x0f^while/Identity*\\x15\\n\\x05value\\x12\\x0cB\\n\\x08\\x01\\x12\\x00*\\x04\\x00\\x00\\x00\\x00*\\x0b\\n\\x05dtype\\x12\\x020\\x01\\n\\xbd\\x01\\n5while/gradients/gradients_1/Pow_grad/Pow_grad/Greater\\x12\\x07Greater\\x1a9while/gradients/gradients_1/Pow_grad/Pow_grad/Shape/Enter\\x1a7while/gradients/gradients_1/Pow_grad/Pow_grad/Greater/y*\\x07\\n\\x01T\\x12\\x020\\x01\\n\\x8d\\x01\\n1while/gradients/gradients_1/Pow_grad/Pow_grad/Log\\x12\\x03Log\\x1a9while/gradients/gradients_1/Pow_grad/Pow_grad/Shape/Enter\\x1a\\x0f^while/Identity*\\x07\\n\\x01T\\x12\\x020\\x01\\n\\x9a\\x01\\n8while/gradients/gradients_1/Pow_grad/Pow_grad/zeros_like\\x12\\tZerosLike\\x1a9while/gradients/gradients_1/Pow_grad/Pow_grad/Shape/Enter\\x1a\\x0f^while/Identity*\\x07\\n\\x01T\\x12\\x020\\x01\\n\\xeb\\x01\\n4while/gradients/gradients_1/Pow_grad/Pow_grad/Select\\x12\\x06Select\\x1a5while/gradients/gradients_1/Pow_grad/Pow_grad/Greater\\x1a1while/gradients/gradients_1/Pow_grad/Pow_grad/Log\\x1a8while/gradients/gradients_1/Pow_grad/Pow_grad/zeros_like*\\x07\\n\\x01T\\x12\\x020\\x01\\n\\xbd\\x01\\n3while/gradients/gradients_1/Pow_grad/Pow_grad/mul_2\\x12\\x03Mul\\x1a9while/gradients/gradients_1/Pow_grad/mul_1_grad/Reshape_1\\x1a=while/gradients/gradients_1/Pow_grad/mul_1_grad/Shape_1/Enter*\\x07\\n\\x01T\\x12\\x020\\x01\\n\\xae\\x01\\n3while/gradients/gradients_1/Pow_grad/Pow_grad/mul_3\\x12\\x03Mul\\x1a3while/gradients/gradients_1/Pow_grad/Pow_grad/mul_2\\x1a4while/gradients/gradients_1/Pow_grad/Pow_grad/Select*\\x07\\n\\x01T\\x12\\x020\\x01\\n\\xdc\\x01\\n3while/gradients/gradients_1/Pow_grad/Pow_grad/Sum_1\\x12\\x03Sum\\x1a3while/gradients/gradients_1/Pow_grad/Pow_grad/mul_3\\x1aEwhile/gradients/gradients_1/Pow_grad/Pow_grad/BroadcastGradientArgs:1*\\x0f\\n\\tkeep_dims\\x12\\x02(\\x00*\\n\\n\\x04Tidx\\x12\\x020\\x03*\\x07\\n\\x01T\\x12\\x020\\x01\\n\\xc5\\x01\\n7while/gradients/gradients_1/Pow_grad/Pow_grad/Reshape_1\\x12\\x07Reshape\\x1a3while/gradients/gradients_1/Pow_grad/Pow_grad/Sum_1\\x1a5while/gradients/gradients_1/Pow_grad/Pow_grad/Shape_1*\\x07\\n\\x01T\\x12\\x020\\x01*\\x0c\\n\\x06Tshape\\x12\\x020\\x03\\nz\\n4while/gradients/gradients_1/Sum_grad/Tile_grad/Shape\\x12\\x05Const\\x1a\\x0f^while/Identity*\\x1d\\n\\x05value\\x12\\x14B\\x12\\x08\\x03\\x12\\x04\\x12\\x02\\x08\\x02\"\\x08\\x01\\x00\\x00\\x00\\x01\\x00\\x00\\x00*\\x0b\\n\\x05dtype\\x12\\x020\\x03\\n\\xe9\\x01\\n:while/gradients/gradients_1/Sum_grad/Tile_grad/stack/Enter\\x12\\x05Enter\\x1a\\x1agradients_1/Sum_grad/Shape\\x1a,^assert_rank/static_checks_determined_all_ok*\\x19\\n\\x13parallel_iterations\\x12\\x02\\x18\\n*#\\n\\nframe_name\\x12\\x15\\x12\\x13while/while_context*\\x07\\n\\x01T\\x12\\x020\\x03*\\x11\\n\\x0bis_constant\\x12\\x02(\\x01\\n\\xcc\\x01\\n4while/gradients/gradients_1/Sum_grad/Tile_grad/stack\\x12\\x04Pack\\x1a:while/gradients/gradients_1/Sum_grad/Tile_grad/stack/Enter\\x1a4while/gradients/gradients_1/Sum_grad/Tile_grad/Shape*\\x07\\n\\x01T\\x12\\x020\\x03*\\n\\n\\x04axis\\x12\\x02\\x18\\x00*\\x07\\n\\x01N\\x12\\x02\\x18\\x02\\n\\x84\\x01\\n=while/gradients/gradients_1/Sum_grad/Tile_grad/transpose/Rank\\x12\\x04Rank\\x1a4while/gradients/gradients_1/Sum_grad/Tile_grad/stack*\\x07\\n\\x01T\\x12\\x020\\x03\\ny\\n>while/gradients/gradients_1/Sum_grad/Tile_grad/transpose/sub/y\\x12\\x05Const\\x1a\\x0f^while/Identity*\\x12\\n\\x05value\\x12\\tB\\x07\\x08\\x03\\x12\\x00:\\x01\\x01*\\x0b\\n\\x05dtype\\x12\\x020\\x03\\n\\xcb\\x01\\n<while/gradients/gradients_1/Sum_grad/Tile_grad/transpose/sub\\x12\\x03Sub\\x1a=while/gradients/gradients_1/Sum_grad/Tile_grad/transpose/Rank\\x1a>while/gradients/gradients_1/Sum_grad/Tile_grad/transpose/sub/y*\\x07\\n\\x01T\\x12\\x020\\x03\\n\\x7f\\nDwhile/gradients/gradients_1/Sum_grad/Tile_grad/transpose/Range/start\\x12\\x05Const\\x1a\\x0f^while/Identity*\\x12\\n\\x05value\\x12\\tB\\x07\\x08\\x03\\x12\\x00:\\x01\\x00*\\x0b\\n\\x05dtype\\x12\\x020\\x03\\n\\x7f\\nDwhile/gradients/gradients_1/Sum_grad/Tile_grad/transpose/Range/delta\\x12\\x05Const\\x1a\\x0f^while/Identity*\\x12\\n\\x05value\\x12\\tB\\x07\\x08\\x03\\x12\\x00:\\x01\\x01*\\x0b\\n\\x05dtype\\x12\\x020\\x03\\n\\x9e\\x02\\n>while/gradients/gradients_1/Sum_grad/Tile_grad/transpose/Range\\x12\\x05Range\\x1aDwhile/gradients/gradients_1/Sum_grad/Tile_grad/transpose/Range/start\\x1a=while/gradients/gradients_1/Sum_grad/Tile_grad/transpose/Rank\\x1aDwhile/gradients/gradients_1/Sum_grad/Tile_grad/transpose/Range/delta*\\n\\n\\x04Tidx\\x12\\x020\\x03\\n\\xcc\\x01\\n>while/gradients/gradients_1/Sum_grad/Tile_grad/transpose/sub_1\\x12\\x03Sub\\x1a<while/gradients/gradients_1/Sum_grad/Tile_grad/transpose/sub\\x1a>while/gradients/gradients_1/Sum_grad/Tile_grad/transpose/Range*\\x07\\n\\x01T\\x12\\x020\\x03\\n\\xd1\\x01\\n8while/gradients/gradients_1/Sum_grad/Tile_grad/transpose\\x12\\tTranspose\\x1a4while/gradients/gradients_1/Sum_grad/Tile_grad/stack\\x1a>while/gradients/gradients_1/Sum_grad/Tile_grad/transpose/sub_1*\\x07\\n\\x01T\\x12\\x020\\x03*\\x0b\\n\\x05Tperm\\x12\\x020\\x03\\n\\x84\\x01\\n<while/gradients/gradients_1/Sum_grad/Tile_grad/Reshape/shape\\x12\\x05Const\\x1a\\x0f^while/Identity*\\x1f\\n\\x05value\\x12\\x16B\\x14\\x08\\x03\\x12\\x04\\x12\\x02\\x08\\x01:\\n\\xff\\xff\\xff\\xff\\xff\\xff\\xff\\xff\\xff\\x01*\\x0b\\n\\x05dtype\\x12\\x020\\x03\\n\\xd0\\x01\\n6while/gradients/gradients_1/Sum_grad/Tile_grad/Reshape\\x12\\x07Reshape\\x1a8while/gradients/gradients_1/Sum_grad/Tile_grad/transpose\\x1a<while/gradients/gradients_1/Sum_grad/Tile_grad/Reshape/shape*\\x0c\\n\\x06Tshape\\x12\\x020\\x03*\\x07\\n\\x01T\\x12\\x020\\x03\\nn\\n3while/gradients/gradients_1/Sum_grad/Tile_grad/Size\\x12\\x05Const\\x1a\\x0f^while/Identity*\\x12\\n\\x05value\\x12\\tB\\x07\\x08\\x03\\x12\\x00:\\x01\\x04*\\x0b\\n\\x05dtype\\x12\\x020\\x03\\nu\\n:while/gradients/gradients_1/Sum_grad/Tile_grad/range/start\\x12\\x05Const\\x1a\\x0f^while/Identity*\\x12\\n\\x05value\\x12\\tB\\x07\\x08\\x03\\x12\\x00:\\x01\\x00*\\x0b\\n\\x05dtype\\x12\\x020\\x03\\nu\\n:while/gradients/gradients_1/Sum_grad/Tile_grad/range/delta\\x12\\x05Const\\x1a\\x0f^while/Identity*\\x0b\\n\\x05dtype\\x12\\x020\\x03*\\x12\\n\\x05value\\x12\\tB\\x07\\x08\\x03\\x12\\x00:\\x01\\x02\\n\\xf6\\x01\\n4while/gradients/gradients_1/Sum_grad/Tile_grad/range\\x12\\x05Range\\x1a:while/gradients/gradients_1/Sum_grad/Tile_grad/range/start\\x1a3while/gradients/gradients_1/Sum_grad/Tile_grad/Size\\x1a:while/gradients/gradients_1/Sum_grad/Tile_grad/range/delta*\\n\\n\\x04Tidx\\x12\\x020\\x03\\n\\xc9\\x01\\n8while/gradients/gradients_1/Sum_grad/Tile_grad/Reshape_1\\x12\\x07Reshape\\x1a5while/gradients/gradients_1/Pow_grad/mul_grad/Reshape\\x1a6while/gradients/gradients_1/Sum_grad/Tile_grad/Reshape*\\x0c\\n\\x06Tshape\\x12\\x020\\x03*\\x07\\n\\x01T\\x12\\x020\\x01\\n\\xcf\\x01\\n2while/gradients/gradients_1/Sum_grad/Tile_grad/Sum\\x12\\x03Sum\\x1a8while/gradients/gradients_1/Sum_grad/Tile_grad/Reshape_1\\x1a4while/gradients/gradients_1/Sum_grad/Tile_grad/range*\\x07\\n\\x01T\\x12\\x020\\x01*\\x0f\\n\\tkeep_dims\\x12\\x02(\\x00*\\n\\n\\x04Tidx\\x12\\x020\\x03\\n\\xc1\\x01\\n$while/gradients/sub_grad/Shape/Enter\\x12\\x05Enter\\x1a\\x08THEMODEL\\x1a,^assert_rank/static_checks_determined_all_ok*\\x07\\n\\x01T\\x12\\x020\\x01*\\x11\\n\\x0bis_constant\\x12\\x02(\\x01*\\x19\\n\\x13parallel_iterations\\x12\\x02\\x18\\n*#\\n\\nframe_name\\x12\\x15\\x12\\x13while/while_context\\nw\\n\\x1ewhile/gradients/sub_grad/Shape\\x12\\x05Shape\\x1a$while/gradients/sub_grad/Shape/Enter\\x1a\\x0f^while/Identity*\\x07\\n\\x01T\\x12\\x020\\x01*\\x0e\\n\\x08out_type\\x12\\x020\\x03\\n\\xc6\\x01\\n&while/gradients/sub_grad/Shape_1/Enter\\x12\\x05Enter\\x1a\\x0bPlaceholder\\x1a,^assert_rank/static_checks_determined_all_ok*\\x07\\n\\x01T\\x12\\x020\\x01*\\x11\\n\\x0bis_constant\\x12\\x02(\\x01*\\x19\\n\\x13parallel_iterations\\x12\\x02\\x18\\n*#\\n\\nframe_name\\x12\\x15\\x12\\x13while/while_context\\n{\\n while/gradients/sub_grad/Shape_1\\x12\\x05Shape\\x1a&while/gradients/sub_grad/Shape_1/Enter\\x1a\\x0f^while/Identity*\\x07\\n\\x01T\\x12\\x020\\x01*\\x0e\\n\\x08out_type\\x12\\x020\\x03\\n\\x92\\x01\\n.while/gradients/sub_grad/BroadcastGradientArgs\\x12\\x15BroadcastGradientArgs\\x1a\\x1ewhile/gradients/sub_grad/Shape\\x1a while/gradients/sub_grad/Shape_1*\\x07\\n\\x01T\\x12\\x020\\x03\\n\\xb0\\x01\\n\\x1cwhile/gradients/sub_grad/Sum\\x12\\x03Sum\\x1a5while/gradients/gradients_1/Pow_grad/Pow_grad/Reshape\\x1a.while/gradients/sub_grad/BroadcastGradientArgs*\\x07\\n\\x01T\\x12\\x020\\x01*\\x0f\\n\\tkeep_dims\\x12\\x02(\\x00*\\n\\n\\x04Tidx\\x12\\x020\\x03\\n\\x80\\x01\\n while/gradients/sub_grad/Reshape\\x12\\x07Reshape\\x1a\\x1cwhile/gradients/sub_grad/Sum\\x1a\\x1ewhile/gradients/sub_grad/Shape*\\x07\\n\\x01T\\x12\\x020\\x01*\\x0c\\n\\x06Tshape\\x12\\x020\\x03\\n\\xb4\\x01\\n\\x1ewhile/gradients/sub_grad/Sum_1\\x12\\x03Sum\\x1a5while/gradients/gradients_1/Pow_grad/Pow_grad/Reshape\\x1a0while/gradients/sub_grad/BroadcastGradientArgs:1*\\x0f\\n\\tkeep_dims\\x12\\x02(\\x00*\\n\\n\\x04Tidx\\x12\\x020\\x03*\\x07\\n\\x01T\\x12\\x020\\x01\\nL\\n\\x1cwhile/gradients/sub_grad/Neg\\x12\\x03Neg\\x1a\\x1ewhile/gradients/sub_grad/Sum_1*\\x07\\n\\x01T\\x12\\x020\\x01\\n\\x84\\x01\\n\"while/gradients/sub_grad/Reshape_1\\x12\\x07Reshape\\x1a\\x1cwhile/gradients/sub_grad/Neg\\x1a while/gradients/sub_grad/Shape_1*\\x07\\n\\x01T\\x12\\x020\\x01*\\x0c\\n\\x06Tshape\\x12\\x020\\x03\\n\\xc4\\x01\\n)while/gradients/THEMODEL_grad/Shape/Enter\\x12\\x05Enter\\x1a\\x06MatMul\\x1a,^assert_rank/static_checks_determined_all_ok*\\x11\\n\\x0bis_constant\\x12\\x02(\\x01*\\x19\\n\\x13parallel_iterations\\x12\\x02\\x18\\n*#\\n\\nframe_name\\x12\\x15\\x12\\x13while/while_context*\\x07\\n\\x01T\\x12\\x020\\x01\\n\\x81\\x01\\n#while/gradients/THEMODEL_grad/Shape\\x12\\x05Shape\\x1a)while/gradients/THEMODEL_grad/Shape/Enter\\x1a\\x0f^while/Identity*\\x07\\n\\x01T\\x12\\x020\\x01*\\x0e\\n\\x08out_type\\x12\\x020\\x03\\n_\\n%while/gradients/THEMODEL_grad/Shape_1\\x12\\x05Const\\x1a\\x0f^while/Identity*\\x11\\n\\x05value\\x12\\x08B\\x06\\x08\\x03\\x12\\x02\\x12\\x00*\\x0b\\n\\x05dtype\\x12\\x020\\x03\\n\\xa1\\x01\\n3while/gradients/THEMODEL_grad/BroadcastGradientArgs\\x12\\x15BroadcastGradientArgs\\x1a#while/gradients/THEMODEL_grad/Shape\\x1a%while/gradients/THEMODEL_grad/Shape_1*\\x07\\n\\x01T\\x12\\x020\\x03\\n\\xa5\\x01\\n!while/gradients/THEMODEL_grad/Sum\\x12\\x03Sum\\x1a while/gradients/sub_grad/Reshape\\x1a3while/gradients/THEMODEL_grad/BroadcastGradientArgs*\\x0f\\n\\tkeep_dims\\x12\\x02(\\x00*\\n\\n\\x04Tidx\\x12\\x020\\x03*\\x07\\n\\x01T\\x12\\x020\\x01\\n\\x8f\\x01\\n%while/gradients/THEMODEL_grad/Reshape\\x12\\x07Reshape\\x1a!while/gradients/THEMODEL_grad/Sum\\x1a#while/gradients/THEMODEL_grad/Shape*\\x07\\n\\x01T\\x12\\x020\\x01*\\x0c\\n\\x06Tshape\\x12\\x020\\x03\\n\\xa9\\x01\\n#while/gradients/THEMODEL_grad/Sum_1\\x12\\x03Sum\\x1a while/gradients/sub_grad/Reshape\\x1a5while/gradients/THEMODEL_grad/BroadcastGradientArgs:1*\\x07\\n\\x01T\\x12\\x020\\x01*\\x0f\\n\\tkeep_dims\\x12\\x02(\\x00*\\n\\n\\x04Tidx\\x12\\x020\\x03\\n\\x95\\x01\\n\\'while/gradients/THEMODEL_grad/Reshape_1\\x12\\x07Reshape\\x1a#while/gradients/THEMODEL_grad/Sum_1\\x1a%while/gradients/THEMODEL_grad/Shape_1*\\x0c\\n\\x06Tshape\\x12\\x020\\x03*\\x07\\n\\x01T\\x12\\x020\\x01\\n\\xc4\\x01\\n(while/gradients/MatMul_grad/MatMul/Enter\\x12\\x05Enter\\x1a\\x07Reshape\\x1a,^assert_rank/static_checks_determined_all_ok*\\x19\\n\\x13parallel_iterations\\x12\\x02\\x18\\n*#\\n\\nframe_name\\x12\\x15\\x12\\x13while/while_context*\\x07\\n\\x01T\\x12\\x020\\x01*\\x11\\n\\x0bis_constant\\x12\\x02(\\x01\\n\\xac\\x01\\n\"while/gradients/MatMul_grad/MatMul\\x12\\x06MatMul\\x1a%while/gradients/THEMODEL_grad/Reshape\\x1a(while/gradients/MatMul_grad/MatMul/Enter*\\x11\\n\\x0btranspose_a\\x12\\x02(\\x00*\\x11\\n\\x0btranspose_b\\x12\\x02(\\x01*\\x07\\n\\x01T\\x12\\x020\\x01\\n\\xca\\x01\\n$while/gradients/MatMul_grad/MatMul_1\\x12\\x06MatMul\\x1aDwhile/gradients/gradients_1/MatMul_grad/MatMul_1_grad/MatMul_1/Enter\\x1a%while/gradients/THEMODEL_grad/Reshape*\\x07\\n\\x01T\\x12\\x020\\x01*\\x11\\n\\x0btranspose_a\\x12\\x02(\\x01*\\x11\\n\\x0btranspose_b\\x12\\x02(\\x00\\ni\\n*while/gradients/strided_slice_1_grad/Shape\\x12\\x05Const\\x1a\\x0f^while/Identity*\\x16\\n\\x05value\\x12\\rB\\x0b\\x08\\x03\\x12\\x04\\x12\\x02\\x08\\x01:\\x01\\x03*\\x0b\\n\\x05dtype\\x12\\x020\\x03\\n\\xad\\x04\\n5while/gradients/strided_slice_1_grad/StridedSliceGrad\\x12\\x10StridedSliceGrad\\x1a*while/gradients/strided_slice_1_grad/Shape\\x1aYwhile/gradients/gradients_1/strided_slice_1_grad/StridedSliceGrad_grad/StridedSlice/Enter\\x1a[while/gradients/gradients_1/strided_slice_1_grad/StridedSliceGrad_grad/StridedSlice/Enter_1\\x1a[while/gradients/gradients_1/strided_slice_1_grad/StridedSliceGrad_grad/StridedSlice/Enter_2\\x1a\\'while/gradients/THEMODEL_grad/Reshape_1*\\x0b\\n\\x05Index\\x12\\x020\\x03*\\x07\\n\\x01T\\x12\\x020\\x01*\\x16\\n\\x10shrink_axis_mask\\x12\\x02\\x18\\x01*\\x10\\n\\nbegin_mask\\x12\\x02\\x18\\x00*\\x13\\n\\rellipsis_mask\\x12\\x02\\x18\\x00*\\x13\\n\\rnew_axis_mask\\x12\\x02\\x18\\x00*\\x0e\\n\\x08end_mask\\x12\\x02\\x18\\x00\\na\\n\"while/gradients/Reshape_grad/Shape\\x12\\x05Const\\x1a\\x0f^while/Identity*\\x16\\n\\x05value\\x12\\rB\\x0b\\x08\\x03\\x12\\x04\\x12\\x02\\x08\\x01:\\x01\\x02*\\x0b\\n\\x05dtype\\x12\\x020\\x03\\n\\x90\\x01\\n$while/gradients/Reshape_grad/Reshape\\x12\\x07Reshape\\x1a$while/gradients/MatMul_grad/MatMul_1\\x1a\"while/gradients/Reshape_grad/Shape*\\x0c\\n\\x06Tshape\\x12\\x020\\x03*\\x07\\n\\x01T\\x12\\x020\\x01\\ng\\n(while/gradients/strided_slice_grad/Shape\\x12\\x05Const\\x1a\\x0f^while/Identity*\\x16\\n\\x05value\\x12\\rB\\x0b\\x08\\x03\\x12\\x04\\x12\\x02\\x08\\x01:\\x01\\x03*\\x0b\\n\\x05dtype\\x12\\x020\\x03\\n\\xa0\\x04\\n3while/gradients/strided_slice_grad/StridedSliceGrad\\x12\\x10StridedSliceGrad\\x1a(while/gradients/strided_slice_grad/Shape\\x1aWwhile/gradients/gradients_1/strided_slice_grad/StridedSliceGrad_grad/StridedSlice/Enter\\x1aYwhile/gradients/gradients_1/strided_slice_grad/StridedSliceGrad_grad/StridedSlice/Enter_1\\x1aYwhile/gradients/gradients_1/strided_slice_grad/StridedSliceGrad_grad/StridedSlice/Enter_2\\x1a$while/gradients/Reshape_grad/Reshape*\\x0e\\n\\x08end_mask\\x12\\x02\\x18\\x00*\\x07\\n\\x01T\\x12\\x020\\x01*\\x0b\\n\\x05Index\\x12\\x020\\x03*\\x16\\n\\x10shrink_axis_mask\\x12\\x02\\x18\\x00*\\x13\\n\\rellipsis_mask\\x12\\x02\\x18\\x00*\\x10\\n\\nbegin_mask\\x12\\x02\\x18\\x01*\\x13\\n\\rnew_axis_mask\\x12\\x02\\x18\\x00\\n\\xe6\\x01\\n\\x16while/gradients/AddN_1\\x12\\x04AddN\\x1a5while/gradients/strided_slice_1_grad/StridedSliceGrad\\x1a3while/gradients/strided_slice_grad/StridedSliceGrad*\\x07\\n\\x01T\\x12\\x020\\x01*H\\n\\x06_class\\x12>\\n<\\x12:loc:@while/gradients/strided_slice_1_grad/StridedSliceGrad*\\x07\\n\\x01N\\x12\\x02\\x18\\x02\\n\\xeb\\x01\\n/while/TensorArrayWrite/TensorArrayWriteV3/Enter\\x12\\x05Enter\\x1a\\x0bTensorArray*\\x07\\n\\x01T\\x12\\x020\\x14*H\\n\\x06_class\\x12>\\n<\\x12:loc:@while/gradients/strided_slice_1_grad/StridedSliceGrad*\\x19\\n\\x13parallel_iterations\\x12\\x02\\x18\\n*\\x11\\n\\x0bis_constant\\x12\\x02(\\x01*#\\n\\nframe_name\\x12\\x15\\x12\\x13while/while_context\\n\\xfd\\x01\\n)while/TensorArrayWrite/TensorArrayWriteV3\\x12\\x12TensorArrayWriteV3\\x1a/while/TensorArrayWrite/TensorArrayWriteV3/Enter\\x1a\\x0ewhile/Identity\\x1a\\x16while/gradients/AddN_1\\x1a\\x10while/Identity_1*\\x07\\n\\x01T\\x12\\x020\\x01*H\\n\\x06_class\\x12>\\n<\\x12:loc:@while/gradients/strided_slice_1_grad/StridedSliceGrad\\n8\\n\\x13while/NextIteration\\x12\\rNextIteration\\x1a\\twhile/add*\\x07\\n\\x01T\\x12\\x020\\x03\\nZ\\n\\x15while/NextIteration_1\\x12\\rNextIteration\\x1a)while/TensorArrayWrite/TensorArrayWriteV3*\\x07\\n\\x01T\\x12\\x020\\x01\\n)\\n\\nwhile/Exit\\x12\\x04Exit\\x1a\\x0cwhile/Switch*\\x07\\n\\x01T\\x12\\x020\\x03\\n-\\n\\x0cwhile/Exit_1\\x12\\x04Exit\\x1a\\x0ewhile/Switch_1*\\x07\\n\\x01T\\x12\\x020\\x01\\nr\\n\"TensorArrayStack/TensorArraySizeV3\\x12\\x11TensorArraySizeV3\\x1a\\x0bTensorArray\\x1a\\x0cwhile/Exit_1*\\x1e\\n\\x06_class\\x12\\x14\\n\\x12\\x12\\x10loc:@TensorArray\\n\\x94\\x01\\n\\x1cTensorArrayStack/range/start\\x12\\x05Const\\x1a,^assert_rank/static_checks_determined_all_ok*\\x1e\\n\\x06_class\\x12\\x14\\n\\x12\\x12\\x10loc:@TensorArray*\\x12\\n\\x05value\\x12\\tB\\x07\\x08\\x03\\x12\\x00:\\x01\\x00*\\x0b\\n\\x05dtype\\x12\\x020\\x03\\n\\x94\\x01\\n\\x1cTensorArrayStack/range/delta\\x12\\x05Const\\x1a,^assert_rank/static_checks_determined_all_ok*\\x1e\\n\\x06_class\\x12\\x14\\n\\x12\\x12\\x10loc:@TensorArray*\\x12\\n\\x05value\\x12\\tB\\x07\\x08\\x03\\x12\\x00:\\x01\\x01*\\x0b\\n\\x05dtype\\x12\\x020\\x03\\n\\xab\\x01\\n\\x16TensorArrayStack/range\\x12\\x05Range\\x1a\\x1cTensorArrayStack/range/start\\x1a\"TensorArrayStack/TensorArraySizeV3\\x1a\\x1cTensorArrayStack/range/delta*\\x1e\\n\\x06_class\\x12\\x14\\n\\x12\\x12\\x10loc:@TensorArray*\\n\\n\\x04Tidx\\x12\\x020\\x03\\n\\xb4\\x01\\n$TensorArrayStack/TensorArrayGatherV3\\x12\\x13TensorArrayGatherV3\\x1a\\x0bTensorArray\\x1a\\x16TensorArrayStack/range\\x1a\\x0cwhile/Exit_1*\\x17\\n\\relement_shape\\x12\\x06:\\x04\\x12\\x02\\x08\\x03*\\x1e\\n\\x06_class\\x12\\x14\\n\\x12\\x12\\x10loc:@TensorArray*\\x0b\\n\\x05dtype\\x12\\x020\\x01\\nD\\n\\x0fReshape_1/shape\\x12\\x05Const*\\x1d\\n\\x05value\\x12\\x14B\\x12\\x08\\x03\\x12\\x04\\x12\\x02\\x08\\x02\"\\x08\\x03\\x00\\x00\\x00\\x03\\x00\\x00\\x00*\\x0b\\n\\x05dtype\\x12\\x020\\x03\\nb\\n\\tReshape_1\\x12\\x07Reshape\\x1a$TensorArrayStack/TensorArrayGatherV3\\x1a\\x0fReshape_1/shape*\\x07\\n\\x01T\\x12\\x020\\x01*\\x0c\\n\\x06Tshape\\x12\\x020\\x03\\n8\\n\\x0eExpandDims/dim\\x12\\x05Const*\\x12\\n\\x05value\\x12\\tB\\x07\\x08\\x03\\x12\\x00:\\x01\\x01*\\x0b\\n\\x05dtype\\x12\\x020\\x03\\nM\\n\\nExpandDims\\x12\\nExpandDims\\x1a\\x0egradients/AddN\\x1a\\x0eExpandDims/dim*\\n\\n\\x04Tdim\\x12\\x020\\x03*\\x07\\n\\x01T\\x12\\x020\\x01\\nI\\n\\x0bMatrixSolve\\x12\\x0bMatrixSolve\\x1a\\tReshape_1\\x1a\\nExpandDims*\\x07\\n\\x01T\\x12\\x020\\x01*\\r\\n\\x07adjoint\\x12\\x02(\\x00\\n<\\n\\x07Squeeze\\x12\\x07Squeeze\\x1a\\x0bMatrixSolve*\\x12\\n\\x0csqueeze_dims\\x12\\x02\\n\\x00*\\x07\\n\\x01T\\x12\\x020\\x01\\n\\x1c\\n\\x03Neg\\x12\\x03Neg\\x1a\\x07Squeeze*\\x07\\n\\x01T\\x12\\x020\\x01\\n^\\n\\tAssignAdd\\x12\\tAssignAdd\\x1a\\x08Variable\\x1a\\x03Neg*\\x07\\n\\x01T\\x12\\x020\\x01*\\x1b\\n\\x06_class\\x12\\x11\\n\\x0f\\x12\\rloc:@Variable*\\x11\\n\\x0buse_locking\\x12\\x02(\\x00\\n\\x1e\\n\\x04init\\x12\\x04NoOp\\x1a\\x10^Variable/Assign\\n8\\n\\nsave/Const\\x12\\x05Const*\\x0b\\n\\x05dtype\\x12\\x020\\x07*\\x16\\n\\x05value\\x12\\rB\\x0b\\x08\\x07\\x12\\x00B\\x05model\\nM\\n\\x18save/SaveV2/tensor_names\\x12\\x05Const*\\x1d\\n\\x05value\\x12\\x14B\\x12\\x08\\x07\\x12\\x04\\x12\\x02\\x08\\x01B\\x08Variable*\\x0b\\n\\x05dtype\\x12\\x020\\x07\\nI\\n\\x1csave/SaveV2/shape_and_slices\\x12\\x05Const*\\x15\\n\\x05value\\x12\\x0cB\\n\\x08\\x07\\x12\\x04\\x12\\x02\\x08\\x01B\\x00*\\x0b\\n\\x05dtype\\x12\\x020\\x07\\nt\\n\\x0bsave/SaveV2\\x12\\x06SaveV2\\x1a\\nsave/Const\\x1a\\x18save/SaveV2/tensor_names\\x1a\\x1csave/SaveV2/shape_and_slices\\x1a\\x08Variable*\\x0f\\n\\x06dtypes\\x12\\x05\\n\\x032\\x01\\x01\\ne\\n\\x17save/control_dependency\\x12\\x08Identity\\x1a\\nsave/Const\\x1a\\x0c^save/SaveV2*\\x07\\n\\x01T\\x12\\x020\\x07*\\x1d\\n\\x06_class\\x12\\x13\\n\\x11\\x12\\x0floc:@save/Const\\nP\\n\\x1bsave/RestoreV2/tensor_names\\x12\\x05Const*\\x1d\\n\\x05value\\x12\\x14B\\x12\\x08\\x07\\x12\\x04\\x12\\x02\\x08\\x01B\\x08Variable*\\x0b\\n\\x05dtype\\x12\\x020\\x07\\nL\\n\\x1fsave/RestoreV2/shape_and_slices\\x12\\x05Const*\\x15\\n\\x05value\\x12\\x0cB\\n\\x08\\x07\\x12\\x04\\x12\\x02\\x08\\x01B\\x00*\\x0b\\n\\x05dtype\\x12\\x020\\x07\\nv\\n\\x0esave/RestoreV2\\x12\\tRestoreV2\\x1a\\nsave/Const\\x1a\\x1bsave/RestoreV2/tensor_names\\x1a\\x1fsave/RestoreV2/shape_and_slices*\\x0f\\n\\x06dtypes\\x12\\x05\\n\\x032\\x01\\x01\\n~\\n\\x0bsave/Assign\\x12\\x06Assign\\x1a\\x08Variable\\x1a\\x0esave/RestoreV2*\\x11\\n\\x0buse_locking\\x12\\x02(\\x01*\\x07\\n\\x01T\\x12\\x020\\x01*\\x1b\\n\\x06_class\\x12\\x11\\n\\x0f\\x12\\rloc:@Variable*\\x14\\n\\x0evalidate_shape\\x12\\x02(\\x01\\n&\\n\\x10save/restore_all\\x12\\x04NoOp\\x1a\\x0c^save/Assign\\n:\\n\\x0csave/Const_1\\x12\\x05Const*\\x0b\\n\\x05dtype\\x12\\x020\\x07*\\x16\\n\\x05value\\x12\\rB\\x0b\\x08\\x07\\x12\\x00B\\x05model\\nO\\n\\x1asave/SaveV2_1/tensor_names\\x12\\x05Const*\\x1d\\n\\x05value\\x12\\x14B\\x12\\x08\\x07\\x12\\x04\\x12\\x02\\x08\\x01B\\x08Variable*\\x0b\\n\\x05dtype\\x12\\x020\\x07\\nK\\n\\x1esave/SaveV2_1/shape_and_slices\\x12\\x05Const*\\x15\\n\\x05value\\x12\\x0cB\\n\\x08\\x07\\x12\\x04\\x12\\x02\\x08\\x01B\\x00*\\x0b\\n\\x05dtype\\x12\\x020\\x07\\n|\\n\\rsave/SaveV2_1\\x12\\x06SaveV2\\x1a\\x0csave/Const_1\\x1a\\x1asave/SaveV2_1/tensor_names\\x1a\\x1esave/SaveV2_1/shape_and_slices\\x1a\\x08Variable*\\x0f\\n\\x06dtypes\\x12\\x05\\n\\x032\\x01\\x01\\nm\\n\\x19save/control_dependency_1\\x12\\x08Identity\\x1a\\x0csave/Const_1\\x1a\\x0e^save/SaveV2_1*\\x07\\n\\x01T\\x12\\x020\\x07*\\x1f\\n\\x06_class\\x12\\x15\\n\\x13\\x12\\x11loc:@save/Const_1\\nR\\n\\x1dsave/RestoreV2_1/tensor_names\\x12\\x05Const*\\x1d\\n\\x05value\\x12\\x14B\\x12\\x08\\x07\\x12\\x04\\x12\\x02\\x08\\x01B\\x08Variable*\\x0b\\n\\x05dtype\\x12\\x020\\x07\\nN\\n!save/RestoreV2_1/shape_and_slices\\x12\\x05Const*\\x15\\n\\x05value\\x12\\x0cB\\n\\x08\\x07\\x12\\x04\\x12\\x02\\x08\\x01B\\x00*\\x0b\\n\\x05dtype\\x12\\x020\\x07\\n~\\n\\x10save/RestoreV2_1\\x12\\tRestoreV2\\x1a\\x0csave/Const_1\\x1a\\x1dsave/RestoreV2_1/tensor_names\\x1a!save/RestoreV2_1/shape_and_slices*\\x0f\\n\\x06dtypes\\x12\\x05\\n\\x032\\x01\\x01\\n\\x82\\x01\\n\\rsave/Assign_1\\x12\\x06Assign\\x1a\\x08Variable\\x1a\\x10save/RestoreV2_1*\\x11\\n\\x0buse_locking\\x12\\x02(\\x01*\\x07\\n\\x01T\\x12\\x020\\x01*\\x1b\\n\\x06_class\\x12\\x11\\n\\x0f\\x12\\rloc:@Variable*\\x14\\n\\x0evalidate_shape\\x12\\x02(\\x01\\n*\\n\\x12save/restore_all_1\\x12\\x04NoOp\\x1a\\x0e^save/Assign_1\"\\x02\\x08\\x18'"
      ]
     },
     "execution_count": 23,
     "metadata": {},
     "output_type": "execute_result"
    }
   ],
   "source": [
    "gd.SerializeToString()"
   ]
  },
  {
   "cell_type": "code",
   "execution_count": null,
   "metadata": {
    "collapsed": true
   },
   "outputs": [],
   "source": []
  }
 ],
 "metadata": {
  "kernelspec": {
   "display_name": "tensorflow",
   "language": "python",
   "name": "tensorflow"
  },
  "language_info": {
   "codemirror_mode": {
    "name": "ipython",
    "version": 2
   },
   "file_extension": ".py",
   "mimetype": "text/x-python",
   "name": "python",
   "nbconvert_exporter": "python",
   "pygments_lexer": "ipython2",
   "version": "2.7.12"
  }
 },
 "nbformat": 4,
 "nbformat_minor": 2
}
