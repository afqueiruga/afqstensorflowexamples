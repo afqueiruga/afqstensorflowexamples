{
 "cells": [
  {
   "cell_type": "markdown",
   "metadata": {},
   "source": [
    "# Loading and inspecting a model\n",
    "\n",
    "We eventually want to load up the model we trained and use it for stuff. I don't know why this isn't covered more in the docs. Here, we load the graph, the latest set of variables, and then make and write a new graph after \"freezing\" all of the trained variables to turn them into constants."
   ]
  },
  {
   "cell_type": "markdown",
   "metadata": {},
   "source": [
    "## Reading and inspecting it\n",
    "\n",
    "We load those files and find the input and output entities of the graph. The graph file is kinda just a bag-o-nodes, so we have to give them useful names when we're building the graph originally. We also can't automatically find the inputs... with anything built into tensorflow."
   ]
  },
  {
   "cell_type": "code",
   "execution_count": 1,
   "metadata": {
    "collapsed": false,
    "deletable": true,
    "editable": true,
    "scrolled": true
   },
   "outputs": [
    {
     "name": "stdout",
     "output_type": "stream",
     "text": [
      "INFO:tensorflow:Restoring parameters from savemymodel\n"
     ]
    }
   ],
   "source": [
    "import tensorflow as tf\n",
    "graph = tf.Graph()\n",
    "sess = tf.InteractiveSession(graph=graph)\n",
    "saver = tf.train.import_meta_graph('savemymodel.meta')\n",
    "saver.restore(sess,'savemymodel')\n",
    "tf_x =graph.get_tensor_by_name('THEINPUT:0') \n",
    "model=graph.get_tensor_by_name('THEMODEL:0')"
   ]
  },
  {
   "cell_type": "markdown",
   "metadata": {},
   "source": [
    "Verify that it looks right:"
   ]
  },
  {
   "cell_type": "code",
   "execution_count": 2,
   "metadata": {
    "collapsed": false,
    "deletable": true,
    "editable": true
   },
   "outputs": [
    {
     "data": {
      "image/png": "[encoded data removed]",
      "text/plain": [
       "<matplotlib.figure.Figure at 0x7f8695340690>"
      ]
     },
     "metadata": {},
     "output_type": "display_data"
    }
   ],
   "source": [
    "from matplotlib import pylab as plt\n",
    "import numpy as np\n",
    "plt.close('all')\n",
    "for n in np.linspace(-0.5,0.5,4):\n",
    "    xx = np.zeros((100,2))\n",
    "    strip = np.linspace(-0.5,0.5,100)\n",
    "    xx[:,0] = strip\n",
    "    xx[:,1] = n\n",
    "    yy = model.eval(feed_dict={tf_x: xx}, session=sess)\n",
    "    plt.plot(strip,yy,'-')\n",
    "plt.show()"
   ]
  },
  {
   "cell_type": "markdown",
   "metadata": {},
   "source": [
    "Lets walk the TensorFlow operation tree and see what it looks like:"
   ]
  },
  {
   "cell_type": "code",
   "execution_count": 3,
   "metadata": {
    "collapsed": false,
    "deletable": true,
    "editable": true,
    "scrolled": true
   },
   "outputs": [
    {
     "name": "stdout",
     "output_type": "stream",
     "text": [
      "THEMODEL  :  Add\n",
      "    MatMul  :  MatMul\n",
      "        concat  :  ConcatV2\n",
      "            THEINPUT  :  Placeholder\n",
      "            stack  :  Pack\n",
      "                mul  :  Mul\n",
      "                    strided_slice  :  StridedSlice\n",
      "                        THEINPUT  :  Placeholder\n",
      "                        strided_slice/stack  :  Const\n",
      "                        strided_slice/stack_1  :  Const\n",
      "                        strided_slice/stack_2  :  Const\n",
      "                    strided_slice_1  :  StridedSlice\n",
      "                        THEINPUT  :  Placeholder\n",
      "                        strided_slice_1/stack  :  Const\n",
      "                        strided_slice_1/stack_1  :  Const\n",
      "                        strided_slice_1/stack_2  :  Const\n",
      "                mul_1  :  Mul\n",
      "                    strided_slice_2  :  StridedSlice\n",
      "                        THEINPUT  :  Placeholder\n",
      "                        strided_slice_2/stack  :  Const\n",
      "                        strided_slice_2/stack_1  :  Const\n",
      "                        strided_slice_2/stack_2  :  Const\n",
      "                    strided_slice_3  :  StridedSlice\n",
      "                        THEINPUT  :  Placeholder\n",
      "                        strided_slice_3/stack  :  Const\n",
      "                        strided_slice_3/stack_1  :  Const\n",
      "                        strided_slice_3/stack_2  :  Const\n",
      "                mul_2  :  Mul\n",
      "                    strided_slice_4  :  StridedSlice\n",
      "                        THEINPUT  :  Placeholder\n",
      "                        strided_slice_4/stack  :  Const\n",
      "                        strided_slice_4/stack_1  :  Const\n",
      "                        strided_slice_4/stack_2  :  Const\n",
      "                    strided_slice_5  :  StridedSlice\n",
      "                        THEINPUT  :  Placeholder\n",
      "                        strided_slice_5/stack  :  Const\n",
      "                        strided_slice_5/stack_1  :  Const\n",
      "                        strided_slice_5/stack_2  :  Const\n",
      "            concat/axis  :  Const\n",
      "        Reshape  :  Reshape\n",
      "            strided_slice_6  :  StridedSlice\n",
      "                Variable/read  :  Identity\n",
      "                    Variable  :  VariableV2\n",
      "                strided_slice_6/stack  :  Const\n",
      "                strided_slice_6/stack_2  :  Pack\n",
      "                    strided_slice_6/stack_2/values_0  :  Const\n",
      "                strided_slice_6/stack_3  :  Const\n",
      "            Reshape/shape  :  Const\n",
      "    strided_slice_7  :  StridedSlice\n",
      "        Variable/read  :  Identity\n",
      "            Variable  :  VariableV2\n",
      "        strided_slice_7/stack  :  Const\n",
      "        strided_slice_7/stack_1  :  Const\n",
      "        strided_slice_7/stack_2  :  Const\n"
     ]
    }
   ],
   "source": [
    "from afqstensorutils import *\n",
    "travel_op((model.op))"
   ]
  },
  {
   "cell_type": "markdown",
   "metadata": {},
   "source": [
    "## Freezing the model\n",
    "\n",
    "What we loaded was the graph that was being operated on during optimization. We're done optimizing (for now), so we want to trim down the graph into something that's faster to evaluate and load. This library routine almost does the trick: "
   ]
  },
  {
   "cell_type": "code",
   "execution_count": 4,
   "metadata": {
    "collapsed": false,
    "deletable": true,
    "editable": true,
    "scrolled": true
   },
   "outputs": [
    {
     "name": "stdout",
     "output_type": "stream",
     "text": [
      "INFO:tensorflow:Froze 1 variables.\n",
      "Converted 1 variables to const ops.\n"
     ]
    }
   ],
   "source": [
    "output_graph_def = \\\n",
    "tf.graph_util.convert_variables_to_constants(sess,graph.as_graph_def(),[\"THEMODEL\"])"
   ]
  },
  {
   "cell_type": "markdown",
   "metadata": {},
   "source": [
    "But now we need to turn this graph_def object into a graph, and fetch the nodes"
   ]
  },
  {
   "cell_type": "code",
   "execution_count": 5,
   "metadata": {
    "collapsed": false,
    "deletable": true,
    "editable": true
   },
   "outputs": [],
   "source": [
    "a,b=tf.import_graph_def(output_graph_def,return_elements=['THEINPUT:0','THEMODEL:0'])"
   ]
  },
  {
   "cell_type": "code",
   "execution_count": 6,
   "metadata": {
    "collapsed": false,
    "deletable": true,
    "editable": true,
    "scrolled": true
   },
   "outputs": [
    {
     "data": {
      "text/plain": [
       "<tf.Tensor 'import/THEINPUT:0' shape=(?, 2) dtype=float32>"
      ]
     },
     "execution_count": 6,
     "metadata": {},
     "output_type": "execute_result"
    }
   ],
   "source": [
    "a"
   ]
  },
  {
   "cell_type": "markdown",
   "metadata": {},
   "source": [
    "Can we evaluate it?"
   ]
  },
  {
   "cell_type": "code",
   "execution_count": 7,
   "metadata": {
    "collapsed": false,
    "deletable": true,
    "editable": true,
    "scrolled": true
   },
   "outputs": [
    {
     "data": {
      "text/plain": [
       "array([[ 0.40482566]], dtype=float32)"
      ]
     },
     "execution_count": 7,
     "metadata": {},
     "output_type": "execute_result"
    }
   ],
   "source": [
    "b.eval(feed_dict={a:np.array([[1.0,2.0]])},session=sess)"
   ]
  },
  {
   "cell_type": "markdown",
   "metadata": {},
   "source": [
    "Lets travel the op and see how it compares to what we loaded. It looks exactly the same, but with all the variables replaced by constants. "
   ]
  },
  {
   "cell_type": "code",
   "execution_count": 8,
   "metadata": {
    "collapsed": false,
    "deletable": true,
    "editable": true,
    "scrolled": true
   },
   "outputs": [
    {
     "name": "stdout",
     "output_type": "stream",
     "text": [
      "import/THEMODEL  :  Add\n",
      "    import/MatMul  :  MatMul\n",
      "        import/concat  :  ConcatV2\n",
      "            import/THEINPUT  :  Placeholder\n",
      "            import/stack  :  Pack\n",
      "                import/mul  :  Mul\n",
      "                    import/strided_slice  :  StridedSlice\n",
      "                        import/THEINPUT  :  Placeholder\n",
      "                        import/strided_slice/stack  :  Const\n",
      "                        import/strided_slice/stack_1  :  Const\n",
      "                        import/strided_slice/stack_2  :  Const\n",
      "                    import/strided_slice_1  :  StridedSlice\n",
      "                        import/THEINPUT  :  Placeholder\n",
      "                        import/strided_slice_1/stack  :  Const\n",
      "                        import/strided_slice_1/stack_1  :  Const\n",
      "                        import/strided_slice_1/stack_2  :  Const\n",
      "                import/mul_1  :  Mul\n",
      "                    import/strided_slice_2  :  StridedSlice\n",
      "                        import/THEINPUT  :  Placeholder\n",
      "                        import/strided_slice_2/stack  :  Const\n",
      "                        import/strided_slice_2/stack_1  :  Const\n",
      "                        import/strided_slice_2/stack_2  :  Const\n",
      "                    import/strided_slice_3  :  StridedSlice\n",
      "                        import/THEINPUT  :  Placeholder\n",
      "                        import/strided_slice_3/stack  :  Const\n",
      "                        import/strided_slice_3/stack_1  :  Const\n",
      "                        import/strided_slice_3/stack_2  :  Const\n",
      "                import/mul_2  :  Mul\n",
      "                    import/strided_slice_4  :  StridedSlice\n",
      "                        import/THEINPUT  :  Placeholder\n",
      "                        import/strided_slice_4/stack  :  Const\n",
      "                        import/strided_slice_4/stack_1  :  Const\n",
      "                        import/strided_slice_4/stack_2  :  Const\n",
      "                    import/strided_slice_5  :  StridedSlice\n",
      "                        import/THEINPUT  :  Placeholder\n",
      "                        import/strided_slice_5/stack  :  Const\n",
      "                        import/strided_slice_5/stack_1  :  Const\n",
      "                        import/strided_slice_5/stack_2  :  Const\n",
      "            import/concat/axis  :  Const\n",
      "        import/Reshape  :  Reshape\n",
      "            import/strided_slice_6  :  StridedSlice\n",
      "                import/Variable/read  :  Identity\n",
      "                    import/Variable  :  Const\n",
      "                import/strided_slice_6/stack  :  Const\n",
      "                import/strided_slice_6/stack_2  :  Pack\n",
      "                    import/strided_slice_6/stack_2/values_0  :  Const\n",
      "                import/strided_slice_6/stack_3  :  Const\n",
      "            import/Reshape/shape  :  Const\n",
      "    import/strided_slice_7  :  StridedSlice\n",
      "        import/Variable/read  :  Identity\n",
      "            import/Variable  :  Const\n",
      "        import/strided_slice_7/stack  :  Const\n",
      "        import/strided_slice_7/stack_1  :  Const\n",
      "        import/strided_slice_7/stack_2  :  Const\n"
     ]
    }
   ],
   "source": [
    "travel_op(b.op)"
   ]
  },
  {
   "cell_type": "markdown",
   "metadata": {},
   "source": [
    "Some example code mentioned this, but it's not the way to do it anymore, it seems."
   ]
  },
  {
   "cell_type": "code",
   "execution_count": 9,
   "metadata": {
    "collapsed": false,
    "deletable": true,
    "editable": true
   },
   "outputs": [],
   "source": [
    "from tensorflow.python.tools import freeze_graph\n"
   ]
  }
 ],
 "metadata": {
  "kernelspec": {
   "display_name": "Python 2",
   "language": "python",
   "name": "python2"
  },
  "language_info": {
   "codemirror_mode": {
    "name": "ipython",
    "version": 2
   },
   "file_extension": ".py",
   "mimetype": "text/x-python",
   "name": "python",
   "nbconvert_exporter": "python",
   "pygments_lexer": "ipython2",
   "version": "2.7.12"
  }
 },
 "nbformat": 4,
 "nbformat_minor": 2
}
