{
 "cells": [
  {
   "cell_type": "markdown",
   "metadata": {
    "deletable": true,
    "editable": true
   },
   "source": [
    "# Loading and inspecting a model\n",
    "\n",
    "We eventually want to load up the model we trained and use it for stuff. I don't know why this isn't covered more in the docs. Here, we load the graph, the latest set of variables, and then make and write a new graph after \"freezing\" all of the trained variables to turn them into constants."
   ]
  },
  {
   "cell_type": "markdown",
   "metadata": {
    "deletable": true,
    "editable": true
   },
   "source": [
    "## Reading and inspecting it\n",
    "\n",
    "We load those files and find the input and output entities of the graph. The graph file is kinda just a bag-o-nodes, so we have to give them useful names when we're building the graph originally. We also can't automatically find the inputs... with anything built into tensorflow."
   ]
  },
  {
   "cell_type": "code",
   "execution_count": 1,
   "metadata": {
    "collapsed": false,
    "deletable": true,
    "editable": true,
    "scrolled": true
   },
   "outputs": [
    {
     "name": "stdout",
     "output_type": "stream",
     "text": [
      "INFO:tensorflow:Restoring parameters from savemymodel\n"
     ]
    }
   ],
   "source": [
    "import tensorflow as tf\n",
    "graph = tf.Graph()\n",
    "sess = tf.InteractiveSession(graph=graph)\n",
    "saver = tf.train.import_meta_graph('savemymodel.meta')\n",
    "saver.restore(sess,'savemymodel')\n",
    "tf_x =graph.get_tensor_by_name('THEINPUT:0') \n",
    "model=graph.get_tensor_by_name('THEMODEL:0')"
   ]
  },
  {
   "cell_type": "markdown",
   "metadata": {
    "deletable": true,
    "editable": true
   },
   "source": [
    "Verify that it looks right:"
   ]
  },
  {
   "cell_type": "code",
   "execution_count": 2,
   "metadata": {
    "collapsed": false,
    "deletable": true,
    "editable": true
   },
   "outputs": [
    {
     "data": {
      "image/png": "[encoded data removed]",
      "text/plain": [
       "<matplotlib.figure.Figure at 0x7f2f6cb0e690>"
      ]
     },
     "metadata": {},
     "output_type": "display_data"
    }
   ],
   "source": [
    "from matplotlib import pylab as plt\n",
    "import numpy as np\n",
    "plt.close('all')\n",
    "for n in np.linspace(-0.5,0.5,4):\n",
    "    xx = np.zeros((100,2))\n",
    "    strip = np.linspace(-0.5,0.5,100)\n",
    "    xx[:,0] = strip\n",
    "    xx[:,1] = n\n",
    "    yy = model.eval(feed_dict={tf_x: xx}, session=sess)\n",
    "    plt.plot(strip,yy,'-')\n",
    "plt.show()"
   ]
  },
  {
   "cell_type": "markdown",
   "metadata": {
    "deletable": true,
    "editable": true
   },
   "source": [
    "Lets walk the TensorFlow operation tree and see what it looks like:"
   ]
  },
  {
   "cell_type": "code",
   "execution_count": 3,
   "metadata": {
    "collapsed": false,
    "deletable": true,
    "editable": true,
    "scrolled": true
   },
   "outputs": [
    {
     "name": "stdout",
     "output_type": "stream",
     "text": [
      "THEMODEL  :  Add\n",
      "    MatMul  :  MatMul\n",
      "        THEINPUT  :  Placeholder\n",
      "        Reshape  :  Reshape\n",
      "            strided_slice  :  StridedSlice\n",
      "                Variable/read  :  Identity\n",
      "                    Variable  :  VariableV2\n",
      "                strided_slice/stack  :  Const\n",
      "                strided_slice/stack_2  :  Pack\n",
      "                    strided_slice/stack_2/values_0  :  Const\n",
      "                strided_slice/stack_3  :  Const\n",
      "            Reshape/shape  :  Const\n",
      "    strided_slice_1  :  StridedSlice\n",
      "        Variable/read  :  Identity\n",
      "            Variable  :  VariableV2\n",
      "        strided_slice_1/stack  :  Const\n",
      "        strided_slice_1/stack_1  :  Const\n",
      "        strided_slice_1/stack_2  :  Const\n"
     ]
    }
   ],
   "source": [
    "from afqstensorutils import *\n",
    "travel_op((model.op))"
   ]
  },
  {
   "cell_type": "markdown",
   "metadata": {
    "deletable": true,
    "editable": true
   },
   "source": [
    "## Freezing the model\n",
    "\n",
    "What we loaded was the graph that was being operated on during optimization. We're done optimizing (for now), so we want to trim down the graph into something that's faster to evaluate and load. This library routine almost does the trick: "
   ]
  },
  {
   "cell_type": "code",
   "execution_count": 4,
   "metadata": {
    "collapsed": false,
    "deletable": true,
    "editable": true,
    "scrolled": true
   },
   "outputs": [
    {
     "name": "stdout",
     "output_type": "stream",
     "text": [
      "INFO:tensorflow:Froze 1 variables.\n",
      "Converted 1 variables to const ops.\n"
     ]
    }
   ],
   "source": [
    "output_graph_def = \\\n",
    "tf.graph_util.convert_variables_to_constants(sess,graph.as_graph_def(),[\"THEMODEL\"])"
   ]
  },
  {
   "cell_type": "markdown",
   "metadata": {
    "deletable": true,
    "editable": true
   },
   "source": [
    "But now we need to turn this graph_def object into a graph, and fetch the nodes"
   ]
  },
  {
   "cell_type": "code",
   "execution_count": 5,
   "metadata": {
    "collapsed": true,
    "deletable": true,
    "editable": true
   },
   "outputs": [],
   "source": [
    "a,b=tf.import_graph_def(output_graph_def,return_elements=['THEINPUT:0','THEMODEL:0'])"
   ]
  },
  {
   "cell_type": "code",
   "execution_count": 6,
   "metadata": {
    "collapsed": false,
    "deletable": true,
    "editable": true,
    "scrolled": true
   },
   "outputs": [
    {
     "data": {
      "text/plain": [
       "<tf.Tensor 'import/THEINPUT:0' shape=(?, 2) dtype=float32>"
      ]
     },
     "execution_count": 6,
     "metadata": {},
     "output_type": "execute_result"
    }
   ],
   "source": [
    "a"
   ]
  },
  {
   "cell_type": "markdown",
   "metadata": {
    "deletable": true,
    "editable": true
   },
   "source": [
    "Can we evaluate it?"
   ]
  },
  {
   "cell_type": "code",
   "execution_count": 7,
   "metadata": {
    "collapsed": false,
    "deletable": true,
    "editable": true,
    "scrolled": true
   },
   "outputs": [
    {
     "data": {
      "text/plain": [
       "array([[-0.37182826]], dtype=float32)"
      ]
     },
     "execution_count": 7,
     "metadata": {},
     "output_type": "execute_result"
    }
   ],
   "source": [
    "b.eval(feed_dict={a:np.array([[1.0,2.0]])},session=sess)"
   ]
  },
  {
   "cell_type": "markdown",
   "metadata": {
    "deletable": true,
    "editable": true
   },
   "source": [
    "Lets travel the op and see how it compares to what we loaded. It looks exactly the same, but with all the variables replaced by constants. "
   ]
  },
  {
   "cell_type": "code",
   "execution_count": 8,
   "metadata": {
    "collapsed": false,
    "deletable": true,
    "editable": true,
    "scrolled": true
   },
   "outputs": [
    {
     "name": "stdout",
     "output_type": "stream",
     "text": [
      "import/THEMODEL  :  Add\n",
      "    import/MatMul  :  MatMul\n",
      "        import/THEINPUT  :  Placeholder\n",
      "        import/Reshape  :  Reshape\n",
      "            import/strided_slice  :  StridedSlice\n",
      "                import/Variable/read  :  Identity\n",
      "                    import/Variable  :  Const\n",
      "                import/strided_slice/stack  :  Const\n",
      "                import/strided_slice/stack_2  :  Pack\n",
      "                    import/strided_slice/stack_2/values_0  :  Const\n",
      "                import/strided_slice/stack_3  :  Const\n",
      "            import/Reshape/shape  :  Const\n",
      "    import/strided_slice_1  :  StridedSlice\n",
      "        import/Variable/read  :  Identity\n",
      "            import/Variable  :  Const\n",
      "        import/strided_slice_1/stack  :  Const\n",
      "        import/strided_slice_1/stack_1  :  Const\n",
      "        import/strided_slice_1/stack_2  :  Const\n"
     ]
    }
   ],
   "source": [
    "travel_op(b.op)"
   ]
  },
  {
   "cell_type": "markdown",
   "metadata": {
    "deletable": true,
    "editable": true
   },
   "source": [
    "Some example code mentioned this, but it's not the way to do it anymore, it seems."
   ]
  },
  {
   "cell_type": "code",
   "execution_count": 9,
   "metadata": {
    "collapsed": true,
    "deletable": true,
    "editable": true
   },
   "outputs": [],
   "source": [
    "#from tensorflow.python.tools import freeze_graph"
   ]
  },
  {
   "cell_type": "markdown",
   "metadata": {
    "deletable": true,
    "editable": true
   },
   "source": [
    "## Saving the graph\n",
    "Now let's save the new graph. We have to do something with the session or else we'll end up with everything in the file."
   ]
  },
  {
   "cell_type": "code",
   "execution_count": 10,
   "metadata": {
    "collapsed": false,
    "deletable": true,
    "editable": true
   },
   "outputs": [
    {
     "name": "stdout",
     "output_type": "stream",
     "text": [
      "INFO:tensorflow:Froze 1 variables.\n",
      "Converted 1 variables to const ops.\n"
     ]
    }
   ],
   "source": [
    "saver = tf.train.Saver()\n",
    "saver.save(sess,'./frozenmodel')\n",
    "output_graph_def = \\\n",
    "    tf.graph_util.convert_variables_to_constants(sess,graph.as_graph_def(),[\"THEMODEL\"])\n",
    "a,b=tf.import_graph_def(output_graph_def,return_elements=['THEINPUT:0','THEMODEL:0'])\n",
    "meta_graph_def = tf.train.export_meta_graph(filename=\"frozenmodel.meta\")\n"
   ]
  },
  {
   "cell_type": "markdown",
   "metadata": {},
   "source": [
    "Now we start a new session to load it up and see what's in there."
   ]
  },
  {
   "cell_type": "code",
   "execution_count": 11,
   "metadata": {
    "collapsed": false,
    "deletable": true,
    "editable": true,
    "scrolled": true
   },
   "outputs": [
    {
     "name": "stdout",
     "output_type": "stream",
     "text": [
      "INFO:tensorflow:Restoring parameters from frozenmodel\n"
     ]
    }
   ],
   "source": [
    "graph2 = tf.Graph()\n",
    "with tf.Session(graph=graph2) as sess2:\n",
    "    saver2 = tf.train.import_meta_graph('frozenmodel.meta')\n",
    "    saver2.restore(sess2,'frozenmodel')\n",
    "    tf_x =graph2.get_tensor_by_name('THEINPUT:0') \n",
    "    model=graph2.get_tensor_by_name('THEMODEL:0')"
   ]
  },
  {
   "cell_type": "code",
   "execution_count": 12,
   "metadata": {
    "collapsed": false
   },
   "outputs": [
    {
     "data": {
      "text/plain": [
       "[<tf.Operation 'THEINPUT' type=Placeholder>,\n",
       " <tf.Operation 'Placeholder' type=Placeholder>,\n",
       " <tf.Operation 'zeros' type=Const>,\n",
       " <tf.Operation 'Variable' type=VariableV2>,\n",
       " <tf.Operation 'Variable/Assign' type=Assign>,\n",
       " <tf.Operation 'Variable/read' type=Identity>,\n",
       " <tf.Operation 'strided_slice/stack' type=Const>,\n",
       " <tf.Operation 'strided_slice/stack_1' type=Const>,\n",
       " <tf.Operation 'strided_slice/stack_2/values_0' type=Const>,\n",
       " <tf.Operation 'strided_slice/stack_2' type=Pack>,\n",
       " <tf.Operation 'strided_slice/stack_3' type=Const>,\n",
       " <tf.Operation 'strided_slice' type=StridedSlice>,\n",
       " <tf.Operation 'Reshape/shape' type=Const>,\n",
       " <tf.Operation 'Reshape' type=Reshape>,\n",
       " <tf.Operation 'strided_slice_1/stack' type=Const>,\n",
       " <tf.Operation 'strided_slice_1/stack_1' type=Const>,\n",
       " <tf.Operation 'strided_slice_1/stack_2' type=Const>,\n",
       " <tf.Operation 'strided_slice_1' type=StridedSlice>,\n",
       " <tf.Operation 'MatMul' type=MatMul>,\n",
       " <tf.Operation 'THEMODEL' type=Add>,\n",
       " <tf.Operation 'sub' type=Sub>,\n",
       " <tf.Operation 'Pow/y' type=Const>,\n",
       " <tf.Operation 'Pow' type=Pow>,\n",
       " <tf.Operation 'Const' type=Const>,\n",
       " <tf.Operation 'Sum' type=Sum>,\n",
       " <tf.Operation 'gradients/Shape' type=Const>,\n",
       " <tf.Operation 'gradients/Const' type=Const>,\n",
       " <tf.Operation 'gradients/Fill' type=Fill>,\n",
       " <tf.Operation 'gradients/Sum_grad/Reshape/shape' type=Const>,\n",
       " <tf.Operation 'gradients/Sum_grad/Reshape' type=Reshape>,\n",
       " <tf.Operation 'gradients/Sum_grad/Shape' type=Shape>,\n",
       " <tf.Operation 'gradients/Sum_grad/Tile' type=Tile>,\n",
       " <tf.Operation 'gradients/Pow_grad/Shape' type=Shape>,\n",
       " <tf.Operation 'gradients/Pow_grad/Shape_1' type=Const>,\n",
       " <tf.Operation 'gradients/Pow_grad/BroadcastGradientArgs' type=BroadcastGradientArgs>,\n",
       " <tf.Operation 'gradients/Pow_grad/mul' type=Mul>,\n",
       " <tf.Operation 'gradients/Pow_grad/sub/y' type=Const>,\n",
       " <tf.Operation 'gradients/Pow_grad/sub' type=Sub>,\n",
       " <tf.Operation 'gradients/Pow_grad/Pow' type=Pow>,\n",
       " <tf.Operation 'gradients/Pow_grad/mul_1' type=Mul>,\n",
       " <tf.Operation 'gradients/Pow_grad/Sum' type=Sum>,\n",
       " <tf.Operation 'gradients/Pow_grad/Reshape' type=Reshape>,\n",
       " <tf.Operation 'gradients/Pow_grad/Greater/y' type=Const>,\n",
       " <tf.Operation 'gradients/Pow_grad/Greater' type=Greater>,\n",
       " <tf.Operation 'gradients/Pow_grad/Log' type=Log>,\n",
       " <tf.Operation 'gradients/Pow_grad/zeros_like' type=ZerosLike>,\n",
       " <tf.Operation 'gradients/Pow_grad/Select' type=Select>,\n",
       " <tf.Operation 'gradients/Pow_grad/mul_2' type=Mul>,\n",
       " <tf.Operation 'gradients/Pow_grad/mul_3' type=Mul>,\n",
       " <tf.Operation 'gradients/Pow_grad/Sum_1' type=Sum>,\n",
       " <tf.Operation 'gradients/Pow_grad/Reshape_1' type=Reshape>,\n",
       " <tf.Operation 'gradients/sub_grad/Shape' type=Shape>,\n",
       " <tf.Operation 'gradients/sub_grad/Shape_1' type=Shape>,\n",
       " <tf.Operation 'gradients/sub_grad/BroadcastGradientArgs' type=BroadcastGradientArgs>,\n",
       " <tf.Operation 'gradients/sub_grad/Sum' type=Sum>,\n",
       " <tf.Operation 'gradients/sub_grad/Reshape' type=Reshape>,\n",
       " <tf.Operation 'gradients/sub_grad/Sum_1' type=Sum>,\n",
       " <tf.Operation 'gradients/sub_grad/Neg' type=Neg>,\n",
       " <tf.Operation 'gradients/sub_grad/Reshape_1' type=Reshape>,\n",
       " <tf.Operation 'gradients/THEMODEL_grad/Shape' type=Shape>,\n",
       " <tf.Operation 'gradients/THEMODEL_grad/Shape_1' type=Const>,\n",
       " <tf.Operation 'gradients/THEMODEL_grad/BroadcastGradientArgs' type=BroadcastGradientArgs>,\n",
       " <tf.Operation 'gradients/THEMODEL_grad/Sum' type=Sum>,\n",
       " <tf.Operation 'gradients/THEMODEL_grad/Reshape' type=Reshape>,\n",
       " <tf.Operation 'gradients/THEMODEL_grad/Sum_1' type=Sum>,\n",
       " <tf.Operation 'gradients/THEMODEL_grad/Reshape_1' type=Reshape>,\n",
       " <tf.Operation 'gradients/MatMul_grad/MatMul' type=MatMul>,\n",
       " <tf.Operation 'gradients/MatMul_grad/MatMul_1' type=MatMul>,\n",
       " <tf.Operation 'gradients/strided_slice_1_grad/Shape' type=Const>,\n",
       " <tf.Operation 'gradients/strided_slice_1_grad/StridedSliceGrad' type=StridedSliceGrad>,\n",
       " <tf.Operation 'gradients/Reshape_grad/Shape' type=Const>,\n",
       " <tf.Operation 'gradients/Reshape_grad/Reshape' type=Reshape>,\n",
       " <tf.Operation 'gradients/strided_slice_grad/Shape' type=Const>,\n",
       " <tf.Operation 'gradients/strided_slice_grad/StridedSliceGrad' type=StridedSliceGrad>,\n",
       " <tf.Operation 'gradients/AddN' type=AddN>,\n",
       " <tf.Operation 'gradients_1/Shape' type=Const>,\n",
       " <tf.Operation 'gradients_1/Const' type=Const>,\n",
       " <tf.Operation 'gradients_1/Fill' type=Fill>,\n",
       " <tf.Operation 'gradients_1/Sum_grad/Reshape/shape' type=Const>,\n",
       " <tf.Operation 'gradients_1/Sum_grad/Reshape' type=Reshape>,\n",
       " <tf.Operation 'gradients_1/Sum_grad/Shape' type=Shape>,\n",
       " <tf.Operation 'gradients_1/Sum_grad/Tile' type=Tile>,\n",
       " <tf.Operation 'gradients_1/Pow_grad/Shape' type=Shape>,\n",
       " <tf.Operation 'gradients_1/Pow_grad/Shape_1' type=Const>,\n",
       " <tf.Operation 'gradients_1/Pow_grad/BroadcastGradientArgs' type=BroadcastGradientArgs>,\n",
       " <tf.Operation 'gradients_1/Pow_grad/mul' type=Mul>,\n",
       " <tf.Operation 'gradients_1/Pow_grad/sub/y' type=Const>,\n",
       " <tf.Operation 'gradients_1/Pow_grad/sub' type=Sub>,\n",
       " <tf.Operation 'gradients_1/Pow_grad/Pow' type=Pow>,\n",
       " <tf.Operation 'gradients_1/Pow_grad/mul_1' type=Mul>,\n",
       " <tf.Operation 'gradients_1/Pow_grad/Sum' type=Sum>,\n",
       " <tf.Operation 'gradients_1/Pow_grad/Reshape' type=Reshape>,\n",
       " <tf.Operation 'gradients_1/Pow_grad/Greater/y' type=Const>,\n",
       " <tf.Operation 'gradients_1/Pow_grad/Greater' type=Greater>,\n",
       " <tf.Operation 'gradients_1/Pow_grad/Log' type=Log>,\n",
       " <tf.Operation 'gradients_1/Pow_grad/zeros_like' type=ZerosLike>,\n",
       " <tf.Operation 'gradients_1/Pow_grad/Select' type=Select>,\n",
       " <tf.Operation 'gradients_1/Pow_grad/mul_2' type=Mul>,\n",
       " <tf.Operation 'gradients_1/Pow_grad/mul_3' type=Mul>,\n",
       " <tf.Operation 'gradients_1/Pow_grad/Sum_1' type=Sum>,\n",
       " <tf.Operation 'gradients_1/Pow_grad/Reshape_1' type=Reshape>,\n",
       " <tf.Operation 'gradients_1/sub_grad/Shape' type=Shape>,\n",
       " <tf.Operation 'gradients_1/sub_grad/Shape_1' type=Shape>,\n",
       " <tf.Operation 'gradients_1/sub_grad/BroadcastGradientArgs' type=BroadcastGradientArgs>,\n",
       " <tf.Operation 'gradients_1/sub_grad/Sum' type=Sum>,\n",
       " <tf.Operation 'gradients_1/sub_grad/Reshape' type=Reshape>,\n",
       " <tf.Operation 'gradients_1/sub_grad/Sum_1' type=Sum>,\n",
       " <tf.Operation 'gradients_1/sub_grad/Neg' type=Neg>,\n",
       " <tf.Operation 'gradients_1/sub_grad/Reshape_1' type=Reshape>,\n",
       " <tf.Operation 'gradients_1/THEMODEL_grad/Shape' type=Shape>,\n",
       " <tf.Operation 'gradients_1/THEMODEL_grad/Shape_1' type=Const>,\n",
       " <tf.Operation 'gradients_1/THEMODEL_grad/BroadcastGradientArgs' type=BroadcastGradientArgs>,\n",
       " <tf.Operation 'gradients_1/THEMODEL_grad/Sum' type=Sum>,\n",
       " <tf.Operation 'gradients_1/THEMODEL_grad/Reshape' type=Reshape>,\n",
       " <tf.Operation 'gradients_1/THEMODEL_grad/Sum_1' type=Sum>,\n",
       " <tf.Operation 'gradients_1/THEMODEL_grad/Reshape_1' type=Reshape>,\n",
       " <tf.Operation 'gradients_1/MatMul_grad/MatMul' type=MatMul>,\n",
       " <tf.Operation 'gradients_1/MatMul_grad/MatMul_1' type=MatMul>,\n",
       " <tf.Operation 'gradients_1/strided_slice_1_grad/Shape' type=Const>,\n",
       " <tf.Operation 'gradients_1/strided_slice_1_grad/StridedSliceGrad' type=StridedSliceGrad>,\n",
       " <tf.Operation 'gradients_1/Reshape_grad/Shape' type=Const>,\n",
       " <tf.Operation 'gradients_1/Reshape_grad/Reshape' type=Reshape>,\n",
       " <tf.Operation 'gradients_1/strided_slice_grad/Shape' type=Const>,\n",
       " <tf.Operation 'gradients_1/strided_slice_grad/StridedSliceGrad' type=StridedSliceGrad>,\n",
       " <tf.Operation 'gradients_1/AddN' type=AddN>,\n",
       " <tf.Operation 'assert_rank/rank' type=Const>,\n",
       " <tf.Operation 'assert_rank/Shape' type=Const>,\n",
       " <tf.Operation 'assert_rank/assert_type/statically_determined_correct_type' type=NoOp>,\n",
       " <tf.Operation 'assert_rank/static_checks_determined_all_ok' type=NoOp>,\n",
       " <tf.Operation 'Size' type=Const>,\n",
       " <tf.Operation 'Const_1' type=Const>,\n",
       " <tf.Operation 'TensorArray' type=TensorArrayV3>,\n",
       " <tf.Operation 'while/Enter' type=Enter>,\n",
       " <tf.Operation 'while/Enter_1' type=Enter>,\n",
       " <tf.Operation 'while/Merge' type=Merge>,\n",
       " <tf.Operation 'while/Merge_1' type=Merge>,\n",
       " <tf.Operation 'while/Less/Enter' type=Enter>,\n",
       " <tf.Operation 'while/Less' type=Less>,\n",
       " <tf.Operation 'while/LoopCond' type=LoopCond>,\n",
       " <tf.Operation 'while/Switch' type=Switch>,\n",
       " <tf.Operation 'while/Switch_1' type=Switch>,\n",
       " <tf.Operation 'while/Identity' type=Identity>,\n",
       " <tf.Operation 'while/Identity_1' type=Identity>,\n",
       " <tf.Operation 'while/add/y' type=Const>,\n",
       " <tf.Operation 'while/add' type=Add>,\n",
       " <tf.Operation 'while/add_1/y' type=Const>,\n",
       " <tf.Operation 'while/add_1' type=Add>,\n",
       " <tf.Operation 'while/strided_slice/stack' type=Pack>,\n",
       " <tf.Operation 'while/strided_slice/stack_1' type=Pack>,\n",
       " <tf.Operation 'while/strided_slice/stack_2' type=Const>,\n",
       " <tf.Operation 'while/strided_slice/Enter' type=Enter>,\n",
       " <tf.Operation 'while/strided_slice' type=StridedSlice>,\n",
       " <tf.Operation 'while/gradients/Shape' type=Const>,\n",
       " <tf.Operation 'while/gradients/Const' type=Const>,\n",
       " <tf.Operation 'while/gradients/Fill' type=Fill>,\n",
       " <tf.Operation 'while/gradients/while/strided_slice_grad/Shape' type=Const>,\n",
       " <tf.Operation 'while/gradients/while/strided_slice_grad/StridedSliceGrad' type=StridedSliceGrad>,\n",
       " <tf.Operation 'while/gradients/gradients_1/strided_slice_1_grad/StridedSliceGrad_grad/StridedSlice/Enter' type=Enter>,\n",
       " <tf.Operation 'while/gradients/gradients_1/strided_slice_1_grad/StridedSliceGrad_grad/StridedSlice/Enter_1' type=Enter>,\n",
       " <tf.Operation 'while/gradients/gradients_1/strided_slice_1_grad/StridedSliceGrad_grad/StridedSlice/Enter_2' type=Enter>,\n",
       " <tf.Operation 'while/gradients/gradients_1/strided_slice_1_grad/StridedSliceGrad_grad/StridedSlice' type=StridedSlice>,\n",
       " <tf.Operation 'while/gradients/gradients_1/strided_slice_grad/StridedSliceGrad_grad/StridedSlice/Enter' type=Enter>,\n",
       " <tf.Operation 'while/gradients/gradients_1/strided_slice_grad/StridedSliceGrad_grad/StridedSlice/Enter_1' type=Enter>,\n",
       " <tf.Operation 'while/gradients/gradients_1/strided_slice_grad/StridedSliceGrad_grad/StridedSlice/Enter_2' type=Enter>,\n",
       " <tf.Operation 'while/gradients/gradients_1/strided_slice_grad/StridedSliceGrad_grad/StridedSlice' type=StridedSlice>,\n",
       " <tf.Operation 'while/gradients/gradients_1/THEMODEL_grad/Reshape_1_grad/Shape/Enter' type=Enter>,\n",
       " <tf.Operation 'while/gradients/gradients_1/THEMODEL_grad/Reshape_1_grad/Shape' type=Shape>,\n",
       " <tf.Operation 'while/gradients/gradients_1/THEMODEL_grad/Reshape_1_grad/Reshape' type=Reshape>,\n",
       " <tf.Operation 'while/gradients/gradients_1/Reshape_grad/Reshape_grad/Shape' type=Const>,\n",
       " <tf.Operation 'while/gradients/gradients_1/Reshape_grad/Reshape_grad/Reshape' type=Reshape>,\n",
       " <tf.Operation 'while/gradients/gradients_1/THEMODEL_grad/Sum_1_grad/Shape/Enter' type=Enter>,\n",
       " <tf.Operation 'while/gradients/gradients_1/THEMODEL_grad/Sum_1_grad/Shape' type=Shape>,\n",
       " <tf.Operation 'while/gradients/gradients_1/THEMODEL_grad/Sum_1_grad/Size' type=Const>,\n",
       " <tf.Operation 'while/gradients/gradients_1/THEMODEL_grad/Sum_1_grad/add/Enter' type=Enter>,\n",
       " <tf.Operation 'while/gradients/gradients_1/THEMODEL_grad/Sum_1_grad/add' type=Add>,\n",
       " <tf.Operation 'while/gradients/gradients_1/THEMODEL_grad/Sum_1_grad/mod' type=FloorMod>,\n",
       " <tf.Operation 'while/gradients/gradients_1/THEMODEL_grad/Sum_1_grad/Shape_1' type=Shape>,\n",
       " <tf.Operation 'while/gradients/gradients_1/THEMODEL_grad/Sum_1_grad/range/start' type=Const>,\n",
       " <tf.Operation 'while/gradients/gradients_1/THEMODEL_grad/Sum_1_grad/range/delta' type=Const>,\n",
       " <tf.Operation 'while/gradients/gradients_1/THEMODEL_grad/Sum_1_grad/range' type=Range>,\n",
       " <tf.Operation 'while/gradients/gradients_1/THEMODEL_grad/Sum_1_grad/Fill/value' type=Const>,\n",
       " <tf.Operation 'while/gradients/gradients_1/THEMODEL_grad/Sum_1_grad/Fill' type=Fill>,\n",
       " <tf.Operation 'while/gradients/gradients_1/THEMODEL_grad/Sum_1_grad/DynamicStitch' type=DynamicStitch>,\n",
       " <tf.Operation 'while/gradients/gradients_1/THEMODEL_grad/Sum_1_grad/Maximum/y' type=Const>,\n",
       " <tf.Operation 'while/gradients/gradients_1/THEMODEL_grad/Sum_1_grad/Maximum' type=Maximum>,\n",
       " <tf.Operation 'while/gradients/gradients_1/THEMODEL_grad/Sum_1_grad/floordiv' type=FloorDiv>,\n",
       " <tf.Operation 'while/gradients/gradients_1/THEMODEL_grad/Sum_1_grad/Reshape' type=Reshape>,\n",
       " <tf.Operation 'while/gradients/gradients_1/THEMODEL_grad/Sum_1_grad/Tile' type=Tile>,\n",
       " <tf.Operation 'while/gradients/gradients_1/MatMul_grad/MatMul_1_grad/MatMul/Enter' type=Enter>,\n",
       " <tf.Operation 'while/gradients/gradients_1/MatMul_grad/MatMul_1_grad/MatMul' type=MatMul>,\n",
       " <tf.Operation 'while/gradients/gradients_1/MatMul_grad/MatMul_1_grad/MatMul_1/Enter' type=Enter>,\n",
       " <tf.Operation 'while/gradients/gradients_1/MatMul_grad/MatMul_1_grad/MatMul_1' type=MatMul>,\n",
       " <tf.Operation 'while/gradients/gradients_1/THEMODEL_grad/Reshape_grad/Shape/Enter' type=Enter>,\n",
       " <tf.Operation 'while/gradients/gradients_1/THEMODEL_grad/Reshape_grad/Shape' type=Shape>,\n",
       " <tf.Operation 'while/gradients/gradients_1/THEMODEL_grad/Reshape_grad/Reshape' type=Reshape>,\n",
       " <tf.Operation 'while/gradients/gradients_1/THEMODEL_grad/Sum_grad/Shape' type=Shape>,\n",
       " <tf.Operation 'while/gradients/gradients_1/THEMODEL_grad/Sum_grad/Size' type=Const>,\n",
       " <tf.Operation 'while/gradients/gradients_1/THEMODEL_grad/Sum_grad/add/Enter' type=Enter>,\n",
       " <tf.Operation 'while/gradients/gradients_1/THEMODEL_grad/Sum_grad/add' type=Add>,\n",
       " <tf.Operation 'while/gradients/gradients_1/THEMODEL_grad/Sum_grad/mod' type=FloorMod>,\n",
       " <tf.Operation 'while/gradients/gradients_1/THEMODEL_grad/Sum_grad/Shape_1' type=Shape>,\n",
       " <tf.Operation 'while/gradients/gradients_1/THEMODEL_grad/Sum_grad/range/start' type=Const>,\n",
       " <tf.Operation 'while/gradients/gradients_1/THEMODEL_grad/Sum_grad/range/delta' type=Const>,\n",
       " <tf.Operation 'while/gradients/gradients_1/THEMODEL_grad/Sum_grad/range' type=Range>,\n",
       " <tf.Operation 'while/gradients/gradients_1/THEMODEL_grad/Sum_grad/Fill/value' type=Const>,\n",
       " <tf.Operation 'while/gradients/gradients_1/THEMODEL_grad/Sum_grad/Fill' type=Fill>,\n",
       " <tf.Operation 'while/gradients/gradients_1/THEMODEL_grad/Sum_grad/DynamicStitch' type=DynamicStitch>,\n",
       " <tf.Operation 'while/gradients/gradients_1/THEMODEL_grad/Sum_grad/Maximum/y' type=Const>,\n",
       " <tf.Operation 'while/gradients/gradients_1/THEMODEL_grad/Sum_grad/Maximum' type=Maximum>,\n",
       " <tf.Operation 'while/gradients/gradients_1/THEMODEL_grad/Sum_grad/floordiv' type=FloorDiv>,\n",
       " <tf.Operation 'while/gradients/gradients_1/THEMODEL_grad/Sum_grad/Reshape' type=Reshape>,\n",
       " <tf.Operation 'while/gradients/gradients_1/THEMODEL_grad/Sum_grad/Tile' type=Tile>,\n",
       " <tf.Operation 'while/gradients/AddN' type=AddN>,\n",
       " <tf.Operation 'while/gradients/gradients_1/sub_grad/Reshape_grad/Shape/Enter' type=Enter>,\n",
       " <tf.Operation 'while/gradients/gradients_1/sub_grad/Reshape_grad/Shape' type=Shape>,\n",
       " <tf.Operation 'while/gradients/gradients_1/sub_grad/Reshape_grad/Reshape' type=Reshape>,\n",
       " <tf.Operation 'while/gradients/gradients_1/sub_grad/Sum_grad/Shape/Enter' type=Enter>,\n",
       " <tf.Operation 'while/gradients/gradients_1/sub_grad/Sum_grad/Shape' type=Shape>,\n",
       " <tf.Operation 'while/gradients/gradients_1/sub_grad/Sum_grad/Size' type=Const>,\n",
       " <tf.Operation 'while/gradients/gradients_1/sub_grad/Sum_grad/add/Enter' type=Enter>,\n",
       " <tf.Operation 'while/gradients/gradients_1/sub_grad/Sum_grad/add' type=Add>,\n",
       " <tf.Operation 'while/gradients/gradients_1/sub_grad/Sum_grad/mod' type=FloorMod>,\n",
       " <tf.Operation 'while/gradients/gradients_1/sub_grad/Sum_grad/Shape_1' type=Shape>,\n",
       " <tf.Operation 'while/gradients/gradients_1/sub_grad/Sum_grad/range/start' type=Const>,\n",
       " <tf.Operation 'while/gradients/gradients_1/sub_grad/Sum_grad/range/delta' type=Const>,\n",
       " <tf.Operation 'while/gradients/gradients_1/sub_grad/Sum_grad/range' type=Range>,\n",
       " <tf.Operation 'while/gradients/gradients_1/sub_grad/Sum_grad/Fill/value' type=Const>,\n",
       " <tf.Operation 'while/gradients/gradients_1/sub_grad/Sum_grad/Fill' type=Fill>,\n",
       " <tf.Operation 'while/gradients/gradients_1/sub_grad/Sum_grad/DynamicStitch' type=DynamicStitch>,\n",
       " <tf.Operation 'while/gradients/gradients_1/sub_grad/Sum_grad/Maximum/y' type=Const>,\n",
       " <tf.Operation 'while/gradients/gradients_1/sub_grad/Sum_grad/Maximum' type=Maximum>,\n",
       " <tf.Operation 'while/gradients/gradients_1/sub_grad/Sum_grad/floordiv' type=FloorDiv>,\n",
       " <tf.Operation 'while/gradients/gradients_1/sub_grad/Sum_grad/Reshape' type=Reshape>,\n",
       " <tf.Operation 'while/gradients/gradients_1/sub_grad/Sum_grad/Tile' type=Tile>,\n",
       " <tf.Operation 'while/gradients/gradients_1/Pow_grad/Reshape_grad/Shape/Enter' type=Enter>,\n",
       " <tf.Operation 'while/gradients/gradients_1/Pow_grad/Reshape_grad/Shape' type=Shape>,\n",
       " <tf.Operation 'while/gradients/gradients_1/Pow_grad/Reshape_grad/Reshape' type=Reshape>,\n",
       " <tf.Operation 'while/gradients/gradients_1/Pow_grad/Sum_grad/Shape/Enter' type=Enter>,\n",
       " <tf.Operation 'while/gradients/gradients_1/Pow_grad/Sum_grad/Shape' type=Shape>,\n",
       " <tf.Operation 'while/gradients/gradients_1/Pow_grad/Sum_grad/Size' type=Const>,\n",
       " <tf.Operation 'while/gradients/gradients_1/Pow_grad/Sum_grad/add/Enter' type=Enter>,\n",
       " <tf.Operation 'while/gradients/gradients_1/Pow_grad/Sum_grad/add' type=Add>,\n",
       " <tf.Operation 'while/gradients/gradients_1/Pow_grad/Sum_grad/mod' type=FloorMod>,\n",
       " <tf.Operation 'while/gradients/gradients_1/Pow_grad/Sum_grad/Shape_1' type=Shape>,\n",
       " <tf.Operation 'while/gradients/gradients_1/Pow_grad/Sum_grad/range/start' type=Const>,\n",
       " <tf.Operation 'while/gradients/gradients_1/Pow_grad/Sum_grad/range/delta' type=Const>,\n",
       " <tf.Operation 'while/gradients/gradients_1/Pow_grad/Sum_grad/range' type=Range>,\n",
       " <tf.Operation 'while/gradients/gradients_1/Pow_grad/Sum_grad/Fill/value' type=Const>,\n",
       " <tf.Operation 'while/gradients/gradients_1/Pow_grad/Sum_grad/Fill' type=Fill>,\n",
       " <tf.Operation 'while/gradients/gradients_1/Pow_grad/Sum_grad/DynamicStitch' type=DynamicStitch>,\n",
       " <tf.Operation 'while/gradients/gradients_1/Pow_grad/Sum_grad/Maximum/y' type=Const>,\n",
       " <tf.Operation 'while/gradients/gradients_1/Pow_grad/Sum_grad/Maximum' type=Maximum>,\n",
       " <tf.Operation 'while/gradients/gradients_1/Pow_grad/Sum_grad/floordiv' type=FloorDiv>,\n",
       " <tf.Operation 'while/gradients/gradients_1/Pow_grad/Sum_grad/Reshape' type=Reshape>,\n",
       " <tf.Operation 'while/gradients/gradients_1/Pow_grad/Sum_grad/Tile' type=Tile>,\n",
       " <tf.Operation 'while/gradients/gradients_1/Pow_grad/mul_1_grad/Shape/Enter' type=Enter>,\n",
       " <tf.Operation 'while/gradients/gradients_1/Pow_grad/mul_1_grad/Shape' type=Shape>,\n",
       " <tf.Operation 'while/gradients/gradients_1/Pow_grad/mul_1_grad/Shape_1/Enter' type=Enter>,\n",
       " <tf.Operation 'while/gradients/gradients_1/Pow_grad/mul_1_grad/Shape_1' type=Shape>,\n",
       " <tf.Operation 'while/gradients/gradients_1/Pow_grad/mul_1_grad/BroadcastGradientArgs' type=BroadcastGradientArgs>,\n",
       " <tf.Operation 'while/gradients/gradients_1/Pow_grad/mul_1_grad/mul' type=Mul>,\n",
       " <tf.Operation 'while/gradients/gradients_1/Pow_grad/mul_1_grad/Sum' type=Sum>,\n",
       " <tf.Operation 'while/gradients/gradients_1/Pow_grad/mul_1_grad/Reshape' type=Reshape>,\n",
       " <tf.Operation 'while/gradients/gradients_1/Pow_grad/mul_1_grad/mul_1' type=Mul>,\n",
       " <tf.Operation 'while/gradients/gradients_1/Pow_grad/mul_1_grad/Sum_1' type=Sum>,\n",
       " <tf.Operation 'while/gradients/gradients_1/Pow_grad/mul_1_grad/Reshape_1' type=Reshape>,\n",
       " <tf.Operation 'while/gradients/gradients_1/Pow_grad/mul_grad/Shape/Enter' type=Enter>,\n",
       " <tf.Operation 'while/gradients/gradients_1/Pow_grad/mul_grad/Shape' type=Shape>,\n",
       " <tf.Operation 'while/gradients/gradients_1/Pow_grad/mul_grad/Shape_1' type=Const>,\n",
       " <tf.Operation 'while/gradients/gradients_1/Pow_grad/mul_grad/BroadcastGradientArgs' type=BroadcastGradientArgs>,\n",
       " <tf.Operation 'while/gradients/gradients_1/Pow_grad/mul_grad/mul/Enter' type=Enter>,\n",
       " <tf.Operation 'while/gradients/gradients_1/Pow_grad/mul_grad/mul' type=Mul>,\n",
       " <tf.Operation 'while/gradients/gradients_1/Pow_grad/mul_grad/Sum' type=Sum>,\n",
       " <tf.Operation 'while/gradients/gradients_1/Pow_grad/mul_grad/Reshape' type=Reshape>,\n",
       " <tf.Operation 'while/gradients/gradients_1/Pow_grad/mul_grad/mul_1' type=Mul>,\n",
       " <tf.Operation 'while/gradients/gradients_1/Pow_grad/mul_grad/Sum_1' type=Sum>,\n",
       " <tf.Operation 'while/gradients/gradients_1/Pow_grad/mul_grad/Reshape_1' type=Reshape>,\n",
       " <tf.Operation 'while/gradients/gradients_1/Pow_grad/Pow_grad/Shape/Enter' type=Enter>,\n",
       " <tf.Operation 'while/gradients/gradients_1/Pow_grad/Pow_grad/Shape' type=Shape>,\n",
       " <tf.Operation 'while/gradients/gradients_1/Pow_grad/Pow_grad/Shape_1' type=Const>,\n",
       " <tf.Operation 'while/gradients/gradients_1/Pow_grad/Pow_grad/BroadcastGradientArgs' type=BroadcastGradientArgs>,\n",
       " <tf.Operation 'while/gradients/gradients_1/Pow_grad/Pow_grad/mul/Enter' type=Enter>,\n",
       " <tf.Operation 'while/gradients/gradients_1/Pow_grad/Pow_grad/mul' type=Mul>,\n",
       " <tf.Operation 'while/gradients/gradients_1/Pow_grad/Pow_grad/sub/y' type=Const>,\n",
       " <tf.Operation 'while/gradients/gradients_1/Pow_grad/Pow_grad/sub' type=Sub>,\n",
       " <tf.Operation 'while/gradients/gradients_1/Pow_grad/Pow_grad/Pow' type=Pow>,\n",
       " <tf.Operation 'while/gradients/gradients_1/Pow_grad/Pow_grad/mul_1' type=Mul>,\n",
       " <tf.Operation 'while/gradients/gradients_1/Pow_grad/Pow_grad/Sum' type=Sum>,\n",
       " <tf.Operation 'while/gradients/gradients_1/Pow_grad/Pow_grad/Reshape' type=Reshape>,\n",
       " <tf.Operation 'while/gradients/gradients_1/Pow_grad/Pow_grad/Greater/y' type=Const>,\n",
       " <tf.Operation 'while/gradients/gradients_1/Pow_grad/Pow_grad/Greater' type=Greater>,\n",
       " <tf.Operation 'while/gradients/gradients_1/Pow_grad/Pow_grad/Log' type=Log>,\n",
       " <tf.Operation 'while/gradients/gradients_1/Pow_grad/Pow_grad/zeros_like' type=ZerosLike>,\n",
       " <tf.Operation 'while/gradients/gradients_1/Pow_grad/Pow_grad/Select' type=Select>,\n",
       " <tf.Operation 'while/gradients/gradients_1/Pow_grad/Pow_grad/mul_2' type=Mul>,\n",
       " <tf.Operation 'while/gradients/gradients_1/Pow_grad/Pow_grad/mul_3' type=Mul>,\n",
       " <tf.Operation 'while/gradients/gradients_1/Pow_grad/Pow_grad/Sum_1' type=Sum>,\n",
       " <tf.Operation 'while/gradients/gradients_1/Pow_grad/Pow_grad/Reshape_1' type=Reshape>,\n",
       " <tf.Operation 'while/gradients/gradients_1/Sum_grad/Tile_grad/Shape' type=Const>,\n",
       " <tf.Operation 'while/gradients/gradients_1/Sum_grad/Tile_grad/stack/Enter' type=Enter>,\n",
       " <tf.Operation 'while/gradients/gradients_1/Sum_grad/Tile_grad/stack' type=Pack>,\n",
       " <tf.Operation 'while/gradients/gradients_1/Sum_grad/Tile_grad/transpose/Rank' type=Rank>,\n",
       " <tf.Operation 'while/gradients/gradients_1/Sum_grad/Tile_grad/transpose/sub/y' type=Const>,\n",
       " <tf.Operation 'while/gradients/gradients_1/Sum_grad/Tile_grad/transpose/sub' type=Sub>,\n",
       " <tf.Operation 'while/gradients/gradients_1/Sum_grad/Tile_grad/transpose/Range/start' type=Const>,\n",
       " <tf.Operation 'while/gradients/gradients_1/Sum_grad/Tile_grad/transpose/Range/delta' type=Const>,\n",
       " <tf.Operation 'while/gradients/gradients_1/Sum_grad/Tile_grad/transpose/Range' type=Range>,\n",
       " <tf.Operation 'while/gradients/gradients_1/Sum_grad/Tile_grad/transpose/sub_1' type=Sub>,\n",
       " <tf.Operation 'while/gradients/gradients_1/Sum_grad/Tile_grad/transpose' type=Transpose>,\n",
       " <tf.Operation 'while/gradients/gradients_1/Sum_grad/Tile_grad/Reshape/shape' type=Const>,\n",
       " <tf.Operation 'while/gradients/gradients_1/Sum_grad/Tile_grad/Reshape' type=Reshape>,\n",
       " <tf.Operation 'while/gradients/gradients_1/Sum_grad/Tile_grad/Size' type=Const>,\n",
       " <tf.Operation 'while/gradients/gradients_1/Sum_grad/Tile_grad/range/start' type=Const>,\n",
       " <tf.Operation 'while/gradients/gradients_1/Sum_grad/Tile_grad/range/delta' type=Const>,\n",
       " <tf.Operation 'while/gradients/gradients_1/Sum_grad/Tile_grad/range' type=Range>,\n",
       " <tf.Operation 'while/gradients/gradients_1/Sum_grad/Tile_grad/Reshape_1' type=Reshape>,\n",
       " <tf.Operation 'while/gradients/gradients_1/Sum_grad/Tile_grad/Sum' type=Sum>,\n",
       " <tf.Operation 'while/gradients/sub_grad/Shape/Enter' type=Enter>,\n",
       " <tf.Operation 'while/gradients/sub_grad/Shape' type=Shape>,\n",
       " <tf.Operation 'while/gradients/sub_grad/Shape_1/Enter' type=Enter>,\n",
       " <tf.Operation 'while/gradients/sub_grad/Shape_1' type=Shape>,\n",
       " <tf.Operation 'while/gradients/sub_grad/BroadcastGradientArgs' type=BroadcastGradientArgs>,\n",
       " <tf.Operation 'while/gradients/sub_grad/Sum' type=Sum>,\n",
       " <tf.Operation 'while/gradients/sub_grad/Reshape' type=Reshape>,\n",
       " <tf.Operation 'while/gradients/sub_grad/Sum_1' type=Sum>,\n",
       " <tf.Operation 'while/gradients/sub_grad/Neg' type=Neg>,\n",
       " <tf.Operation 'while/gradients/sub_grad/Reshape_1' type=Reshape>,\n",
       " <tf.Operation 'while/gradients/THEMODEL_grad/Shape/Enter' type=Enter>,\n",
       " <tf.Operation 'while/gradients/THEMODEL_grad/Shape' type=Shape>,\n",
       " <tf.Operation 'while/gradients/THEMODEL_grad/Shape_1' type=Const>,\n",
       " <tf.Operation 'while/gradients/THEMODEL_grad/BroadcastGradientArgs' type=BroadcastGradientArgs>,\n",
       " <tf.Operation 'while/gradients/THEMODEL_grad/Sum' type=Sum>,\n",
       " <tf.Operation 'while/gradients/THEMODEL_grad/Reshape' type=Reshape>,\n",
       " <tf.Operation 'while/gradients/THEMODEL_grad/Sum_1' type=Sum>,\n",
       " <tf.Operation 'while/gradients/THEMODEL_grad/Reshape_1' type=Reshape>,\n",
       " <tf.Operation 'while/gradients/MatMul_grad/MatMul/Enter' type=Enter>,\n",
       " <tf.Operation 'while/gradients/MatMul_grad/MatMul' type=MatMul>,\n",
       " <tf.Operation 'while/gradients/MatMul_grad/MatMul_1' type=MatMul>,\n",
       " <tf.Operation 'while/gradients/strided_slice_1_grad/Shape' type=Const>,\n",
       " <tf.Operation 'while/gradients/strided_slice_1_grad/StridedSliceGrad' type=StridedSliceGrad>,\n",
       " <tf.Operation 'while/gradients/Reshape_grad/Shape' type=Const>,\n",
       " <tf.Operation 'while/gradients/Reshape_grad/Reshape' type=Reshape>,\n",
       " <tf.Operation 'while/gradients/strided_slice_grad/Shape' type=Const>,\n",
       " <tf.Operation 'while/gradients/strided_slice_grad/StridedSliceGrad' type=StridedSliceGrad>,\n",
       " <tf.Operation 'while/gradients/AddN_1' type=AddN>,\n",
       " <tf.Operation 'while/TensorArrayWrite/TensorArrayWriteV3/Enter' type=Enter>,\n",
       " <tf.Operation 'while/TensorArrayWrite/TensorArrayWriteV3' type=TensorArrayWriteV3>,\n",
       " <tf.Operation 'while/NextIteration' type=NextIteration>,\n",
       " <tf.Operation 'while/NextIteration_1' type=NextIteration>,\n",
       " <tf.Operation 'while/Exit' type=Exit>,\n",
       " <tf.Operation 'while/Exit_1' type=Exit>,\n",
       " <tf.Operation 'TensorArrayStack/TensorArraySizeV3' type=TensorArraySizeV3>,\n",
       " <tf.Operation 'TensorArrayStack/range/start' type=Const>,\n",
       " <tf.Operation 'TensorArrayStack/range/delta' type=Const>,\n",
       " <tf.Operation 'TensorArrayStack/range' type=Range>,\n",
       " <tf.Operation 'TensorArrayStack/TensorArrayGatherV3' type=TensorArrayGatherV3>,\n",
       " <tf.Operation 'Reshape_1/shape' type=Const>,\n",
       " <tf.Operation 'Reshape_1' type=Reshape>,\n",
       " <tf.Operation 'ExpandDims/dim' type=Const>,\n",
       " <tf.Operation 'ExpandDims' type=ExpandDims>,\n",
       " <tf.Operation 'MatrixSolve' type=MatrixSolve>,\n",
       " <tf.Operation 'Squeeze' type=Squeeze>,\n",
       " <tf.Operation 'Neg' type=Neg>,\n",
       " <tf.Operation 'AssignAdd' type=AssignAdd>,\n",
       " <tf.Operation 'init' type=NoOp>,\n",
       " <tf.Operation 'save/Const' type=Const>,\n",
       " <tf.Operation 'save/SaveV2/tensor_names' type=Const>,\n",
       " <tf.Operation 'save/SaveV2/shape_and_slices' type=Const>,\n",
       " <tf.Operation 'save/SaveV2' type=SaveV2>,\n",
       " <tf.Operation 'save/control_dependency' type=Identity>,\n",
       " <tf.Operation 'save/RestoreV2/tensor_names' type=Const>,\n",
       " <tf.Operation 'save/RestoreV2/shape_and_slices' type=Const>,\n",
       " <tf.Operation 'save/RestoreV2' type=RestoreV2>,\n",
       " <tf.Operation 'save/Assign' type=Assign>,\n",
       " <tf.Operation 'save/restore_all' type=NoOp>,\n",
       " <tf.Operation 'save/Const_1' type=Const>,\n",
       " <tf.Operation 'save/SaveV2_1/tensor_names' type=Const>,\n",
       " <tf.Operation 'save/SaveV2_1/shape_and_slices' type=Const>,\n",
       " <tf.Operation 'save/SaveV2_1' type=SaveV2>,\n",
       " <tf.Operation 'save/control_dependency_1' type=Identity>,\n",
       " <tf.Operation 'save/RestoreV2_1/tensor_names' type=Const>,\n",
       " <tf.Operation 'save/RestoreV2_1/shape_and_slices' type=Const>,\n",
       " <tf.Operation 'save/RestoreV2_1' type=RestoreV2>,\n",
       " <tf.Operation 'save/Assign_1' type=Assign>,\n",
       " <tf.Operation 'save/restore_all_1' type=NoOp>,\n",
       " <tf.Operation 'import/THEINPUT' type=Placeholder>,\n",
       " <tf.Operation 'import/Variable' type=Const>,\n",
       " <tf.Operation 'import/Variable/read' type=Identity>,\n",
       " <tf.Operation 'import/strided_slice/stack' type=Const>,\n",
       " <tf.Operation 'import/strided_slice/stack_2/values_0' type=Const>,\n",
       " <tf.Operation 'import/strided_slice/stack_2' type=Pack>,\n",
       " <tf.Operation 'import/strided_slice/stack_3' type=Const>,\n",
       " <tf.Operation 'import/strided_slice' type=StridedSlice>,\n",
       " <tf.Operation 'import/Reshape/shape' type=Const>,\n",
       " <tf.Operation 'import/Reshape' type=Reshape>,\n",
       " <tf.Operation 'import/strided_slice_1/stack' type=Const>,\n",
       " <tf.Operation 'import/strided_slice_1/stack_1' type=Const>,\n",
       " <tf.Operation 'import/strided_slice_1/stack_2' type=Const>,\n",
       " <tf.Operation 'import/strided_slice_1' type=StridedSlice>,\n",
       " <tf.Operation 'import/MatMul' type=MatMul>,\n",
       " <tf.Operation 'import/THEMODEL' type=Add>,\n",
       " <tf.Operation 'save_1/Const' type=Const>,\n",
       " <tf.Operation 'save_1/SaveV2/tensor_names' type=Const>,\n",
       " <tf.Operation 'save_1/SaveV2/shape_and_slices' type=Const>,\n",
       " <tf.Operation 'save_1/SaveV2' type=SaveV2>,\n",
       " <tf.Operation 'save_1/control_dependency' type=Identity>,\n",
       " <tf.Operation 'save_1/RestoreV2/tensor_names' type=Const>,\n",
       " <tf.Operation 'save_1/RestoreV2/shape_and_slices' type=Const>,\n",
       " <tf.Operation 'save_1/RestoreV2' type=RestoreV2>,\n",
       " <tf.Operation 'save_1/Assign' type=Assign>,\n",
       " <tf.Operation 'save_1/restore_all' type=NoOp>,\n",
       " <tf.Operation 'import_1/THEINPUT' type=Placeholder>,\n",
       " <tf.Operation 'import_1/Variable' type=Const>,\n",
       " <tf.Operation 'import_1/Variable/read' type=Identity>,\n",
       " <tf.Operation 'import_1/strided_slice/stack' type=Const>,\n",
       " <tf.Operation 'import_1/strided_slice/stack_2/values_0' type=Const>,\n",
       " <tf.Operation 'import_1/strided_slice/stack_2' type=Pack>,\n",
       " <tf.Operation 'import_1/strided_slice/stack_3' type=Const>,\n",
       " <tf.Operation 'import_1/strided_slice' type=StridedSlice>,\n",
       " <tf.Operation 'import_1/Reshape/shape' type=Const>,\n",
       " <tf.Operation 'import_1/Reshape' type=Reshape>,\n",
       " <tf.Operation 'import_1/strided_slice_1/stack' type=Const>,\n",
       " <tf.Operation 'import_1/strided_slice_1/stack_1' type=Const>,\n",
       " <tf.Operation 'import_1/strided_slice_1/stack_2' type=Const>,\n",
       " <tf.Operation 'import_1/strided_slice_1' type=StridedSlice>,\n",
       " <tf.Operation 'import_1/MatMul' type=MatMul>,\n",
       " <tf.Operation 'import_1/THEMODEL' type=Add>,\n",
       " <tf.Operation 'save/Const_2' type=Const>,\n",
       " <tf.Operation 'save/SaveV2_2/tensor_names' type=Const>,\n",
       " <tf.Operation 'save/SaveV2_2/shape_and_slices' type=Const>,\n",
       " <tf.Operation 'save/SaveV2_2' type=SaveV2>,\n",
       " <tf.Operation 'save/control_dependency_2' type=Identity>,\n",
       " <tf.Operation 'save/RestoreV2_2/tensor_names' type=Const>,\n",
       " <tf.Operation 'save/RestoreV2_2/shape_and_slices' type=Const>,\n",
       " <tf.Operation 'save/RestoreV2_2' type=RestoreV2>,\n",
       " <tf.Operation 'save/Assign_2' type=Assign>,\n",
       " <tf.Operation 'save/restore_all_2' type=NoOp>]"
      ]
     },
     "execution_count": 12,
     "metadata": {},
     "output_type": "execute_result"
    }
   ],
   "source": [
    "graph2.get_operations()"
   ]
  },
  {
   "cell_type": "markdown",
   "metadata": {},
   "source": [
    "It ended up with all of the nodes in there. We want a smaller graph to deploy. Maybe we don't want customers looking at our optimization algorithms. What we need is the extract_sub_graph utility. To save it, we realize that we don't need to actually save any of the variables, because we turned them all into constants!\\* We only need to save the meta graph. Without any variables, we don't need a session to do this. \n",
    "\n",
    "\\* tf.train.Saver({}) throws a value error instead of making an empty file. I don't like this behavior. I prefer interfaces that become quietly nilpotent. Forturnately we don't need to save anything because we can assume there are no variables to load."
   ]
  },
  {
   "cell_type": "code",
   "execution_count": 13,
   "metadata": {
    "collapsed": false,
    "scrolled": true
   },
   "outputs": [
    {
     "name": "stdout",
     "output_type": "stream",
     "text": [
      "INFO:tensorflow:Froze 1 variables.\n",
      "Converted 1 variables to const ops.\n"
     ]
    }
   ],
   "source": [
    "output_graph_def = \\\n",
    "    tf.graph_util.convert_variables_to_constants(\n",
    "        sess,graph.as_graph_def(),[\"THEMODEL\"])\n",
    "sub_output = tf.graph_util.extract_sub_graph(\n",
    "    output_graph_def, [\"THEMODEL\"])\n",
    "graph3=tf.Graph()\n",
    "with graph3.as_default():\n",
    "    a,b=tf.import_graph_def(sub_output,\n",
    "                            return_elements=['THEINPUT:0','THEMODEL:0'])\n",
    "    meta_graph_def = \\\n",
    "        tf.train.export_meta_graph(filename=\"frozenmodel2.meta\",\n",
    "                                   graph_def=graph3.as_graph_def())\n",
    "#with tf.Session(graph=graph3) as sess3:\n",
    "    #graph3.add_to_collection('variables',tf.Variable('null'))\n",
    "    #saver3 = tf.train.Saver({v.name:v for v in graph3.get_collection('variables')})\n",
    "    \n",
    "    #saver3.restore(sess3,'savemymodel')\n",
    "    #meta_graph_def = \\\n",
    "    #    tf.train.export_meta_graph(filename=\"frozenmodel.meta\",\n",
    "    #                               graph_def=sub_output)\n",
    "    #saver3.save(sess,'./frozenmodel')\n",
    "    #saver3.export_meta_graph('./frozenmodel.meta')\n"
   ]
  },
  {
   "cell_type": "code",
   "execution_count": 14,
   "metadata": {
    "collapsed": false,
    "scrolled": true
   },
   "outputs": [
    {
     "data": {
      "text/plain": [
       "[<tf.Operation 'import/THEINPUT' type=Placeholder>,\n",
       " <tf.Operation 'import/Variable' type=Const>,\n",
       " <tf.Operation 'import/Variable/read' type=Identity>,\n",
       " <tf.Operation 'import/strided_slice/stack' type=Const>,\n",
       " <tf.Operation 'import/strided_slice/stack_2/values_0' type=Const>,\n",
       " <tf.Operation 'import/strided_slice/stack_2' type=Pack>,\n",
       " <tf.Operation 'import/strided_slice/stack_3' type=Const>,\n",
       " <tf.Operation 'import/strided_slice' type=StridedSlice>,\n",
       " <tf.Operation 'import/Reshape/shape' type=Const>,\n",
       " <tf.Operation 'import/Reshape' type=Reshape>,\n",
       " <tf.Operation 'import/strided_slice_1/stack' type=Const>,\n",
       " <tf.Operation 'import/strided_slice_1/stack_1' type=Const>,\n",
       " <tf.Operation 'import/strided_slice_1/stack_2' type=Const>,\n",
       " <tf.Operation 'import/strided_slice_1' type=StridedSlice>,\n",
       " <tf.Operation 'import/MatMul' type=MatMul>,\n",
       " <tf.Operation 'import/THEMODEL' type=Add>]"
      ]
     },
     "execution_count": 14,
     "metadata": {},
     "output_type": "execute_result"
    }
   ],
   "source": [
    "graph3.get_operations()"
   ]
  },
  {
   "cell_type": "markdown",
   "metadata": {},
   "source": [
    "## Importing the frozen, variableless model\n",
    "\n",
    "Now lets go ahead and reimport everything. Saver complains again because there are no variables, but it still works. For some reason there's an 'import/' prepended to the names. There are no variables in the session, but we still need a session to do loads and evaluations."
   ]
  },
  {
   "cell_type": "code",
   "execution_count": 39,
   "metadata": {
    "collapsed": false
   },
   "outputs": [
    {
     "name": "stdout",
     "output_type": "stream",
     "text": [
      "INFO:tensorflow:Saver not created because there are no variables in the graph to restore\n",
      "[[ 0.000632]]\n"
     ]
    }
   ],
   "source": [
    "graph4 = tf.Graph()\n",
    "with tf.Session(graph=graph4) as sess4:\n",
    "    saver4 = tf.train.import_meta_graph('frozenmodel2.meta')\n",
    "    tf_x =graph4.get_tensor_by_name('import/THEINPUT:0') \n",
    "    model=graph4.get_tensor_by_name('import/THEMODEL:0')\n",
    "    \n",
    "    print model.eval(feed_dict={tf_x:np.array([[0.0,0.0]])},session=sess4)"
   ]
  },
  {
   "cell_type": "markdown",
   "metadata": {},
   "source": [
    "So, that's how we do that. Now we want to wrap all of this up into a subroutine that will also spit out the gradients we want. Then, i"
   ]
  },
  {
   "cell_type": "code",
   "execution_count": null,
   "metadata": {
    "collapsed": true
   },
   "outputs": [],
   "source": []
  }
 ],
 "metadata": {
  "kernelspec": {
   "display_name": "Python 2",
   "language": "python",
   "name": "python2"
  },
  "language_info": {
   "codemirror_mode": {
    "name": "ipython",
    "version": 2
   },
   "file_extension": ".py",
   "mimetype": "text/x-python",
   "name": "python",
   "nbconvert_exporter": "python",
   "pygments_lexer": "ipython2",
   "version": "2.7.12"
  }
 },
 "nbformat": 4,
 "nbformat_minor": 2
}
