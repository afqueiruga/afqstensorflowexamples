{
 "cells": [
  {
   "cell_type": "markdown",
   "metadata": {},
   "source": [
    "# Generating the gradients of model inputs\n",
    "\n",
    "Before we start saving our models to load them into a simulation framework, we need the gradients with respect to inputs. Implicit simulation algorithms need to generation tangent matrices to solve nonlinear equations of the form\n",
    "\\begin{equation}\n",
    "f(u) + \\underline{\\frac{\\partial f}{\\partial u}} \\Delta u = 0\n",
    "\\end{equation}\n",
    "where, for our application, the primary variables are $u$, the model is $f$ and the tangent we need is $\\partial f / \\partial u$. For standard theoretical equations that give the form of $f$, Popcorn uses symbolic differentiation to generate the tangent code. TensorFlow does gradients itself, but we need the gradients with respect to the inputs of the model, and not with respect to the parameters of the model as we did during training."
   ]
  },
  {
   "cell_type": "code",
   "execution_count": 2,
   "metadata": {
    "collapsed": true,
    "deletable": true,
    "editable": true
   },
   "outputs": [],
   "source": [
    "import numpy as np\n",
    "import tensorflow as tf"
   ]
  },
  {
   "cell_type": "markdown",
   "metadata": {},
   "source": [
    "Let's start off by loading the prototypical model we've been examining:"
   ]
  },
  {
   "cell_type": "code",
   "execution_count": 3,
   "metadata": {
    "collapsed": false,
    "deletable": true,
    "editable": true,
    "scrolled": true
   },
   "outputs": [
    {
     "name": "stdout",
     "output_type": "stream",
     "text": [
      "INFO:tensorflow:Restoring parameters from savemymodel\n"
     ]
    }
   ],
   "source": [
    "graph = tf.Graph()\n",
    "sess = tf.InteractiveSession(graph=graph)\n",
    "saver = tf.train.import_meta_graph('savemymodel.meta')\n",
    "saver.restore(sess,'savemymodel')\n",
    "tf_x =graph.get_tensor_by_name('THEINPUT:0') \n",
    "tf_y =graph.get_tensor_by_name('THEMODEL:0')"
   ]
  },
  {
   "cell_type": "markdown",
   "metadata": {},
   "source": [
    "We grab the input and output tensors, and then the operation node."
   ]
  },
  {
   "cell_type": "code",
   "execution_count": 6,
   "metadata": {
    "collapsed": true,
    "deletable": true,
    "editable": true
   },
   "outputs": [],
   "source": [
    "outp = graph.get_operation_by_name('THEMODEL')"
   ]
  },
  {
   "cell_type": "markdown",
   "metadata": {},
   "source": [
    "We have to take gradients with respect to the tensors, not the ops:"
   ]
  },
  {
   "cell_type": "code",
   "execution_count": 7,
   "metadata": {
    "collapsed": false,
    "deletable": true,
    "editable": true
   },
   "outputs": [],
   "source": [
    "grad = tf.gradients(tf_y,tf_x)\n",
    "g = grad[0]"
   ]
  },
  {
   "cell_type": "markdown",
   "metadata": {},
   "source": [
    "Now let's check out the gradient and see if it works. Because we only trained a linear fit to the data to keep things small, the gradient should be constant."
   ]
  },
  {
   "cell_type": "code",
   "execution_count": 8,
   "metadata": {
    "collapsed": false,
    "deletable": true,
    "editable": true
   },
   "outputs": [
    {
     "data": {
      "text/plain": [
       "array([[ 0.17217076, -0.2723155 ],\n",
       "       [ 0.17217076, -0.2723155 ],\n",
       "       [ 0.17217076, -0.2723155 ]], dtype=float32)"
      ]
     },
     "execution_count": 8,
     "metadata": {},
     "output_type": "execute_result"
    }
   ],
   "source": [
    "g.eval(feed_dict={tf_x:np.array([[9.0,2.0],[8.0,2.0],[8.0,1.0]])})"
   ]
  },
  {
   "cell_type": "markdown",
   "metadata": {},
   "source": [
    "Looks right! Those should just be values of the two parameters we had. Now let's look at what the gradient graph actually looks like."
   ]
  },
  {
   "cell_type": "code",
   "execution_count": 9,
   "metadata": {
    "collapsed": false,
    "deletable": true,
    "editable": true,
    "scrolled": false
   },
   "outputs": [
    {
     "name": "stdout",
     "output_type": "stream",
     "text": [
      "gradients/MatMul_grad/MatMul_2  :  MatMul\n",
      "    gradients/THEMODEL_grad/Reshape_2  :  Reshape\n",
      "        gradients/THEMODEL_grad/Sum_2  :  Sum\n",
      "            gradients/Fill_1  :  Fill\n",
      "                gradients/Shape_1  :  Shape\n",
      "                    THEMODEL  :  Add\n",
      "                        MatMul  :  MatMul\n",
      "                            THEINPUT  :  Placeholder\n",
      "                            Reshape  :  Reshape\n",
      "                                strided_slice  :  StridedSlice\n",
      "                                    Variable/read  :  Identity\n",
      "                                        Variable  :  VariableV2\n",
      "                                    strided_slice/stack  :  Const\n",
      "                                    strided_slice/stack_2  :  Pack\n",
      "                                        strided_slice/stack_2/values_0  :  Const\n",
      "                                    strided_slice/stack_3  :  Const\n",
      "                                Reshape/shape  :  Const\n",
      "                        strided_slice_1  :  StridedSlice\n",
      "                            Variable/read  :  Identity\n",
      "                                Variable  :  VariableV2\n",
      "                            strided_slice_1/stack  :  Const\n",
      "                            strided_slice_1/stack_1  :  Const\n",
      "                            strided_slice_1/stack_2  :  Const\n",
      "                gradients/Const_1  :  Const\n",
      "            gradients/THEMODEL_grad/BroadcastGradientArgs_1  :  BroadcastGradientArgs\n",
      "                gradients/THEMODEL_grad/Shape_2  :  Shape\n",
      "                    MatMul  :  MatMul\n",
      "                        THEINPUT  :  Placeholder\n",
      "                        Reshape  :  Reshape\n",
      "                            strided_slice  :  StridedSlice\n",
      "                                Variable/read  :  Identity\n",
      "                                    Variable  :  VariableV2\n",
      "                                strided_slice/stack  :  Const\n",
      "                                strided_slice/stack_2  :  Pack\n",
      "                                    strided_slice/stack_2/values_0  :  Const\n",
      "                                strided_slice/stack_3  :  Const\n",
      "                            Reshape/shape  :  Const\n",
      "                gradients/THEMODEL_grad/Shape_3  :  Const\n",
      "        gradients/THEMODEL_grad/Shape_2  :  Shape\n",
      "            MatMul  :  MatMul\n",
      "                THEINPUT  :  Placeholder\n",
      "                Reshape  :  Reshape\n",
      "                    strided_slice  :  StridedSlice\n",
      "                        Variable/read  :  Identity\n",
      "                            Variable  :  VariableV2\n",
      "                        strided_slice/stack  :  Const\n",
      "                        strided_slice/stack_2  :  Pack\n",
      "                            strided_slice/stack_2/values_0  :  Const\n",
      "                        strided_slice/stack_3  :  Const\n",
      "                    Reshape/shape  :  Const\n",
      "    Reshape  :  Reshape\n",
      "        strided_slice  :  StridedSlice\n",
      "            Variable/read  :  Identity\n",
      "                Variable  :  VariableV2\n",
      "            strided_slice/stack  :  Const\n",
      "            strided_slice/stack_2  :  Pack\n",
      "                strided_slice/stack_2/values_0  :  Const\n",
      "            strided_slice/stack_3  :  Const\n",
      "        Reshape/shape  :  Const\n"
     ]
    }
   ],
   "source": [
    "from afqstensorutils import travel_op\n",
    "travel_op(g.op)"
   ]
  },
  {
   "cell_type": "markdown",
   "metadata": {},
   "source": [
    "Oy! That looks awfully big for what should be a single invocation of the Variable. Let's compare it to the size of the original graph:"
   ]
  },
  {
   "cell_type": "code",
   "execution_count": 29,
   "metadata": {
    "collapsed": false,
    "deletable": true,
    "editable": true
   },
   "outputs": [
    {
     "name": "stdout",
     "output_type": "stream",
     "text": [
      " THEMODEL  :  Add\n",
      "    MatMul  :  MatMul\n",
      "        THEINPUT  :  Placeholder\n",
      "        Reshape  :  Reshape\n",
      "            strided_slice  :  StridedSlice\n",
      "                Variable/read  :  Identity\n",
      "                    Variable  :  VariableV2\n",
      "                strided_slice/stack  :  Const\n",
      "                strided_slice/stack_2  :  Pack\n",
      "                    strided_slice/stack_2/values_0  :  Const\n",
      "                strided_slice/stack_3  :  Const\n",
      "            Reshape/shape  :  Const\n",
      "    strided_slice_1  :  StridedSlice\n",
      "        Variable/read  :  Identity\n",
      "            Variable  :  VariableV2\n",
      "        strided_slice_1/stack  :  Const\n",
      "        strided_slice_1/stack_1  :  Const\n",
      "        strided_slice_1/stack_2  :  Const\n"
     ]
    }
   ],
   "source": [
    "travel_op(tf_y.op)"
   ]
  },
  {
   "cell_type": "markdown",
   "metadata": {
    "deletable": true,
    "editable": true
   },
   "source": [
    "The original model had a really small graph, but taking the gradient expands it. This makes sense in the general case. However, we're going to want the ability to simplify things ahead of time. For example, in this instance, we know that there is no actual computation to be done because the gradient is a constant. Loading the graphs and using the C API won't be viable in the long term without figuring out how to do ahead-of-time simplifications. [Fortunately, TensorFlow now has an AOT compiler.](https://www.tensorflow.org/performance/xla/tfcompile) Our next step will be figuring out how to use that instead of the C API wrapper we wrote and seeing what the performance increase it."
   ]
  },
  {
   "cell_type": "code",
   "execution_count": null,
   "metadata": {
    "collapsed": true
   },
   "outputs": [],
   "source": []
  }
 ],
 "metadata": {
  "kernelspec": {
   "display_name": "tensorflow",
   "language": "python",
   "name": "tensorflow"
  },
  "language_info": {
   "codemirror_mode": {
    "name": "ipython",
    "version": 2
   },
   "file_extension": ".py",
   "mimetype": "text/x-python",
   "name": "python",
   "nbconvert_exporter": "python",
   "pygments_lexer": "ipython2",
   "version": "2.7.12"
  }
 },
 "nbformat": 4,
 "nbformat_minor": 2
}
